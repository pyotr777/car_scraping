{
 "cells": [
  {
   "cell_type": "code",
   "execution_count": 1,
   "metadata": {},
   "outputs": [],
   "source": [
    "import lxml.html\n",
    "import requests\n",
    "import re\n",
    "import os\n",
    "import time\n",
    "import datetime\n",
    "import pandas as pd\n",
    "from pprint import pprint\n",
    "import plotly.express as px\n",
    "import plotly.graph_objects as go\n",
    "import seaborn as sns"
   ]
  },
  {
   "cell_type": "code",
   "execution_count": 2,
   "metadata": {},
   "outputs": [
    {
     "name": "stdout",
     "output_type": "stream",
     "text": [
      "Pandas: 1.2.3\n"
     ]
    }
   ],
   "source": [
    "print(\"Pandas:\",pd.__version__)"
   ]
  },
  {
   "cell_type": "markdown",
   "metadata": {},
   "source": [
    "## Functions"
   ]
  },
  {
   "cell_type": "code",
   "execution_count": 3,
   "metadata": {},
   "outputs": [],
   "source": [
    "def get_details(urls):\n",
    "    \"\"\"\n",
    "    input:\n",
    "        - urls: generator object, 詳細ページのurlを生成するgenerator\n",
    "    output: usedcars DF\n",
    "    \"\"\"\n",
    "    carsDF = None\n",
    "    for url in urls:\n",
    "        key = extract_key(url)    \n",
    "        usedcar = scrape_detail_page(url, key)\n",
    "        try:\n",
    "            df_ = pd.DataFrame(usedcar,index=[0])\n",
    "        except Exception as e:\n",
    "            print(e)\n",
    "            print(\"Error converting dict to DF\")\n",
    "            pprint(usedcar)\n",
    "            return None\n",
    "        if carsDF is None:\n",
    "            carsDF = df_\n",
    "        else:\n",
    "            carsDF = pd.concat([carsDF,df_],ignore_index=True)\n",
    "    return carsDF\n",
    "        \n",
    "\n",
    "\n",
    "def get_lastpage_num(url):\n",
    "    \"\"\"\n",
    "    リストページのhtmlからリストページの総数を取得して返す\n",
    "    intput:\n",
    "        - url: str\n",
    "    output:\n",
    "        - last_num: int, リストページ数\n",
    "    \"\"\"\n",
    "    response = requests.get(url)\n",
    "    root = lxml.html.fromstring(response.content)\n",
    "    # 最後のlistページのurlを取得する\n",
    "    last_page = root.cssselect(CSS_LAST_PAGE_NUM)[0]\n",
    "    # urlから最後のindex番号を取得する\n",
    "    last_index = last_page.get('href').split(\"/\")[-1]\n",
    "    m = re.search('index([0-9]+)', last_index)\n",
    "    # re.search()でマッチしなかった場合のエラー処理\n",
    "    if m is None:\n",
    "        raise ValueError('index.html of last page is not found')\n",
    "    last_num = int(m.group(1))\n",
    "    return last_num\n",
    "\n",
    "\n",
    "def scrape_list_page(url):\n",
    "    \"\"\"\n",
    "    リストページから詳細ページのurlを取得し、生成する(generator object)\n",
    "    input:\n",
    "        - url: str, リストページのurl\n",
    "    output:\n",
    "        generator object, 詳細ページのurlを生成する\n",
    "    \"\"\"\n",
    "    # webページ読み込み、response.contentから文字列を取得してパース\n",
    "    response = requests.get(url)\n",
    "    root = lxml.html.fromstring(response.content)\n",
    "    # 全てのurlを絶対urlに変換\n",
    "    root.make_links_absolute(response.url)\n",
    "    htmlElems = root.cssselect(CSS_DETAIL_PAGE_URL)\n",
    "    for elem in htmlElems:\n",
    "        url = elem.get('href')\n",
    "        yield url\n",
    "\n",
    "\n",
    "def scrape_detail_page(url, key):\n",
    "    \"\"\"\n",
    "    詳細ページから各種情報を取得し、dictで返す\n",
    "    input:\n",
    "        - url: str, 詳細ページのurl\n",
    "        - key: str, 詳細ページのurlに対するキー\n",
    "    output:\n",
    "        - usedcar: dict, dbに格納するドキュメント\n",
    "    \"\"\"\n",
    "    true_mark = \"◯\"\n",
    "\n",
    "    response = requests.get(url)\n",
    "    root = lxml.html.fromstring(response.content)\n",
    "\n",
    "    # 本体価格---------------------------------------------------------------\n",
    "    base_price = root.cssselect(CSS_BODY_PRICE)\n",
    "    base_price = base_price[0].get('content').replace(',', '')\n",
    "    base_price = int(base_price)\n",
    "    # 本体価格応相談の場合はNullにする\n",
    "    if base_price > 90000000:\n",
    "        base_price = None\n",
    "    # 支払総額---------------------------------------------------------------\n",
    "    total_price = root.cssselect(CSS_TOTAL_PRICE)\n",
    "    total_price = total_price[0].text_content()\n",
    "    total_price = re.sub(r'\\n(\\t)+', '', total_price).replace('万円', '')\n",
    "    try:\n",
    "        total_price = int(float(total_price) * 10000)\n",
    "    except ValueError:\n",
    "        total_price = None\n",
    "    # 年式---------------------------------------------------------------\n",
    "    model_year = root.cssselect(CSS_MODEL_YEAR)\n",
    "    model_year = model_year[0].text\n",
    "    model_year = int(model_year)\n",
    "    # 走行距離---------------------------------------------------------------\n",
    "    distance = root.cssselect(CSS_DISTANCE)\n",
    "    distance = distance[0].text_content()\n",
    "    distance = re.sub(r'\\n(\\t)+', '', distance).strip().replace('走行距離', '')\n",
    "    if '万' in distance:\n",
    "        distance = distance.replace('万km', '')\n",
    "        try:\n",
    "            distance = float(distance)\n",
    "        except ValueError:\n",
    "            distance = None\n",
    "    else:\n",
    "        distance = distance.replace('km', '')\n",
    "        try:\n",
    "            distance = float(distance) / 10000\n",
    "        except ValueError:\n",
    "            distance = None\n",
    "    # 車検---------------------------------------------------------------\n",
    "    inspection = root.cssselect(CSS_INSPECTION)\n",
    "    inspection = inspection[0].text_content()\n",
    "    inspection = re.sub(r'\\n(\\t)+', '', inspection).replace('車検有無', '')\n",
    "    # 修復歴---------------------------------------------------------------\n",
    "    repare = root.cssselect(CSS_REPARE)\n",
    "    repare = repare[0].text\n",
    "    # 本体情報等---------------------------------------------------------------\n",
    "    info = root.cssselect(CSS_CAR_INFO)\n",
    "    info = info[0].text\n",
    "    info = info.replace(EM_SPACE, ' ').replace(NBSP, ' ')\n",
    "    # 駆動方式----------------------------------------------------------------\n",
    "    try:\n",
    "        drive = root.cssselect(CSS_DRIVE)\n",
    "        drive = drive[0].text\n",
    "    except IndexError:\n",
    "        css_drive_tmp = CSS_DRIVE.replace(\n",
    "            'section:nth-child(5)', 'section:nth-child(4)'\n",
    "        )\n",
    "        drive = root.cssselect(css_drive_tmp)\n",
    "        try:\n",
    "            drive = drive[0].text\n",
    "        except IndexError:            \n",
    "            drive=''\n",
    "    # リサイクル料-------------------------------------------------------------\n",
    "    recycle = root.cssselect(CSS_RECYCLE)\n",
    "    recycle = recycle[0].text\n",
    "    # 法定整備---------------------------------------------------------------\n",
    "    legal_maintenance = root.cssselect(CSS_LEGAL_MAINTENANCE)\n",
    "    legal_maintenance = legal_maintenance[0].text\n",
    "    # 保証---------------------------------------------------------------\n",
    "    warranty = root.cssselect(CSS_WARRANTY)\n",
    "    warranty = warranty[0].text\n",
    "    warranty = warranty.replace(EM_SPACE, ' ')\n",
    "    # ワンオーナー------------------------------------------------------------\n",
    "    one_owner = root.cssselect(CSS_ONE_OWNER)\n",
    "    one_owner = one_owner[0].text\n",
    "    if one_owner == true_mark:\n",
    "        one_owner = 1\n",
    "    else:\n",
    "        one_owner = 0\n",
    "    # 定期点検記録簿-----------------------------------------------------------\n",
    "    record_book = root.cssselect(CSS_RECORD_BOOK)\n",
    "    record_book = record_book[0].text\n",
    "    if record_book == true_mark:\n",
    "        record_book = 1\n",
    "    else:\n",
    "        record_book = 0\n",
    "    # 禁煙車---------------------------------------------------------------\n",
    "    no_smoke = root.cssselect(CSS_NO_SMOKE)\n",
    "    no_smoke = no_smoke[0].text\n",
    "    if no_smoke == true_mark:\n",
    "        no_smoke = 1\n",
    "    else:\n",
    "        no_smoke = 0\n",
    "    # 地域-----------------------------------------------------------------\n",
    "    region = root.cssselect(CSS_REGION)\n",
    "    region = region[0].text\n",
    "\n",
    "    usedcar = {\n",
    "        'url': response.url,\n",
    "        'base_price': base_price,\n",
    "        'total_price': total_price,\n",
    "        'model_year': model_year,\n",
    "        'distance': distance,\n",
    "        'repare': repare,\n",
    "        'inspection': inspection,\n",
    "        'info': normalize_spaces(info),\n",
    "        'drive': drive,\n",
    "        'recycle': recycle,\n",
    "        'legal_maintenance': legal_maintenance,\n",
    "        'warranty': warranty,\n",
    "        'one_owner': one_owner,\n",
    "        'record_book': record_book,\n",
    "        'no_smoke': no_smoke,\n",
    "        'key': key,\n",
    "        'region': region\n",
    "    }\n",
    "\n",
    "    # オプション情報を取得してusedcarに追加\n",
    "    options = get_options_state(root)\n",
    "    usedcar.update(options)\n",
    "    return usedcar\n",
    "\n",
    "\n",
    "def get_options_state(root):\n",
    "    \"\"\"\n",
    "    車両のオプション情報を取得する\n",
    "    input:\n",
    "        - root: lxml.html.\n",
    "    \"\"\"\n",
    "    # オプション一覧を辞書にまとめる\n",
    "    options = {\n",
    "        'keyless': CSS_KEYLESS,\n",
    "        'smartkey': CSS_SMARTKEY,\n",
    "        'navi': CSS_NAVI,\n",
    "        'TV': CSS_TV,\n",
    "        'video': CSS_VIDEO,\n",
    "        'audio': CSS_AUDIO,\n",
    "        'player': CSS_PLAYER,\n",
    "        'monitor': CSS_MONITOR,\n",
    "        'ETC': CSS_ETC,\n",
    "        'sheat_air': CSS_SHEAT_AIR,\n",
    "        'sheat_heater': CSS_SHEAT_HEATER,\n",
    "        'idling_stop': CSS_IDLINGSTOP,\n",
    "        'AS_sensor': CSS_AS_SENSOR,\n",
    "        'cruise': CSS_CRUISE,\n",
    "        'ABS': CSS_ABS,\n",
    "        'ESC': CSS_ESC,\n",
    "        'anti_theft': CSS_ANTI_THEFT,\n",
    "        'auto_brake': CSS_AUTO_BRAKE,\n",
    "        'parking_assist': CSS_PARKING_ASSIST,\n",
    "        'airbag': CSS_AIRBAG,\n",
    "        'headlight': CSS_HEADLIGHT,\n",
    "        'camera': CSS_CAMERA,\n",
    "        'around_camera': CSS_AROUND_CAMERA,\n",
    "        'aero': CSS_AERO,\n",
    "        'alumi_wheel': CSS_ALUMI_WHEEL,\n",
    "        'lowdown': CSS_LOWDOWN,\n",
    "        'liftup': CSS_LIFTUP,\n",
    "        'cold_area': CSS_COLD_AREA\n",
    "    }\n",
    "    result = {}\n",
    "    for key, option in options.items():\n",
    "        htmlElems = root.cssselect(option)\n",
    "        if len(htmlElems) == 0:\n",
    "            option = option.replace(\n",
    "                'section:nth-child(6)', 'section:nth-child(7)'\n",
    "            )\n",
    "            htmlElems = root.cssselect(option)\n",
    "        if len(htmlElems) == 0:\n",
    "            option = option.replace(\n",
    "                'section:nth-child(7)', 'section:nth-child(5)'\n",
    "            )\n",
    "            htmlElems = root.cssselect(option)\n",
    "        result[key] = get_option_value(key, htmlElems)\n",
    "    return result\n",
    "\n",
    "\n",
    "def get_option_value(key, elem):\n",
    "    \"\"\"\n",
    "    option辞書に入れるvalue値を取得する\n",
    "    input:\n",
    "        - key: str, オプション名\n",
    "        - elem: 詳細ページのlxml.html.HTMLElemオブジェクト\n",
    "    output:\n",
    "        - value: int or str, option辞書のkeyに対するvalue\n",
    "    \"\"\"\n",
    "    class_id = elem[0].attrib['class']\n",
    "    if 'active' in class_id:\n",
    "        text = elem[0].text\n",
    "        if key in ['navi', 'video', 'audio', 'airbag', 'camera']:\n",
    "            value = text.split('：')[-1]\n",
    "        elif key == 'TV':\n",
    "            if 'フルセグ' in text:\n",
    "                value = 'フルセグ'\n",
    "            else:\n",
    "                value = 'ワンセグ'\n",
    "        elif key == \"headlight\":\n",
    "            if 'ディスチャージ' in text:\n",
    "                value = 'ディスチャージドランプ'\n",
    "            else:\n",
    "                value = 'LED'\n",
    "        else:\n",
    "            value = 1\n",
    "    else:\n",
    "        value = 0\n",
    "    return value\n",
    "\n",
    "\n",
    "def normalize_spaces(s):\n",
    "    \"\"\"\n",
    "    文字列内の連続する空白を一つにし、前後の空白を削除する\n",
    "    input:\n",
    "        - s: str\n",
    "    output: str\n",
    "    \"\"\"\n",
    "    return re.sub(r'\\s+', ' ', s).strip()\n",
    "\n",
    "\n",
    "def extract_key(url):\n",
    "    \"\"\"\n",
    "    詳細ページのurlからキーを取得し、返す\n",
    "    input:\n",
    "        - url: str, 詳細ページのurl\n",
    "    output: str\n",
    "    \"\"\"\n",
    "    key = url.split('/')[-2]\n",
    "#     if not key.startswith('CU'):\n",
    "#         raise ValueError('key extract error, detail url is wrong')\n",
    "    return key\n",
    "\n",
    "\n",
    "# Constract URL for car parameters\n",
    "def getURL(model, **kwargs):    \n",
    "    baseurl = 'https://www.carsensor.net/usedcar/' + model_dict[model]\n",
    "    if 'AR' in kwargs:\n",
    "        ar = kwargs.pop('AR')\n",
    "        baseurl += \"a{}/\".format(ar)\n",
    "\n",
    "    search = []\n",
    "    for k,v in parameters.items():\n",
    "        search.append(\"{}={}\".format(k,v))\n",
    "    url = baseurl + \"index.html?\" + \"&\".join(search)\n",
    "    return url"
   ]
  },
  {
   "cell_type": "markdown",
   "metadata": {},
   "source": [
    "## Initialization"
   ]
  },
  {
   "cell_type": "code",
   "execution_count": 4,
   "metadata": {},
   "outputs": [],
   "source": [
    "# 車両基本情報のCSS selector\n",
    "CSS_BODY_PRICE = 'body > div.page > div:nth-child(6) > main > section > div > div.column__sub > div.priceWrap > div.basePrice > p.basePrice__price'\n",
    "CSS_TOTAL_PRICE = 'body > div.page > div:nth-child(6) > main > section > div > div.column__sub > div.priceWrap > div.totalPrice > p.totalPrice__price'\n",
    "CSS_MODEL_YEAR = 'body > div.page > div:nth-child(6) > main > section > div > div.column__sub > div.specWrap > div:nth-child(1) > p.specWrap__box__num'\n",
    "CSS_DISTANCE = 'body > div.page > div:nth-child(6) > main > section > div > div.column__sub > div.specWrap > div:nth-child(2)'\n",
    "CSS_INSPECTION = 'body > div.page > div:nth-child(6) > main > section > div > div.column__sub > div.specWrap > div:nth-child(3)'\n",
    "CSS_REPARE = 'body > div.page > div:nth-child(6) > main > section > div > div.column__sub > div.specWrap > div:nth-child(4) > p:nth-child(2)'\n",
    "CSS_CAR_INFO = 'body > div.page > div:nth-child(6) > main > section > h2 > span'\n",
    "CSS_DRIVE = 'body > div.page > div:nth-child(8) > div > div.column__main > section:nth-child(5) > div > table > tbody > tr:nth-child(1) > td:nth-child(4)'\n",
    "CSS_RECYCLE = 'body > div.page > div:nth-child(8) > div > div.column__main > section:nth-child(2) > div > table > tbody > tr:nth-child(6) > td:nth-child(2)'\n",
    "CSS_LEGAL_MAINTENANCE = 'body > div.page > div:nth-child(8) > div > div.column__main > section:nth-child(2) > div > table > tbody > tr:nth-child(9) > td > p'\n",
    "CSS_WARRANTY = 'body > div.page > div:nth-child(8) > div > div.column__main > section:nth-child(2) > div > table > tbody > tr:nth-child(10) > td > p'\n",
    "CSS_ONE_OWNER = 'body > div.page > div:nth-child(8) > div > div.column__main > section:nth-child(2) > div > table > tbody > tr:nth-child(1) > td:nth-child(4)'\n",
    "CSS_RECORD_BOOK = 'body > div.page > div:nth-child(8) > div > div.column__main > section:nth-child(2) > div > table > tbody > tr:nth-child(4) > td:nth-child(2)'\n",
    "CSS_NO_SMOKE = 'body > div.page > div:nth-child(8) > div > div.column__main > section:nth-child(2) > div > table > tbody > tr:nth-child(5) > td:nth-child(2)'\n",
    "CSS_REGION = 'body > div.page > div:nth-child(6) > main > section > div > div.column__sub > div.specWrap > div:nth-child(5) > p:nth-child(2)'\n",
    "\n",
    "# 一覧ページのページ数を取得するCSS selector\n",
    "CSS_LAST_PAGE_NUM = '#js-resultBar > div.resultBar__link > div > div.pager__text > a:nth-child(12)'\n",
    "# 詳細ページのURL　CSS selector\n",
    "CSS_DETAIL_PAGE_URL = '#carList h3[class=\"casetMedia__body__title\"] > a'\n",
    "\n",
    "# オプション CSS selector\n",
    "CSS_KEYLESS = 'body > div.page > div:nth-child(8) > div > div.column__main > section:nth-child(6) > div > ul > li:nth-child(5)'\n",
    "CSS_SMARTKEY = 'body > div.page > div:nth-child(8) > div > div.column__main > section:nth-child(6) > div > ul > li:nth-child(6)'\n",
    "CSS_NAVI = 'body > div.page > div:nth-child(8) > div > div.column__main > section:nth-child(6) > div > ul > li:nth-child(7)'\n",
    "CSS_TV = 'body > div.page > div:nth-child(8) > div > div.column__main > section:nth-child(6) > div > ul > li:nth-child(8)'\n",
    "CSS_VIDEO = 'body > div.page > div:nth-child(8) > div > div.column__main > section:nth-child(6) > div > ul > li:nth-child(9)'\n",
    "CSS_AUDIO = 'body > div.page > div:nth-child(8) > div > div.column__main > section:nth-child(6) > div > ul > li:nth-child(10)'\n",
    "CSS_PLAYER = 'body > div.page > div:nth-child(8) > div > div.column__main > section:nth-child(6) > div > ul > li:nth-child(11)'\n",
    "CSS_MONITOR = 'body > div.page > div:nth-child(8) > div > div.column__main > section:nth-child(6) > div > ul > li:nth-child(12)'\n",
    "CSS_ETC = 'body > div.page > div:nth-child(8) > div > div.column__main > section:nth-child(6) > div > ul > li:nth-child(13)'\n",
    "CSS_SHEAT_AIR = 'body > div.page > div:nth-child(8) > div > div.column__main > section:nth-child(6) > div > ul > li:nth-child(18)'\n",
    "CSS_SHEAT_HEATER = 'body > div.page > div:nth-child(8) > div > div.column__main > section:nth-child(6) > div > ul > li:nth-child(19)'\n",
    "CSS_LEATHER_SHEAT = 'body > div.page > div:nth-child(8) > div > div.column__main > section:nth-child(6) > div > ul > li:nth-child(22)'\n",
    "CSS_IDLINGSTOP = 'body > div.page > div:nth-child(8) > div > div.column__main > section:nth-child(6) > div > ul > li:nth-child(23)'\n",
    "CSS_AS_SENSOR = 'body > div.page > div:nth-child(8) > div > div.column__main > section:nth-child(6) > div > ul > li:nth-child(24)'\n",
    "CSS_CRUISE = 'body > div.page > div:nth-child(8) > div > div.column__main > section:nth-child(6) > div > ul > li:nth-child(25)'\n",
    "CSS_ABS = 'body > div.page > div:nth-child(8) > div > div.column__main > section:nth-child(6) > div > ul > li:nth-child(26)'\n",
    "CSS_ESC = 'body > div.page > div:nth-child(8) > div > div.column__main > section:nth-child(6) > div > ul > li:nth-child(27)'\n",
    "CSS_ANTI_THEFT = 'body > div.page > div:nth-child(8) > div > div.column__main > section:nth-child(6) > div > ul > li:nth-child(28)'\n",
    "CSS_AUTO_BRAKE = 'body > div.page > div:nth-child(8) > div > div.column__main > section:nth-child(6) > div > ul > li:nth-child(29)'\n",
    "CSS_PARKING_ASSIST = 'body > div.page > div:nth-child(8) > div > div.column__main > section:nth-child(6) > div > ul > li:nth-child(30)'\n",
    "CSS_AIRBAG = 'body > div.page > div:nth-child(8) > div > div.column__main > section:nth-child(6) > div > ul > li:nth-child(31)'\n",
    "CSS_HEADLIGHT = 'body > div.page > div:nth-child(8) > div > div.column__main > section:nth-child(6) > div > ul > li:nth-child(32)'\n",
    "CSS_CAMERA = 'body > div.page > div:nth-child(8) > div > div.column__main > section:nth-child(6) > div > ul > li:nth-child(33)'\n",
    "CSS_AROUND_CAMERA = 'body > div.page > div:nth-child(8) > div > div.column__main > section:nth-child(6) > div > ul > li:nth-child(34)'\n",
    "CSS_AERO = 'body > div.page > div:nth-child(8) > div > div.column__main > section:nth-child(6) > div > ul > li:nth-child(37)'\n",
    "CSS_ALUMI_WHEEL = 'body > div.page > div:nth-child(8) > div > div.column__main > section:nth-child(6) > div > ul > li:nth-child(38)'\n",
    "CSS_LOWDOWN = 'body > div.page > div:nth-child(8) > div > div.column__main > section:nth-child(6) > div > ul > li:nth-child(39)'\n",
    "CSS_LIFTUP = 'body > div.page > div:nth-child(8) > div > div.column__main > section:nth-child(6) > div > ul > li:nth-child(40)'\n",
    "CSS_COLD_AREA = 'body > div.page > div:nth-child(8) > div > div.column__main > section:nth-child(6) > div > ul > li:nth-child(41)'\n",
    "\n",
    "\n",
    "# EMスペース、ノーブレークスペースの符号\n",
    "EM_SPACE = '\\u3000'\n",
    "NBSP = '\\xa0'\n",
    "\n",
    "\n",
    "parameters = {\n",
    "    \"AR\":34,      # Chiba\n",
    "    \"PMAX\":800000, # Max price\n",
    "    \"SMAX\":70000, # travelled distance\n",
    "    \"YMIN\":2014,  \n",
    "    \"SP\":\"H\"      # Hybrid\n",
    "}\n",
    "\n",
    "model_dict = {\n",
    "    'FIT': 'bHO/s028/',\n",
    "    'SHUTTLE': 'bHO/s107/',\n",
    "    'GRACE': 'bHO/s103/',\n",
    "    'JADE': 'bHO/s105/',\n",
    "    'FIELDER': 'bTO/s046/',\n",
    "    'VITZ': 'bTO/s018/',\n",
    "    'AQUA': 'bTO/s228/',\n",
    "    'NOTE': 'bNI/s008/'\n",
    "}\n",
    "\n",
    "\n",
    "\n",
    "\n",
    "URL_DICT = {\n",
    "    'FIT': 'https://www.carsensor.net/usedcar/bHO/s028/index.html',\n",
    "    'FIT:CHIBA:HYBRID': 'https://www.carsensor.net/usedcar/bHO/s028/a34/index.html?OPTCD=ETC1&PMAX=1400000&SMAX=70000&SP=H',\n",
    "    'SHUTTLE': 'https://www.carsensor.net/usedcar/bHO/s107/index.html',\n",
    "    'SHUTTLE:CHIBA':       'https://www.carsensor.net/usedcar/index.html?STID=CS210610&AR=34&CARC=HO_S107',\n",
    "    'SHUTTLE:CHIBA:p80max': 'https://www.carsensor.net/usedcar/search.php?STID=CS210610&CARC=HO_S107&AR=34&PMAX=800000',\n",
    "    'FIELDER': 'https://www.carsensor.net/usedcar/bTO/s046/spH/index.html',\n",
    "    'FIELDER:CHIBA:p80max': 'https://www.carsensor.net/usedcar/search.php?STID=CS210610&CARC=TO_S046&AR=34&PMAX=800000&',\n",
    "    'FIELDER:CHIBA:p80max:s70max:ymin2014':'https://www.carsensor.net/usedcar/search.php?STID=CS210610&CARC=TO_S046&AR=34&PMAX=800000&SMAX=70000&YMIN=2014'\n",
    "}"
   ]
  },
  {
   "cell_type": "markdown",
   "metadata": {},
   "source": [
    "## Code "
   ]
  },
  {
   "cell_type": "code",
   "execution_count": 5,
   "metadata": {},
   "outputs": [
    {
     "name": "stdout",
     "output_type": "stream",
     "text": [
      "https://www.carsensor.net/usedcar/bHO/s028/a34/index.html?AR=34&PMAX=900000&SMAX=100000&YMIN=2013&SP=H   FIT   1 pp. 30\n",
      "https://www.carsensor.net/usedcar/bHO/s107/a34/index.html?AR=34&PMAX=900000&SMAX=100000&YMIN=2013&SP=H   SHUTTLE   1 pp. 3\n",
      "https://www.carsensor.net/usedcar/bHO/s103/a34/index.html?AR=34&PMAX=900000&SMAX=100000&YMIN=2013&SP=H   GRACE   1 pp. 4\n",
      "https://www.carsensor.net/usedcar/bHO/s105/a34/index.html?AR=34&PMAX=900000&SMAX=100000&YMIN=2013&SP=H   JADE   1 pp. 1\n",
      "https://www.carsensor.net/usedcar/bTO/s046/a34/index.html?AR=34&PMAX=900000&SMAX=100000&YMIN=2013&SP=H   FIELDER   1 pp. 10\n",
      "https://www.carsensor.net/usedcar/bTO/s018/a34/index.html?AR=34&PMAX=900000&SMAX=100000&YMIN=2013&SP=H   VITZ   1 pp. 1\n",
      "https://www.carsensor.net/usedcar/bTO/s228/a34/index.html?AR=34&PMAX=900000&SMAX=100000&YMIN=2013&SP=H   AQUA   1 pp. 30\n",
      "https://www.carsensor.net/usedcar/bNI/s008/a34/index.html?AR=34&PMAX=900000&SMAX=100000&YMIN=2013&SP=H   NOTE   1 pp. 2\n"
     ]
    }
   ],
   "source": [
    "parameters = {\n",
    "    \"AR\": 34,  # Chiba\n",
    "    \"PMAX\": 900000,  # Max price\n",
    "    \"SMAX\": 100000,  # travelled distance\n",
    "    \"YMIN\": 2013,\n",
    "    \"SP\": \"H\"  # Hybrid\n",
    "}\n",
    "cars = None\n",
    "for model in model_dict.keys():\n",
    "    URL = getURL(model, **parameters)\n",
    "    print(URL, end=\"\")\n",
    "    try:\n",
    "        pages = get_lastpage_num(URL)\n",
    "    except IndexError:\n",
    "        pages = 1\n",
    "    print(\"  \", model, \"  {} pp.\".format(pages), end=\"\")\n",
    "    for i in range(pages):\n",
    "        listpage_url = URL.replace('index', 'index' + str(i))\n",
    "        urls = scrape_list_page(listpage_url)\n",
    "        cars_ = get_details(urls)\n",
    "        if cars_ is not None:\n",
    "            print(\" {}\".format(cars_.shape[0]), end=\"\")\n",
    "            cars_.loc[:, 'model'] = model\n",
    "            if cars is None:\n",
    "                cars = cars_\n",
    "            else:\n",
    "                cars = pd.concat([cars, cars_], ignore_index=True)\n",
    "        time.sleep(1)\n",
    "        print(\"\")\n",
    "\n",
    "rawdf = cars.copy()"
   ]
  },
  {
   "cell_type": "code",
   "execution_count": 6,
   "metadata": {},
   "outputs": [
    {
     "name": "stdout",
     "output_type": "stream",
     "text": [
      "Saved data/raw20210321_2152.csv\n"
     ]
    }
   ],
   "source": [
    "date = datetime.datetime.now()\n",
    "date_str = date.strftime(\"%Y%m%d_%H%M\")\n",
    "csv_name = \"raw{}.csv\".format(date_str)\n",
    "csv_path = os.path.join('data',csv_name)\n",
    "rawdf.to_csv(csv_path,index=False)\n",
    "print(\"Saved\",csv_path)"
   ]
  },
  {
   "cell_type": "code",
   "execution_count": 7,
   "metadata": {},
   "outputs": [
    {
     "name": "stdout",
     "output_type": "stream",
     "text": [
      "total 204\r\n",
      "-rw-rw-r-- 1 peter peter 17512 Mar 21 19:19 raw20210321_1919.csv\r\n",
      "-rw-rw-r-- 1 peter peter 17512 Mar 21 19:48 raw20210321_1948.csv\r\n",
      "-rw-rw-r-- 1 peter peter 32392 Mar 21 20:13 raw20210321_2013.csv\r\n",
      "-rw-rw-r-- 1 peter peter 41569 Mar 21 20:28 raw20210321_2028.csv\r\n",
      "-rw-rw-r-- 1 peter peter 41569 Mar 21 21:31 raw20210321_2131.csv\r\n",
      "-rw-rw-r-- 1 peter peter 41569 Mar 21 21:52 raw20210321_2152.csv\r\n"
     ]
    }
   ],
   "source": [
    "!ls -l data"
   ]
  },
  {
   "cell_type": "code",
   "execution_count": 90,
   "metadata": {},
   "outputs": [
    {
     "name": "stdout",
     "output_type": "stream",
     "text": [
      "URLS\n",
      "0 https://www.carsensor.net/usedcar/detail/VU3428859602/index.html?TRCD=200002&RESTID=CS210610\n",
      "1 https://www.carsensor.net/usedcar/detail/VU5509373241/index.html?TRCD=200002&RESTID=CS210610\n",
      "2 https://www.carsensor.net/usedcar/detail/VU5534939755/index.html?TRCD=200002&RESTID=CS210610\n",
      "3 https://www.carsensor.net/usedcar/detail/VU5293012705/index.html?TRCD=200002&RESTID=CS210610\n",
      "4 https://www.carsensor.net/usedcar/detail/VU4412965298/index.html?TRCD=200002&RESTID=CS210610\n",
      "5 https://www.carsensor.net/usedcar/detail/VU5521083324/index.html?TRCD=200002&RESTID=CS210610\n",
      "6 https://www.carsensor.net/usedcar/detail/VU5016869861/index.html?TRCD=200002&RESTID=CS210610\n",
      "7 https://www.carsensor.net/usedcar/detail/VU5270314806/index.html?TRCD=200002&RESTID=CS210610\n",
      "8 https://www.carsensor.net/usedcar/detail/VU5473760859/index.html?TRCD=200002&RESTID=CS210610\n",
      "9 https://www.carsensor.net/usedcar/detail/VU5299189283/index.html?TRCD=200002&RESTID=CS210610\n",
      "10 https://www.carsensor.net/usedcar/detail/VU5149954796/index.html?TRCD=200002&RESTID=CS210610\n",
      "11 https://www.carsensor.net/usedcar/detail/VU5400086790/index.html?TRCD=200002&RESTID=CS210610\n",
      "12 https://www.carsensor.net/usedcar/detail/VU5521102821/index.html?TRCD=200002&RESTID=CS210610\n",
      "13 https://www.carsensor.net/usedcar/detail/VU5389330681/index.html?TRCD=200002&RESTID=CS210610\n",
      "14 https://www.carsensor.net/usedcar/detail/VU5255588868/index.html?TRCD=200002&RESTID=CS210610\n",
      "15 https://www.carsensor.net/usedcar/detail/VU5527503682/index.html?TRCD=200002&RESTID=CS210610\n",
      "16 https://www.carsensor.net/usedcar/detail/VU5608212863/index.html?TRCD=200002&RESTID=CS210610\n",
      "17 https://www.carsensor.net/usedcar/detail/VU5292456528/index.html?TRCD=200002&RESTID=CS210610\n",
      "18 https://www.carsensor.net/usedcar/detail/VU5608731240/index.html?TRCD=200002&RESTID=CS210610\n",
      "19 https://www.carsensor.net/usedcar/detail/VU5498259479/index.html?TRCD=200002&RESTID=CS210610\n",
      "20 https://www.carsensor.net/usedcar/detail/VU4582956294/index.html?TRCD=200002&RESTID=CS210610\n",
      "21 https://www.carsensor.net/usedcar/detail/VU5484438546/index.html?TRCD=200002&RESTID=CS210610\n",
      "22 https://www.carsensor.net/usedcar/detail/VU5423349919/index.html?TRCD=200002&RESTID=CS210610\n",
      "23 https://www.carsensor.net/usedcar/detail/VU5477510904/index.html?TRCD=200002&RESTID=CS210610\n",
      "24 https://www.carsensor.net/usedcar/detail/VU5385543660/index.html?TRCD=200002&RESTID=CS210610\n",
      "25 https://www.carsensor.net/usedcar/detail/VU5606730358/index.html?TRCD=200002&RESTID=CS210610\n",
      "26 https://www.carsensor.net/usedcar/detail/VU5284284786/index.html?TRCD=200002&RESTID=CS210610\n",
      "27 https://www.carsensor.net/usedcar/detail/VU5534475153/index.html?TRCD=200002&RESTID=CS210610\n",
      "28 https://www.carsensor.net/usedcar/detail/VU5497744147/index.html?TRCD=200002&RESTID=CS210610\n",
      "29 https://www.carsensor.net/usedcar/detail/VU3528815179/index.html?TRCD=200002&RESTID=CS210610\n",
      "30 https://www.carsensor.net/usedcar/detail/VU5447572479/index.html?TRCD=200002&RESTID=CS210610\n",
      "31 https://www.carsensor.net/usedcar/detail/VU5478560902/index.html?TRCD=200002&RESTID=CS210610\n",
      "32 https://www.carsensor.net/usedcar/detail/VU4963602156/index.html?TRCD=200002&RESTID=CS210610\n",
      "33 https://www.carsensor.net/usedcar/detail/VU5152936733/index.html?TRCD=200002&RESTID=CS210610\n",
      "34 https://www.carsensor.net/usedcar/detail/VU5225545678/index.html?TRCD=200002&RESTID=CS210610\n",
      "35 https://www.carsensor.net/usedcar/detail/VU5025098085/index.html?TRCD=200002&RESTID=CS210610\n",
      "36 https://www.carsensor.net/usedcar/detail/VU5072194475/index.html?TRCD=200002&RESTID=CS210610\n",
      "37 https://www.carsensor.net/usedcar/detail/VU5499327089/index.html?TRCD=200002&RESTID=CS210610\n",
      "38 https://www.carsensor.net/usedcar/detail/VU5278626206/index.html?TRCD=200002&RESTID=CS210610\n",
      "39 https://www.carsensor.net/usedcar/detail/VU4929925267/index.html?TRCD=200002&RESTID=CS210610\n",
      "40 https://www.carsensor.net/usedcar/detail/VU5606977164/index.html?TRCD=200002&RESTID=CS210610\n",
      "41 https://www.carsensor.net/usedcar/detail/VU5576353299/index.html?TRCD=200002&RESTID=CS210610\n",
      "42 https://www.carsensor.net/usedcar/detail/VU5382390357/index.html?TRCD=200002&RESTID=CS210610\n",
      "43 https://www.carsensor.net/usedcar/detail/VU5034598210/index.html?TRCD=200002&RESTID=CS210610\n",
      "44 https://www.carsensor.net/usedcar/detail/VU5255792717/index.html?TRCD=200002&RESTID=CS210610\n",
      "45 https://www.carsensor.net/usedcar/detail/VU5620735558/index.html?TRCD=200002&RESTID=CS210610\n",
      "46 https://www.carsensor.net/usedcar/detail/VU5372093747/index.html?TRCD=200002&RESTID=CS210610\n",
      "47 https://www.carsensor.net/usedcar/detail/VU5553063261/index.html?TRCD=200002&RESTID=CS210610\n",
      "48 https://www.carsensor.net/usedcar/detail/VU5601192799/index.html?TRCD=200002&RESTID=CS210610\n",
      "49 https://www.carsensor.net/usedcar/detail/VU5490537356/index.html?TRCD=200002&RESTID=CS210610\n",
      "50 https://www.carsensor.net/usedcar/detail/VU4572741259/index.html?TRCD=200002&RESTID=CS210610\n",
      "51 https://www.carsensor.net/usedcar/detail/VU5064506602/index.html?TRCD=200002&RESTID=CS210610\n",
      "52 https://www.carsensor.net/usedcar/detail/VU4906137300/index.html?TRCD=200002&RESTID=CS210610\n",
      "53 https://www.carsensor.net/usedcar/detail/VU3184664764/index.html?TRCD=200002&RESTID=CS210610\n",
      "54 https://www.carsensor.net/usedcar/detail/VU4517714948/index.html?TRCD=200002&RESTID=CS210610\n",
      "55 https://www.carsensor.net/usedcar/detail/VU5461137323/index.html?TRCD=200002&RESTID=CS210610\n",
      "56 https://www.carsensor.net/usedcar/detail/VU4635889103/index.html?TRCD=200002&RESTID=CS210610\n",
      "57 https://www.carsensor.net/usedcar/detail/VU4466079143/index.html?TRCD=200002&RESTID=CS210610\n",
      "58 https://www.carsensor.net/usedcar/detail/VU5565264115/index.html?TRCD=200002&RESTID=CS210610\n",
      "59 https://www.carsensor.net/usedcar/detail/VU5378673708/index.html?TRCD=200002&RESTID=CS210610\n",
      "60 https://www.carsensor.net/usedcar/detail/VU5337152759/index.html?TRCD=200002&RESTID=CS210610\n",
      "61 https://www.carsensor.net/usedcar/detail/VU5281494702/index.html?TRCD=200002&RESTID=CS210610\n",
      "62 https://www.carsensor.net/usedcar/detail/VU5486840091/index.html?TRCD=200002&RESTID=CS210610\n",
      "63 https://www.carsensor.net/usedcar/detail/VU4869177451/index.html?TRCD=200002&RESTID=CS210610\n",
      "64 https://www.carsensor.net/usedcar/detail/VU5583315429/index.html?TRCD=200002&RESTID=CS210610\n",
      "65 https://www.carsensor.net/usedcar/detail/VU5083793150/index.html?TRCD=200002&RESTID=CS210610\n",
      "66 https://www.carsensor.net/usedcar/detail/VU4894543522/index.html?TRCD=200002&RESTID=CS210610\n",
      "67 https://www.carsensor.net/usedcar/detail/VU5589558420/index.html?TRCD=200002&RESTID=CS210610\n",
      "68 https://www.carsensor.net/usedcar/detail/VU5358035563/index.html?TRCD=200002&RESTID=CS210610\n",
      "69 https://www.carsensor.net/usedcar/detail/VU5070765468/index.html?TRCD=200002&RESTID=CS210610\n",
      "70 https://www.carsensor.net/usedcar/detail/VU4484062724/index.html?TRCD=200002&RESTID=CS210610\n",
      "71 https://www.carsensor.net/usedcar/detail/VU4716682173/index.html?TRCD=200002&RESTID=CS210610\n",
      "72 https://www.carsensor.net/usedcar/detail/VU4716711517/index.html?TRCD=200002&RESTID=CS210610\n",
      "73 https://www.carsensor.net/usedcar/detail/VU3323529381/index.html?TRCD=200002&RESTID=CS210610\n",
      "74 https://www.carsensor.net/usedcar/detail/VU5084925498/index.html?TRCD=200002&RESTID=CS210610\n",
      "75 https://www.carsensor.net/usedcar/detail/VU4192448536/index.html?TRCD=200002&RESTID=CS210610\n",
      "76 https://www.carsensor.net/usedcar/detail/VU5015989928/index.html?TRCD=200002&RESTID=CS210610\n",
      "77 https://www.carsensor.net/usedcar/detail/VU4890573722/index.html?TRCD=200002&RESTID=CS210610\n",
      "78 https://www.carsensor.net/usedcar/detail/VU4447906588/index.html?TRCD=200002&RESTID=CS210610\n",
      "79 https://www.carsensor.net/usedcar/detail/VU5496018386/index.html?TRCD=200002&RESTID=CS210610\n",
      "80 https://www.carsensor.net/usedcar/detail/VU4911741946/index.html?TRCD=200002&RESTID=CS210610\n"
     ]
    }
   ],
   "source": [
    "csv_path = \"data/raw20210321_2028.csv\"\n",
    "cars = pd.read_csv(csv_path)\n",
    "cars.base_price = cars.base_price / 10000.\n",
    "cars.loc[:, 'ref_price'] = cars['base_price']\n",
    "minref = cars.ref_price.min()\n",
    "cars.loc[:, 'ref_price'] = cars['ref_price'] - minref + 2  # Min marker size 2\n",
    "maxtotal = cars['total_price'].max()\n",
    "cars['total_price'] = cars['total_price'].fillna(maxtotal * 1.1)\n",
    "cars.total_price = cars.total_price / 10000.\n",
    "cars.model_year = cars.model_year.astype(str)\n",
    "cars.loc[:,'color'] = cars['info'].str.split().str.get(-1).str.replace('[（）]','',regex=True)\n",
    "print(\"URLS\")\n",
    "for i, r in cars.iterrows():\n",
    "    print(i, r['url'])"
   ]
  },
  {
   "cell_type": "code",
   "execution_count": 132,
   "metadata": {
    "scrolled": false
   },
   "outputs": [
    {
     "data": {
      "application/vnd.plotly.v1+json": {
       "config": {
        "plotlyServerURL": "https://plot.ly"
       },
       "data": [
        {
         "customdata": [
          [
           4,
           "ブラックパール"
          ],
          [
           5,
           "アラバスターシルバーＭ"
          ],
          [
           6,
           "シルバーメタリック"
          ],
          [
           20,
           "ミラノレッド"
          ],
          [
           21,
           "シルバー"
          ],
          [
           22,
           "プレミアムホワイトＰ"
          ],
          [
           23,
           "プレミアムホワイトＰ"
          ]
         ],
         "hovertemplate": "model_year=2013<br>repare=なし<br>model=FIT<br>distance=%{x}<br>base_price=%{y}<br>ref_price=%{marker.size}<br>index=%{customdata[0]}<br>color=%{customdata[1]}<extra></extra>",
         "legendgroup": "2013, なし",
         "marker": {
          "color": "#ee0000",
          "size": [
           7,
           42.10000000000001,
           42.10000000000001,
           31.200000000000003,
           28.799999999999997,
           35.2,
           40.2
          ],
          "sizemode": "area",
          "sizeref": 0.232,
          "symbol": "circle"
         },
         "mode": "markers",
         "name": "2013, なし",
         "orientation": "v",
         "showlegend": true,
         "type": "scatter",
         "x": [
          7.1,
          4.8,
          1,
          1.8,
          5.2,
          9.2,
          2.5
         ],
         "xaxis": "x5",
         "y": [
          44.8,
          79.9,
          79.9,
          69,
          66.6,
          73,
          78
         ],
         "yaxis": "y5"
        },
        {
         "customdata": [
          [
           43,
           "ライトブルー"
          ],
          [
           47,
           "ブラック"
          ]
         ],
         "hovertemplate": "model_year=2013<br>repare=なし<br>model=FIELDER<br>distance=%{x}<br>base_price=%{y}<br>ref_price=%{marker.size}<br>index=%{customdata[0]}<br>color=%{customdata[1]}<extra></extra>",
         "legendgroup": "2013, なし",
         "marker": {
          "color": "#ee0000",
          "size": [
           52,
           52.2
          ],
          "sizemode": "area",
          "sizeref": 0.232,
          "symbol": "circle"
         },
         "mode": "markers",
         "name": "2013, なし",
         "orientation": "v",
         "showlegend": false,
         "type": "scatter",
         "x": [
          2.3,
          6.1
         ],
         "xaxis": "x",
         "y": [
          89.8,
          90
         ],
         "yaxis": "y"
        },
        {
         "customdata": [
          [
           62,
           "ブラック"
          ],
          [
           63,
           "クールソーダメタリック"
          ],
          [
           64,
           "クールソーダメタリック"
          ],
          [
           65,
           "クールソーダメタリック"
          ],
          [
           66,
           "ブラックパール"
          ],
          [
           67,
           "ブラックマイカ"
          ]
         ],
         "hovertemplate": "model_year=2013<br>repare=なし<br>model=AQUA<br>distance=%{x}<br>base_price=%{y}<br>ref_price=%{marker.size}<br>index=%{customdata[0]}<br>color=%{customdata[1]}<extra></extra>",
         "legendgroup": "2013, なし",
         "marker": {
          "color": "#ee0000",
          "size": [
           2,
           2,
           7,
           22.1,
           43,
           52.10000000000001
          ],
          "sizemode": "area",
          "sizeref": 0.232,
          "symbol": "circle"
         },
         "mode": "markers",
         "name": "2013, なし",
         "orientation": "v",
         "showlegend": false,
         "type": "scatter",
         "x": [
          9.9,
          6.4,
          6.9,
          5.2,
          7.2,
          2
         ],
         "xaxis": "x3",
         "y": [
          39.8,
          39.8,
          44.8,
          59.9,
          80.8,
          89.9
         ],
         "yaxis": "y3"
        },
        {
         "customdata": [
          [
           1,
           "ブラック"
          ],
          [
           2,
           "ライトゴールドメタリック"
          ],
          [
           3,
           "ベージュ"
          ],
          [
           11,
           "ブリリアントスポーティーブルーメタリック"
          ],
          [
           12,
           "パールホワイト"
          ],
          [
           13,
           "ライトベージュＭ"
          ],
          [
           14,
           "プレミアムホワイトパール"
          ],
          [
           15,
           "アラバスターシルバーＭ"
          ],
          [
           16,
           "ブリリアントスポーティブルーメタリック"
          ],
          [
           17,
           "アトラクトイエローパール"
          ],
          [
           18,
           "プレミアムホワイトP"
          ],
          [
           19,
           "プレミアムホワイトパール"
          ],
          [
           24,
           "プレミアムホワイトパール"
          ],
          [
           25,
           "ブルー"
          ],
          [
           26,
           "ブリリアントスポーティブルーメタリック"
          ],
          [
           27,
           "パール"
          ],
          [
           29,
           "ライトブルーマイカ"
          ]
         ],
         "hovertemplate": "model_year=2014<br>repare=なし<br>model=FIT<br>distance=%{x}<br>base_price=%{y}<br>ref_price=%{marker.size}<br>index=%{customdata[0]}<br>color=%{customdata[1]}<extra></extra>",
         "legendgroup": "2014, なし",
         "marker": {
          "color": "#ff6600",
          "size": [
           30,
           47.10000000000001,
           50.10000000000001,
           22,
           32.2,
           36,
           37.2,
           40.2,
           41.10000000000001,
           44.2,
           47.2,
           52,
           47.10000000000001,
           16,
           27.60000000000001,
           23,
           45.2
          ],
          "sizemode": "area",
          "sizeref": 0.232,
          "symbol": "circle"
         },
         "mode": "markers",
         "name": "2014, なし",
         "orientation": "v",
         "showlegend": true,
         "type": "scatter",
         "x": [
          6.4,
          0.9,
          2.6,
          8.3,
          5,
          5.9,
          8.2,
          7.3,
          4.6,
          4.1,
          6.4,
          6.1,
          1,
          6.2,
          7.4,
          9.1,
          5
         ],
         "xaxis": "x5",
         "y": [
          67.8,
          84.9,
          87.9,
          59.8,
          70,
          73.8,
          75,
          78,
          78.9,
          82,
          85,
          89.8,
          84.9,
          53.8,
          65.4,
          60.8,
          83
         ],
         "yaxis": "y5"
        },
        {
         "customdata": [
          [
           35,
           "アラバスタ―シルバーM"
          ],
          [
           36,
           "ゴールドブラウンメタリック"
          ]
         ],
         "hovertemplate": "model_year=2014<br>repare=なし<br>model=GRACE<br>distance=%{x}<br>base_price=%{y}<br>ref_price=%{marker.size}<br>index=%{customdata[0]}<br>color=%{customdata[1]}<extra></extra>",
         "legendgroup": "2014, なし",
         "marker": {
          "color": "#ff6600",
          "size": [
           25,
           36
          ],
          "sizemode": "area",
          "sizeref": 0.232,
          "symbol": "circle"
         },
         "mode": "markers",
         "name": "2014, なし",
         "orientation": "v",
         "showlegend": false,
         "type": "scatter",
         "x": [
          2.8,
          5.8
         ],
         "xaxis": "x7",
         "y": [
          62.8,
          73.8
         ],
         "yaxis": "y7"
        },
        {
         "customdata": [
          [
           38,
           "ブラックマイカ"
          ],
          [
           39,
           "シルバー"
          ],
          [
           41,
           "シルバー"
          ],
          [
           42,
           "ブルー"
          ],
          [
           45,
           "ブラック"
          ],
          [
           46,
           "パールホワイト"
          ]
         ],
         "hovertemplate": "model_year=2014<br>repare=なし<br>model=FIELDER<br>distance=%{x}<br>base_price=%{y}<br>ref_price=%{marker.size}<br>index=%{customdata[0]}<br>color=%{customdata[1]}<extra></extra>",
         "legendgroup": "2014, なし",
         "marker": {
          "color": "#ff6600",
          "size": [
           52.10000000000001,
           42.3,
           36.2,
           36.2,
           52.2,
           46
          ],
          "sizemode": "area",
          "sizeref": 0.232,
          "symbol": "circle"
         },
         "mode": "markers",
         "name": "2014, なし",
         "orientation": "v",
         "showlegend": false,
         "type": "scatter",
         "x": [
          6.4,
          6.7,
          8.1,
          6.5,
          6.6,
          7.3
         ],
         "xaxis": "x",
         "y": [
          89.9,
          80.1,
          74,
          74,
          90,
          83.8
         ],
         "yaxis": "y"
        },
        {
         "customdata": [
          [
           57,
           "ブラックマイカ"
          ],
          [
           60,
           "ディープアメジストマイカメタリック"
          ],
          [
           61,
           "ライムホワイトパールクリスタルシャイン"
          ]
         ],
         "hovertemplate": "model_year=2014<br>repare=なし<br>model=AQUA<br>distance=%{x}<br>base_price=%{y}<br>ref_price=%{marker.size}<br>index=%{customdata[0]}<br>color=%{customdata[1]}<extra></extra>",
         "legendgroup": "2014, なし",
         "marker": {
          "color": "#ff6600",
          "size": [
           12,
           22,
           52
          ],
          "sizemode": "area",
          "sizeref": 0.232,
          "symbol": "circle"
         },
         "mode": "markers",
         "name": "2014, なし",
         "orientation": "v",
         "showlegend": false,
         "type": "scatter",
         "x": [
          7.5,
          3.5,
          9.3
         ],
         "xaxis": "x3",
         "y": [
          49.8,
          59.8,
          89.8
         ],
         "yaxis": "y3"
        },
        {
         "customdata": [
          [
           28,
           "ブラック"
          ]
         ],
         "hovertemplate": "model_year=2014<br>repare=あり<br>model=FIT<br>distance=%{x}<br>base_price=%{y}<br>ref_price=%{marker.size}<br>index=%{customdata[0]}<br>color=%{customdata[1]}<extra></extra>",
         "legendgroup": "2014, あり",
         "marker": {
          "color": "#ff6600",
          "size": [
           45.900000000000006
          ],
          "sizemode": "area",
          "sizeref": 0.232,
          "symbol": "diamond"
         },
         "mode": "markers",
         "name": "2014, あり",
         "orientation": "v",
         "showlegend": true,
         "type": "scatter",
         "x": [
          2.1
         ],
         "xaxis": "x5",
         "y": [
          83.7
         ],
         "yaxis": "y5"
        },
        {
         "customdata": [
          [
           44,
           "ブルー"
          ]
         ],
         "hovertemplate": "model_year=2014<br>repare=あり<br>model=FIELDER<br>distance=%{x}<br>base_price=%{y}<br>ref_price=%{marker.size}<br>index=%{customdata[0]}<br>color=%{customdata[1]}<extra></extra>",
         "legendgroup": "2014, あり",
         "marker": {
          "color": "#ff6600",
          "size": [
           24.200000000000003
          ],
          "sizemode": "area",
          "sizeref": 0.232,
          "symbol": "diamond"
         },
         "mode": "markers",
         "name": "2014, あり",
         "orientation": "v",
         "showlegend": false,
         "type": "scatter",
         "x": [
          9.6
         ],
         "xaxis": "x",
         "y": [
          62
         ],
         "yaxis": "y"
        },
        {
         "customdata": [
          [
           58,
           "ブルー"
          ],
          [
           59,
           "パープル"
          ]
         ],
         "hovertemplate": "model_year=2014<br>repare=あり<br>model=AQUA<br>distance=%{x}<br>base_price=%{y}<br>ref_price=%{marker.size}<br>index=%{customdata[0]}<br>color=%{customdata[1]}<extra></extra>",
         "legendgroup": "2014, あり",
         "marker": {
          "color": "#ff6600",
          "size": [
           32.10000000000001,
           32.10000000000001
          ],
          "sizemode": "area",
          "sizeref": 0.232,
          "symbol": "diamond"
         },
         "mode": "markers",
         "name": "2014, あり",
         "orientation": "v",
         "showlegend": false,
         "type": "scatter",
         "x": [
          9.2,
          7.2
         ],
         "xaxis": "x3",
         "y": [
          69.9,
          69.9
         ],
         "yaxis": "y3"
        },
        {
         "customdata": [
          [
           31,
           "ホワイトパール"
          ],
          [
           32,
           "クリスタルブラックパール"
          ]
         ],
         "hovertemplate": "model_year=2015<br>repare=なし<br>model=SHUTTLE<br>distance=%{x}<br>base_price=%{y}<br>ref_price=%{marker.size}<br>index=%{customdata[0]}<br>color=%{customdata[1]}<extra></extra>",
         "legendgroup": "2015, なし",
         "marker": {
          "color": "#eedd00",
          "size": [
           46,
           15
          ],
          "sizemode": "area",
          "sizeref": 0.232,
          "symbol": "circle"
         },
         "mode": "markers",
         "name": "2015, なし",
         "orientation": "v",
         "showlegend": true,
         "type": "scatter",
         "x": [
          9.6,
          9.6
         ],
         "xaxis": "x6",
         "y": [
          83.8,
          52.8
         ],
         "yaxis": "y6"
        },
        {
         "customdata": [
          [
           34,
           "シルバー"
          ]
         ],
         "hovertemplate": "model_year=2015<br>repare=なし<br>model=GRACE<br>distance=%{x}<br>base_price=%{y}<br>ref_price=%{marker.size}<br>index=%{customdata[0]}<br>color=%{customdata[1]}<extra></extra>",
         "legendgroup": "2015, なし",
         "marker": {
          "color": "#eedd00",
          "size": [
           42.3
          ],
          "sizemode": "area",
          "sizeref": 0.232,
          "symbol": "circle"
         },
         "mode": "markers",
         "name": "2015, なし",
         "orientation": "v",
         "showlegend": false,
         "type": "scatter",
         "x": [
          8.1
         ],
         "xaxis": "x7",
         "y": [
          80.1
         ],
         "yaxis": "y7"
        },
        {
         "customdata": [
          [
           37,
           "クリスタルブラックP"
          ]
         ],
         "hovertemplate": "model_year=2015<br>repare=なし<br>model=JADE<br>distance=%{x}<br>base_price=%{y}<br>ref_price=%{marker.size}<br>index=%{customdata[0]}<br>color=%{customdata[1]}<extra></extra>",
         "legendgroup": "2015, なし",
         "marker": {
          "color": "#eedd00",
          "size": [
           38
          ],
          "sizemode": "area",
          "sizeref": 0.232,
          "symbol": "circle"
         },
         "mode": "markers",
         "name": "2015, なし",
         "orientation": "v",
         "showlegend": false,
         "type": "scatter",
         "x": [
          9.3
         ],
         "xaxis": "x8",
         "y": [
          75.8
         ],
         "yaxis": "y8"
        },
        {
         "customdata": [
          [
           53,
           "ブラックパール"
          ],
          [
           54,
           "ピンク"
          ],
          [
           56,
           "ピンクメタリック"
          ],
          [
           75,
           "シルバーメタリック"
          ],
          [
           76,
           "ホワイト"
          ],
          [
           77,
           "ホワイト"
          ],
          [
           78,
           "シルバー"
          ]
         ],
         "hovertemplate": "model_year=2015<br>repare=なし<br>model=AQUA<br>distance=%{x}<br>base_price=%{y}<br>ref_price=%{marker.size}<br>index=%{customdata[0]}<br>color=%{customdata[1]}<extra></extra>",
         "legendgroup": "2015, なし",
         "marker": {
          "color": "#eedd00",
          "size": [
           14,
           22,
           32,
           7,
           9.200000000000003,
           28.10000000000001,
           30.200000000000003
          ],
          "sizemode": "area",
          "sizeref": 0.232,
          "symbol": "circle"
         },
         "mode": "markers",
         "name": "2015, なし",
         "orientation": "v",
         "showlegend": false,
         "type": "scatter",
         "x": [
          9.8,
          7.6,
          6.9,
          6.7,
          8.5,
          7.4,
          5.9
         ],
         "xaxis": "x3",
         "y": [
          51.8,
          59.8,
          69.8,
          44.8,
          47,
          65.9,
          68
         ],
         "yaxis": "y3"
        },
        {
         "customdata": [
          [
           33,
           "パール"
          ]
         ],
         "hovertemplate": "model_year=2015<br>repare=あり<br>model=GRACE<br>distance=%{x}<br>base_price=%{y}<br>ref_price=%{marker.size}<br>index=%{customdata[0]}<br>color=%{customdata[1]}<extra></extra>",
         "legendgroup": "2015, あり",
         "marker": {
          "color": "#eedd00",
          "size": [
           45.10000000000001
          ],
          "sizemode": "area",
          "sizeref": 0.232,
          "symbol": "diamond"
         },
         "mode": "markers",
         "name": "2015, あり",
         "orientation": "v",
         "showlegend": true,
         "type": "scatter",
         "x": [
          6.3
         ],
         "xaxis": "x7",
         "y": [
          82.9
         ],
         "yaxis": "y7"
        },
        {
         "customdata": [
          [
           52,
           "シルバーメタリック"
          ],
          [
           55,
           "ライトブルー"
          ],
          [
           73,
           "ホワイト"
          ],
          [
           74,
           "シルバーメタリック"
          ]
         ],
         "hovertemplate": "model_year=2015<br>repare=あり<br>model=AQUA<br>distance=%{x}<br>base_price=%{y}<br>ref_price=%{marker.size}<br>index=%{customdata[0]}<br>color=%{customdata[1]}<extra></extra>",
         "legendgroup": "2015, あり",
         "marker": {
          "color": "#eedd00",
          "size": [
           10.200000000000003,
           37.10000000000001,
           22.1,
           7.200000000000003
          ],
          "sizemode": "area",
          "sizeref": 0.232,
          "symbol": "diamond"
         },
         "mode": "markers",
         "name": "2015, あり",
         "orientation": "v",
         "showlegend": false,
         "type": "scatter",
         "x": [
          8,
          6,
          9,
          8.3
         ],
         "xaxis": "x3",
         "y": [
          48,
          74.9,
          59.9,
          45
         ],
         "yaxis": "y3"
        },
        {
         "customdata": [
          [
           8,
           "ルーセブラックＭ"
          ],
          [
           9,
           "プレミアムホワイトＰII"
          ],
          [
           10,
           "プレミアムホワイトパールII"
          ]
         ],
         "hovertemplate": "model_year=2016<br>repare=なし<br>model=FIT<br>distance=%{x}<br>base_price=%{y}<br>ref_price=%{marker.size}<br>index=%{customdata[0]}<br>color=%{customdata[1]}<extra></extra>",
         "legendgroup": "2016, なし",
         "marker": {
          "color": "#99ff00",
          "size": [
           51.2,
           52,
           52
          ],
          "sizemode": "area",
          "sizeref": 0.232,
          "symbol": "circle"
         },
         "mode": "markers",
         "name": "2016, なし",
         "orientation": "v",
         "showlegend": true,
         "type": "scatter",
         "x": [
          6.8,
          7,
          4.2
         ],
         "xaxis": "x5",
         "y": [
          89,
          89.8,
          89.8
         ],
         "yaxis": "y5"
        },
        {
         "customdata": [
          [
           30,
           "ダークブルー"
          ]
         ],
         "hovertemplate": "model_year=2016<br>repare=なし<br>model=SHUTTLE<br>distance=%{x}<br>base_price=%{y}<br>ref_price=%{marker.size}<br>index=%{customdata[0]}<br>color=%{customdata[1]}<extra></extra>",
         "legendgroup": "2016, なし",
         "marker": {
          "color": "#99ff00",
          "size": [
           40
          ],
          "sizemode": "area",
          "sizeref": 0.232,
          "symbol": "circle"
         },
         "mode": "markers",
         "name": "2016, なし",
         "orientation": "v",
         "showlegend": false,
         "type": "scatter",
         "x": [
          9.5
         ],
         "xaxis": "x6",
         "y": [
          77.8
         ],
         "yaxis": "y6"
        },
        {
         "customdata": [
          [
           40,
           "シルバーメタリック"
          ]
         ],
         "hovertemplate": "model_year=2016<br>repare=なし<br>model=FIELDER<br>distance=%{x}<br>base_price=%{y}<br>ref_price=%{marker.size}<br>index=%{customdata[0]}<br>color=%{customdata[1]}<extra></extra>",
         "legendgroup": "2016, なし",
         "marker": {
          "color": "#99ff00",
          "size": [
           46.7
          ],
          "sizemode": "area",
          "sizeref": 0.232,
          "symbol": "circle"
         },
         "mode": "markers",
         "name": "2016, なし",
         "orientation": "v",
         "showlegend": false,
         "type": "scatter",
         "x": [
          6.4
         ],
         "xaxis": "x",
         "y": [
          84.5
         ],
         "yaxis": "y"
        },
        {
         "customdata": [
          [
           49,
           "ディープアメジストマイカメタリック"
          ],
          [
           50,
           "ライトブルー"
          ],
          [
           68,
           "シルバー"
          ],
          [
           69,
           "シルバーメタリック"
          ],
          [
           70,
           "ブルーメタリック"
          ],
          [
           71,
           "ライムホワイトパールクリスタルシャイン"
          ],
          [
           72,
           "ライムホワイトパールクリスタルシャイン"
          ]
         ],
         "hovertemplate": "model_year=2016<br>repare=なし<br>model=AQUA<br>distance=%{x}<br>base_price=%{y}<br>ref_price=%{marker.size}<br>index=%{customdata[0]}<br>color=%{customdata[1]}<extra></extra>",
         "legendgroup": "2016, なし",
         "marker": {
          "color": "#99ff00",
          "size": [
           27,
           30.200000000000003,
           35.10000000000001,
           32,
           22,
           32,
           37
          ],
          "sizemode": "area",
          "sizeref": 0.232,
          "symbol": "circle"
         },
         "mode": "markers",
         "name": "2016, なし",
         "orientation": "v",
         "showlegend": false,
         "type": "scatter",
         "x": [
          5.3,
          6.3,
          5.6,
          6.4,
          8.6,
          7,
          6.1
         ],
         "xaxis": "x3",
         "y": [
          64.8,
          68,
          72.9,
          69.8,
          59.8,
          69.8,
          74.8
         ],
         "yaxis": "y3"
        },
        {
         "customdata": [
          [
           7,
           "ピンクメタリック"
          ]
         ],
         "hovertemplate": "model_year=2016<br>repare=あり<br>model=FIT<br>distance=%{x}<br>base_price=%{y}<br>ref_price=%{marker.size}<br>index=%{customdata[0]}<br>color=%{customdata[1]}<extra></extra>",
         "legendgroup": "2016, あり",
         "marker": {
          "color": "#99ff00",
          "size": [
           43.2
          ],
          "sizemode": "area",
          "sizeref": 0.232,
          "symbol": "diamond"
         },
         "mode": "markers",
         "name": "2016, あり",
         "orientation": "v",
         "showlegend": true,
         "type": "scatter",
         "x": [
          7
         ],
         "xaxis": "x5",
         "y": [
          81
         ],
         "yaxis": "y5"
        },
        {
         "customdata": [
          [
           51,
           "ブルー"
          ]
         ],
         "hovertemplate": "model_year=2016<br>repare=あり<br>model=AQUA<br>distance=%{x}<br>base_price=%{y}<br>ref_price=%{marker.size}<br>index=%{customdata[0]}<br>color=%{customdata[1]}<extra></extra>",
         "legendgroup": "2016, あり",
         "marker": {
          "color": "#99ff00",
          "size": [
           46.2
          ],
          "sizemode": "area",
          "sizeref": 0.232,
          "symbol": "diamond"
         },
         "mode": "markers",
         "name": "2016, あり",
         "orientation": "v",
         "showlegend": false,
         "type": "scatter",
         "x": [
          5.7
         ],
         "xaxis": "x3",
         "y": [
          84
         ],
         "yaxis": "y3"
        },
        {
         "customdata": [
          [
           0,
           "ピンク"
          ]
         ],
         "hovertemplate": "model_year=2017<br>repare=なし<br>model=FIT<br>distance=%{x}<br>base_price=%{y}<br>ref_price=%{marker.size}<br>index=%{customdata[0]}<br>color=%{customdata[1]}<extra></extra>",
         "legendgroup": "2017, なし",
         "marker": {
          "color": "#33bb33",
          "size": [
           48.10000000000001
          ],
          "sizemode": "area",
          "sizeref": 0.232,
          "symbol": "circle"
         },
         "mode": "markers",
         "name": "2017, なし",
         "orientation": "v",
         "showlegend": true,
         "type": "scatter",
         "x": [
          6
         ],
         "xaxis": "x5",
         "y": [
          85.9
         ],
         "yaxis": "y5"
        },
        {
         "customdata": [
          [
           79,
           "グレー"
          ],
          [
           80,
           "シルバー"
          ]
         ],
         "hovertemplate": "model_year=2017<br>repare=なし<br>model=NOTE<br>distance=%{x}<br>base_price=%{y}<br>ref_price=%{marker.size}<br>index=%{customdata[0]}<br>color=%{customdata[1]}<extra></extra>",
         "legendgroup": "2017, なし",
         "marker": {
          "color": "#33bb33",
          "size": [
           52,
           51.2
          ],
          "sizemode": "area",
          "sizeref": 0.232,
          "symbol": "circle"
         },
         "mode": "markers",
         "name": "2017, なし",
         "orientation": "v",
         "showlegend": false,
         "type": "scatter",
         "x": [
          4.1,
          6.3
         ],
         "xaxis": "x4",
         "y": [
          89.8,
          89
         ],
         "yaxis": "y4"
        },
        {
         "customdata": [
          [
           48,
           "シルバーメタリック"
          ]
         ],
         "hovertemplate": "model_year=2018<br>repare=なし<br>model=VITZ<br>distance=%{x}<br>base_price=%{y}<br>ref_price=%{marker.size}<br>index=%{customdata[0]}<br>color=%{customdata[1]}<extra></extra>",
         "legendgroup": "2018, なし",
         "marker": {
          "color": "#00bb77",
          "size": [
           51.8
          ],
          "sizemode": "area",
          "sizeref": 0.232,
          "symbol": "circle"
         },
         "mode": "markers",
         "name": "2018, なし",
         "orientation": "v",
         "showlegend": true,
         "type": "scatter",
         "x": [
          8.9
         ],
         "xaxis": "x2",
         "y": [
          89.6
         ],
         "yaxis": "y2"
        }
       ],
       "layout": {
        "annotations": [
         {
          "font": {},
          "showarrow": false,
          "text": "model=FIELDER",
          "x": 0.1175,
          "xanchor": "center",
          "xref": "paper",
          "y": 0.46499999999999997,
          "yanchor": "bottom",
          "yref": "paper"
         },
         {
          "font": {},
          "showarrow": false,
          "text": "model=VITZ",
          "x": 0.3725,
          "xanchor": "center",
          "xref": "paper",
          "y": 0.46499999999999997,
          "yanchor": "bottom",
          "yref": "paper"
         },
         {
          "font": {},
          "showarrow": false,
          "text": "model=AQUA",
          "x": 0.6275,
          "xanchor": "center",
          "xref": "paper",
          "y": 0.46499999999999997,
          "yanchor": "bottom",
          "yref": "paper"
         },
         {
          "font": {},
          "showarrow": false,
          "text": "model=NOTE",
          "x": 0.8824999999999998,
          "xanchor": "center",
          "xref": "paper",
          "y": 0.46499999999999997,
          "yanchor": "bottom",
          "yref": "paper"
         },
         {
          "font": {},
          "showarrow": false,
          "text": "model=FIT",
          "x": 0.1175,
          "xanchor": "center",
          "xref": "paper",
          "y": 0.9999999999999999,
          "yanchor": "bottom",
          "yref": "paper"
         },
         {
          "font": {},
          "showarrow": false,
          "text": "model=SHUTTLE",
          "x": 0.3725,
          "xanchor": "center",
          "xref": "paper",
          "y": 0.9999999999999999,
          "yanchor": "bottom",
          "yref": "paper"
         },
         {
          "font": {},
          "showarrow": false,
          "text": "model=GRACE",
          "x": 0.6275,
          "xanchor": "center",
          "xref": "paper",
          "y": 0.9999999999999999,
          "yanchor": "bottom",
          "yref": "paper"
         },
         {
          "font": {},
          "showarrow": false,
          "text": "model=JADE",
          "x": 0.8824999999999998,
          "xanchor": "center",
          "xref": "paper",
          "y": 0.9999999999999999,
          "yanchor": "bottom",
          "yref": "paper"
         }
        ],
        "height": 600,
        "legend": {
         "itemsizing": "constant",
         "title": {
          "text": "model_year, repare"
         },
         "tracegroupgap": 0
        },
        "margin": {
         "t": 60
        },
        "template": {
         "data": {
          "bar": [
           {
            "error_x": {
             "color": "#f2f5fa"
            },
            "error_y": {
             "color": "#f2f5fa"
            },
            "marker": {
             "line": {
              "color": "rgb(17,17,17)",
              "width": 0.5
             }
            },
            "type": "bar"
           }
          ],
          "barpolar": [
           {
            "marker": {
             "line": {
              "color": "rgb(17,17,17)",
              "width": 0.5
             }
            },
            "type": "barpolar"
           }
          ],
          "carpet": [
           {
            "aaxis": {
             "endlinecolor": "#A2B1C6",
             "gridcolor": "#506784",
             "linecolor": "#506784",
             "minorgridcolor": "#506784",
             "startlinecolor": "#A2B1C6"
            },
            "baxis": {
             "endlinecolor": "#A2B1C6",
             "gridcolor": "#506784",
             "linecolor": "#506784",
             "minorgridcolor": "#506784",
             "startlinecolor": "#A2B1C6"
            },
            "type": "carpet"
           }
          ],
          "choropleth": [
           {
            "colorbar": {
             "outlinewidth": 0,
             "ticks": ""
            },
            "type": "choropleth"
           }
          ],
          "contour": [
           {
            "colorbar": {
             "outlinewidth": 0,
             "ticks": ""
            },
            "colorscale": [
             [
              0,
              "#0d0887"
             ],
             [
              0.1111111111111111,
              "#46039f"
             ],
             [
              0.2222222222222222,
              "#7201a8"
             ],
             [
              0.3333333333333333,
              "#9c179e"
             ],
             [
              0.4444444444444444,
              "#bd3786"
             ],
             [
              0.5555555555555556,
              "#d8576b"
             ],
             [
              0.6666666666666666,
              "#ed7953"
             ],
             [
              0.7777777777777778,
              "#fb9f3a"
             ],
             [
              0.8888888888888888,
              "#fdca26"
             ],
             [
              1,
              "#f0f921"
             ]
            ],
            "type": "contour"
           }
          ],
          "contourcarpet": [
           {
            "colorbar": {
             "outlinewidth": 0,
             "ticks": ""
            },
            "type": "contourcarpet"
           }
          ],
          "heatmap": [
           {
            "colorbar": {
             "outlinewidth": 0,
             "ticks": ""
            },
            "colorscale": [
             [
              0,
              "#0d0887"
             ],
             [
              0.1111111111111111,
              "#46039f"
             ],
             [
              0.2222222222222222,
              "#7201a8"
             ],
             [
              0.3333333333333333,
              "#9c179e"
             ],
             [
              0.4444444444444444,
              "#bd3786"
             ],
             [
              0.5555555555555556,
              "#d8576b"
             ],
             [
              0.6666666666666666,
              "#ed7953"
             ],
             [
              0.7777777777777778,
              "#fb9f3a"
             ],
             [
              0.8888888888888888,
              "#fdca26"
             ],
             [
              1,
              "#f0f921"
             ]
            ],
            "type": "heatmap"
           }
          ],
          "heatmapgl": [
           {
            "colorbar": {
             "outlinewidth": 0,
             "ticks": ""
            },
            "colorscale": [
             [
              0,
              "#0d0887"
             ],
             [
              0.1111111111111111,
              "#46039f"
             ],
             [
              0.2222222222222222,
              "#7201a8"
             ],
             [
              0.3333333333333333,
              "#9c179e"
             ],
             [
              0.4444444444444444,
              "#bd3786"
             ],
             [
              0.5555555555555556,
              "#d8576b"
             ],
             [
              0.6666666666666666,
              "#ed7953"
             ],
             [
              0.7777777777777778,
              "#fb9f3a"
             ],
             [
              0.8888888888888888,
              "#fdca26"
             ],
             [
              1,
              "#f0f921"
             ]
            ],
            "type": "heatmapgl"
           }
          ],
          "histogram": [
           {
            "marker": {
             "colorbar": {
              "outlinewidth": 0,
              "ticks": ""
             }
            },
            "type": "histogram"
           }
          ],
          "histogram2d": [
           {
            "colorbar": {
             "outlinewidth": 0,
             "ticks": ""
            },
            "colorscale": [
             [
              0,
              "#0d0887"
             ],
             [
              0.1111111111111111,
              "#46039f"
             ],
             [
              0.2222222222222222,
              "#7201a8"
             ],
             [
              0.3333333333333333,
              "#9c179e"
             ],
             [
              0.4444444444444444,
              "#bd3786"
             ],
             [
              0.5555555555555556,
              "#d8576b"
             ],
             [
              0.6666666666666666,
              "#ed7953"
             ],
             [
              0.7777777777777778,
              "#fb9f3a"
             ],
             [
              0.8888888888888888,
              "#fdca26"
             ],
             [
              1,
              "#f0f921"
             ]
            ],
            "type": "histogram2d"
           }
          ],
          "histogram2dcontour": [
           {
            "colorbar": {
             "outlinewidth": 0,
             "ticks": ""
            },
            "colorscale": [
             [
              0,
              "#0d0887"
             ],
             [
              0.1111111111111111,
              "#46039f"
             ],
             [
              0.2222222222222222,
              "#7201a8"
             ],
             [
              0.3333333333333333,
              "#9c179e"
             ],
             [
              0.4444444444444444,
              "#bd3786"
             ],
             [
              0.5555555555555556,
              "#d8576b"
             ],
             [
              0.6666666666666666,
              "#ed7953"
             ],
             [
              0.7777777777777778,
              "#fb9f3a"
             ],
             [
              0.8888888888888888,
              "#fdca26"
             ],
             [
              1,
              "#f0f921"
             ]
            ],
            "type": "histogram2dcontour"
           }
          ],
          "mesh3d": [
           {
            "colorbar": {
             "outlinewidth": 0,
             "ticks": ""
            },
            "type": "mesh3d"
           }
          ],
          "parcoords": [
           {
            "line": {
             "colorbar": {
              "outlinewidth": 0,
              "ticks": ""
             }
            },
            "type": "parcoords"
           }
          ],
          "pie": [
           {
            "automargin": true,
            "type": "pie"
           }
          ],
          "scatter": [
           {
            "marker": {
             "line": {
              "color": "#283442"
             }
            },
            "type": "scatter"
           }
          ],
          "scatter3d": [
           {
            "line": {
             "colorbar": {
              "outlinewidth": 0,
              "ticks": ""
             }
            },
            "marker": {
             "colorbar": {
              "outlinewidth": 0,
              "ticks": ""
             }
            },
            "type": "scatter3d"
           }
          ],
          "scattercarpet": [
           {
            "marker": {
             "colorbar": {
              "outlinewidth": 0,
              "ticks": ""
             }
            },
            "type": "scattercarpet"
           }
          ],
          "scattergeo": [
           {
            "marker": {
             "colorbar": {
              "outlinewidth": 0,
              "ticks": ""
             }
            },
            "type": "scattergeo"
           }
          ],
          "scattergl": [
           {
            "marker": {
             "line": {
              "color": "#283442"
             }
            },
            "type": "scattergl"
           }
          ],
          "scattermapbox": [
           {
            "marker": {
             "colorbar": {
              "outlinewidth": 0,
              "ticks": ""
             }
            },
            "type": "scattermapbox"
           }
          ],
          "scatterpolar": [
           {
            "marker": {
             "colorbar": {
              "outlinewidth": 0,
              "ticks": ""
             }
            },
            "type": "scatterpolar"
           }
          ],
          "scatterpolargl": [
           {
            "marker": {
             "colorbar": {
              "outlinewidth": 0,
              "ticks": ""
             }
            },
            "type": "scatterpolargl"
           }
          ],
          "scatterternary": [
           {
            "marker": {
             "colorbar": {
              "outlinewidth": 0,
              "ticks": ""
             }
            },
            "type": "scatterternary"
           }
          ],
          "surface": [
           {
            "colorbar": {
             "outlinewidth": 0,
             "ticks": ""
            },
            "colorscale": [
             [
              0,
              "#0d0887"
             ],
             [
              0.1111111111111111,
              "#46039f"
             ],
             [
              0.2222222222222222,
              "#7201a8"
             ],
             [
              0.3333333333333333,
              "#9c179e"
             ],
             [
              0.4444444444444444,
              "#bd3786"
             ],
             [
              0.5555555555555556,
              "#d8576b"
             ],
             [
              0.6666666666666666,
              "#ed7953"
             ],
             [
              0.7777777777777778,
              "#fb9f3a"
             ],
             [
              0.8888888888888888,
              "#fdca26"
             ],
             [
              1,
              "#f0f921"
             ]
            ],
            "type": "surface"
           }
          ],
          "table": [
           {
            "cells": {
             "fill": {
              "color": "#506784"
             },
             "line": {
              "color": "rgb(17,17,17)"
             }
            },
            "header": {
             "fill": {
              "color": "#2a3f5f"
             },
             "line": {
              "color": "rgb(17,17,17)"
             }
            },
            "type": "table"
           }
          ]
         },
         "layout": {
          "annotationdefaults": {
           "arrowcolor": "#f2f5fa",
           "arrowhead": 0,
           "arrowwidth": 1
          },
          "autotypenumbers": "strict",
          "coloraxis": {
           "colorbar": {
            "outlinewidth": 0,
            "ticks": ""
           }
          },
          "colorscale": {
           "diverging": [
            [
             0,
             "#8e0152"
            ],
            [
             0.1,
             "#c51b7d"
            ],
            [
             0.2,
             "#de77ae"
            ],
            [
             0.3,
             "#f1b6da"
            ],
            [
             0.4,
             "#fde0ef"
            ],
            [
             0.5,
             "#f7f7f7"
            ],
            [
             0.6,
             "#e6f5d0"
            ],
            [
             0.7,
             "#b8e186"
            ],
            [
             0.8,
             "#7fbc41"
            ],
            [
             0.9,
             "#4d9221"
            ],
            [
             1,
             "#276419"
            ]
           ],
           "sequential": [
            [
             0,
             "#0d0887"
            ],
            [
             0.1111111111111111,
             "#46039f"
            ],
            [
             0.2222222222222222,
             "#7201a8"
            ],
            [
             0.3333333333333333,
             "#9c179e"
            ],
            [
             0.4444444444444444,
             "#bd3786"
            ],
            [
             0.5555555555555556,
             "#d8576b"
            ],
            [
             0.6666666666666666,
             "#ed7953"
            ],
            [
             0.7777777777777778,
             "#fb9f3a"
            ],
            [
             0.8888888888888888,
             "#fdca26"
            ],
            [
             1,
             "#f0f921"
            ]
           ],
           "sequentialminus": [
            [
             0,
             "#0d0887"
            ],
            [
             0.1111111111111111,
             "#46039f"
            ],
            [
             0.2222222222222222,
             "#7201a8"
            ],
            [
             0.3333333333333333,
             "#9c179e"
            ],
            [
             0.4444444444444444,
             "#bd3786"
            ],
            [
             0.5555555555555556,
             "#d8576b"
            ],
            [
             0.6666666666666666,
             "#ed7953"
            ],
            [
             0.7777777777777778,
             "#fb9f3a"
            ],
            [
             0.8888888888888888,
             "#fdca26"
            ],
            [
             1,
             "#f0f921"
            ]
           ]
          },
          "colorway": [
           "#636efa",
           "#EF553B",
           "#00cc96",
           "#ab63fa",
           "#FFA15A",
           "#19d3f3",
           "#FF6692",
           "#B6E880",
           "#FF97FF",
           "#FECB52"
          ],
          "font": {
           "color": "#f2f5fa"
          },
          "geo": {
           "bgcolor": "rgb(17,17,17)",
           "lakecolor": "rgb(17,17,17)",
           "landcolor": "rgb(17,17,17)",
           "showlakes": true,
           "showland": true,
           "subunitcolor": "#506784"
          },
          "hoverlabel": {
           "align": "left"
          },
          "hovermode": "closest",
          "mapbox": {
           "style": "dark"
          },
          "paper_bgcolor": "rgb(17,17,17)",
          "plot_bgcolor": "rgb(17,17,17)",
          "polar": {
           "angularaxis": {
            "gridcolor": "#506784",
            "linecolor": "#506784",
            "ticks": ""
           },
           "bgcolor": "rgb(17,17,17)",
           "radialaxis": {
            "gridcolor": "#506784",
            "linecolor": "#506784",
            "ticks": ""
           }
          },
          "scene": {
           "xaxis": {
            "backgroundcolor": "rgb(17,17,17)",
            "gridcolor": "#506784",
            "gridwidth": 2,
            "linecolor": "#506784",
            "showbackground": true,
            "ticks": "",
            "zerolinecolor": "#C8D4E3"
           },
           "yaxis": {
            "backgroundcolor": "rgb(17,17,17)",
            "gridcolor": "#506784",
            "gridwidth": 2,
            "linecolor": "#506784",
            "showbackground": true,
            "ticks": "",
            "zerolinecolor": "#C8D4E3"
           },
           "zaxis": {
            "backgroundcolor": "rgb(17,17,17)",
            "gridcolor": "#506784",
            "gridwidth": 2,
            "linecolor": "#506784",
            "showbackground": true,
            "ticks": "",
            "zerolinecolor": "#C8D4E3"
           }
          },
          "shapedefaults": {
           "line": {
            "color": "#f2f5fa"
           }
          },
          "sliderdefaults": {
           "bgcolor": "#C8D4E3",
           "bordercolor": "rgb(17,17,17)",
           "borderwidth": 1,
           "tickwidth": 0
          },
          "ternary": {
           "aaxis": {
            "gridcolor": "#506784",
            "linecolor": "#506784",
            "ticks": ""
           },
           "baxis": {
            "gridcolor": "#506784",
            "linecolor": "#506784",
            "ticks": ""
           },
           "bgcolor": "rgb(17,17,17)",
           "caxis": {
            "gridcolor": "#506784",
            "linecolor": "#506784",
            "ticks": ""
           }
          },
          "title": {
           "x": 0.05
          },
          "updatemenudefaults": {
           "bgcolor": "#506784",
           "borderwidth": 0
          },
          "xaxis": {
           "automargin": true,
           "gridcolor": "#283442",
           "linecolor": "#506784",
           "ticks": "",
           "title": {
            "standoff": 15
           },
           "zerolinecolor": "#283442",
           "zerolinewidth": 2
          },
          "yaxis": {
           "automargin": true,
           "gridcolor": "#283442",
           "linecolor": "#506784",
           "ticks": "",
           "title": {
            "standoff": 15
           },
           "zerolinecolor": "#283442",
           "zerolinewidth": 2
          }
         }
        },
        "width": 1200,
        "xaxis": {
         "anchor": "y",
         "domain": [
          0,
          0.235
         ],
         "title": {
          "text": "distance"
         }
        },
        "xaxis2": {
         "anchor": "y2",
         "domain": [
          0.255,
          0.49
         ],
         "matches": "x",
         "title": {
          "text": "distance"
         }
        },
        "xaxis3": {
         "anchor": "y3",
         "domain": [
          0.51,
          0.745
         ],
         "matches": "x",
         "title": {
          "text": "distance"
         }
        },
        "xaxis4": {
         "anchor": "y4",
         "domain": [
          0.7649999999999999,
          0.9999999999999999
         ],
         "matches": "x",
         "title": {
          "text": "distance"
         }
        },
        "xaxis5": {
         "anchor": "y5",
         "domain": [
          0,
          0.235
         ],
         "matches": "x",
         "showticklabels": false
        },
        "xaxis6": {
         "anchor": "y6",
         "domain": [
          0.255,
          0.49
         ],
         "matches": "x",
         "showticklabels": false
        },
        "xaxis7": {
         "anchor": "y7",
         "domain": [
          0.51,
          0.745
         ],
         "matches": "x",
         "showticklabels": false
        },
        "xaxis8": {
         "anchor": "y8",
         "domain": [
          0.7649999999999999,
          0.9999999999999999
         ],
         "matches": "x",
         "showticklabels": false
        },
        "yaxis": {
         "anchor": "x",
         "domain": [
          0,
          0.46499999999999997
         ],
         "title": {
          "text": "base_price"
         }
        },
        "yaxis2": {
         "anchor": "x2",
         "domain": [
          0,
          0.46499999999999997
         ],
         "matches": "y",
         "showticklabels": false
        },
        "yaxis3": {
         "anchor": "x3",
         "domain": [
          0,
          0.46499999999999997
         ],
         "matches": "y",
         "showticklabels": false
        },
        "yaxis4": {
         "anchor": "x4",
         "domain": [
          0,
          0.46499999999999997
         ],
         "matches": "y",
         "showticklabels": false
        },
        "yaxis5": {
         "anchor": "x5",
         "domain": [
          0.5349999999999999,
          0.9999999999999999
         ],
         "matches": "y",
         "title": {
          "text": "base_price"
         }
        },
        "yaxis6": {
         "anchor": "x6",
         "domain": [
          0.5349999999999999,
          0.9999999999999999
         ],
         "matches": "y",
         "showticklabels": false
        },
        "yaxis7": {
         "anchor": "x7",
         "domain": [
          0.5349999999999999,
          0.9999999999999999
         ],
         "matches": "y",
         "showticklabels": false
        },
        "yaxis8": {
         "anchor": "x8",
         "domain": [
          0.5349999999999999,
          0.9999999999999999
         ],
         "matches": "y",
         "showticklabels": false
        }
       }
      },
      "text/html": [
       "<div>                            <div id=\"dcf4a8a7-b61f-4817-9b94-b7ea39453ea1\" class=\"plotly-graph-div\" style=\"height:600px; width:1200px;\"></div>            <script type=\"text/javascript\">                require([\"plotly\"], function(Plotly) {                    window.PLOTLYENV=window.PLOTLYENV || {};                                    if (document.getElementById(\"dcf4a8a7-b61f-4817-9b94-b7ea39453ea1\")) {                    Plotly.newPlot(                        \"dcf4a8a7-b61f-4817-9b94-b7ea39453ea1\",                        [{\"customdata\": [[4, \"\\u30d6\\u30e9\\u30c3\\u30af\\u30d1\\u30fc\\u30eb\"], [5, \"\\u30a2\\u30e9\\u30d0\\u30b9\\u30bf\\u30fc\\u30b7\\u30eb\\u30d0\\u30fc\\uff2d\"], [6, \"\\u30b7\\u30eb\\u30d0\\u30fc\\u30e1\\u30bf\\u30ea\\u30c3\\u30af\"], [20, \"\\u30df\\u30e9\\u30ce\\u30ec\\u30c3\\u30c9\"], [21, \"\\u30b7\\u30eb\\u30d0\\u30fc\"], [22, \"\\u30d7\\u30ec\\u30df\\u30a2\\u30e0\\u30db\\u30ef\\u30a4\\u30c8\\uff30\"], [23, \"\\u30d7\\u30ec\\u30df\\u30a2\\u30e0\\u30db\\u30ef\\u30a4\\u30c8\\uff30\"]], \"hovertemplate\": \"model_year=2013<br>repare=\\u306a\\u3057<br>model=FIT<br>distance=%{x}<br>base_price=%{y}<br>ref_price=%{marker.size}<br>index=%{customdata[0]}<br>color=%{customdata[1]}<extra></extra>\", \"legendgroup\": \"2013, \\u306a\\u3057\", \"marker\": {\"color\": \"#ee0000\", \"size\": [7.0, 42.10000000000001, 42.10000000000001, 31.200000000000003, 28.799999999999997, 35.2, 40.2], \"sizemode\": \"area\", \"sizeref\": 0.232, \"symbol\": \"circle\"}, \"mode\": \"markers\", \"name\": \"2013, \\u306a\\u3057\", \"orientation\": \"v\", \"showlegend\": true, \"type\": \"scatter\", \"x\": [7.1, 4.8, 1.0, 1.8, 5.2, 9.2, 2.5], \"xaxis\": \"x5\", \"y\": [44.8, 79.9, 79.9, 69.0, 66.6, 73.0, 78.0], \"yaxis\": \"y5\"}, {\"customdata\": [[43, \"\\u30e9\\u30a4\\u30c8\\u30d6\\u30eb\\u30fc\"], [47, \"\\u30d6\\u30e9\\u30c3\\u30af\"]], \"hovertemplate\": \"model_year=2013<br>repare=\\u306a\\u3057<br>model=FIELDER<br>distance=%{x}<br>base_price=%{y}<br>ref_price=%{marker.size}<br>index=%{customdata[0]}<br>color=%{customdata[1]}<extra></extra>\", \"legendgroup\": \"2013, \\u306a\\u3057\", \"marker\": {\"color\": \"#ee0000\", \"size\": [52.0, 52.2], \"sizemode\": \"area\", \"sizeref\": 0.232, \"symbol\": \"circle\"}, \"mode\": \"markers\", \"name\": \"2013, \\u306a\\u3057\", \"orientation\": \"v\", \"showlegend\": false, \"type\": \"scatter\", \"x\": [2.3, 6.1], \"xaxis\": \"x\", \"y\": [89.8, 90.0], \"yaxis\": \"y\"}, {\"customdata\": [[62, \"\\u30d6\\u30e9\\u30c3\\u30af\"], [63, \"\\u30af\\u30fc\\u30eb\\u30bd\\u30fc\\u30c0\\u30e1\\u30bf\\u30ea\\u30c3\\u30af\"], [64, \"\\u30af\\u30fc\\u30eb\\u30bd\\u30fc\\u30c0\\u30e1\\u30bf\\u30ea\\u30c3\\u30af\"], [65, \"\\u30af\\u30fc\\u30eb\\u30bd\\u30fc\\u30c0\\u30e1\\u30bf\\u30ea\\u30c3\\u30af\"], [66, \"\\u30d6\\u30e9\\u30c3\\u30af\\u30d1\\u30fc\\u30eb\"], [67, \"\\u30d6\\u30e9\\u30c3\\u30af\\u30de\\u30a4\\u30ab\"]], \"hovertemplate\": \"model_year=2013<br>repare=\\u306a\\u3057<br>model=AQUA<br>distance=%{x}<br>base_price=%{y}<br>ref_price=%{marker.size}<br>index=%{customdata[0]}<br>color=%{customdata[1]}<extra></extra>\", \"legendgroup\": \"2013, \\u306a\\u3057\", \"marker\": {\"color\": \"#ee0000\", \"size\": [2.0, 2.0, 7.0, 22.1, 43.0, 52.10000000000001], \"sizemode\": \"area\", \"sizeref\": 0.232, \"symbol\": \"circle\"}, \"mode\": \"markers\", \"name\": \"2013, \\u306a\\u3057\", \"orientation\": \"v\", \"showlegend\": false, \"type\": \"scatter\", \"x\": [9.9, 6.4, 6.9, 5.2, 7.2, 2.0], \"xaxis\": \"x3\", \"y\": [39.8, 39.8, 44.8, 59.9, 80.8, 89.9], \"yaxis\": \"y3\"}, {\"customdata\": [[1, \"\\u30d6\\u30e9\\u30c3\\u30af\"], [2, \"\\u30e9\\u30a4\\u30c8\\u30b4\\u30fc\\u30eb\\u30c9\\u30e1\\u30bf\\u30ea\\u30c3\\u30af\"], [3, \"\\u30d9\\u30fc\\u30b8\\u30e5\"], [11, \"\\u30d6\\u30ea\\u30ea\\u30a2\\u30f3\\u30c8\\u30b9\\u30dd\\u30fc\\u30c6\\u30a3\\u30fc\\u30d6\\u30eb\\u30fc\\u30e1\\u30bf\\u30ea\\u30c3\\u30af\"], [12, \"\\u30d1\\u30fc\\u30eb\\u30db\\u30ef\\u30a4\\u30c8\"], [13, \"\\u30e9\\u30a4\\u30c8\\u30d9\\u30fc\\u30b8\\u30e5\\uff2d\"], [14, \"\\u30d7\\u30ec\\u30df\\u30a2\\u30e0\\u30db\\u30ef\\u30a4\\u30c8\\u30d1\\u30fc\\u30eb\"], [15, \"\\u30a2\\u30e9\\u30d0\\u30b9\\u30bf\\u30fc\\u30b7\\u30eb\\u30d0\\u30fc\\uff2d\"], [16, \"\\u30d6\\u30ea\\u30ea\\u30a2\\u30f3\\u30c8\\u30b9\\u30dd\\u30fc\\u30c6\\u30a3\\u30d6\\u30eb\\u30fc\\u30e1\\u30bf\\u30ea\\u30c3\\u30af\"], [17, \"\\u30a2\\u30c8\\u30e9\\u30af\\u30c8\\u30a4\\u30a8\\u30ed\\u30fc\\u30d1\\u30fc\\u30eb\"], [18, \"\\u30d7\\u30ec\\u30df\\u30a2\\u30e0\\u30db\\u30ef\\u30a4\\u30c8P\"], [19, \"\\u30d7\\u30ec\\u30df\\u30a2\\u30e0\\u30db\\u30ef\\u30a4\\u30c8\\u30d1\\u30fc\\u30eb\"], [24, \"\\u30d7\\u30ec\\u30df\\u30a2\\u30e0\\u30db\\u30ef\\u30a4\\u30c8\\u30d1\\u30fc\\u30eb\"], [25, \"\\u30d6\\u30eb\\u30fc\"], [26, \"\\u30d6\\u30ea\\u30ea\\u30a2\\u30f3\\u30c8\\u30b9\\u30dd\\u30fc\\u30c6\\u30a3\\u30d6\\u30eb\\u30fc\\u30e1\\u30bf\\u30ea\\u30c3\\u30af\"], [27, \"\\u30d1\\u30fc\\u30eb\"], [29, \"\\u30e9\\u30a4\\u30c8\\u30d6\\u30eb\\u30fc\\u30de\\u30a4\\u30ab\"]], \"hovertemplate\": \"model_year=2014<br>repare=\\u306a\\u3057<br>model=FIT<br>distance=%{x}<br>base_price=%{y}<br>ref_price=%{marker.size}<br>index=%{customdata[0]}<br>color=%{customdata[1]}<extra></extra>\", \"legendgroup\": \"2014, \\u306a\\u3057\", \"marker\": {\"color\": \"#ff6600\", \"size\": [30.0, 47.10000000000001, 50.10000000000001, 22.0, 32.2, 36.0, 37.2, 40.2, 41.10000000000001, 44.2, 47.2, 52.0, 47.10000000000001, 16.0, 27.60000000000001, 23.0, 45.2], \"sizemode\": \"area\", \"sizeref\": 0.232, \"symbol\": \"circle\"}, \"mode\": \"markers\", \"name\": \"2014, \\u306a\\u3057\", \"orientation\": \"v\", \"showlegend\": true, \"type\": \"scatter\", \"x\": [6.4, 0.9, 2.6, 8.3, 5.0, 5.9, 8.2, 7.3, 4.6, 4.1, 6.4, 6.1, 1.0, 6.2, 7.4, 9.1, 5.0], \"xaxis\": \"x5\", \"y\": [67.8, 84.9, 87.9, 59.8, 70.0, 73.8, 75.0, 78.0, 78.9, 82.0, 85.0, 89.8, 84.9, 53.8, 65.4, 60.8, 83.0], \"yaxis\": \"y5\"}, {\"customdata\": [[35, \"\\u30a2\\u30e9\\u30d0\\u30b9\\u30bf\\u2015\\u30b7\\u30eb\\u30d0\\u30fcM\"], [36, \"\\u30b4\\u30fc\\u30eb\\u30c9\\u30d6\\u30e9\\u30a6\\u30f3\\u30e1\\u30bf\\u30ea\\u30c3\\u30af\"]], \"hovertemplate\": \"model_year=2014<br>repare=\\u306a\\u3057<br>model=GRACE<br>distance=%{x}<br>base_price=%{y}<br>ref_price=%{marker.size}<br>index=%{customdata[0]}<br>color=%{customdata[1]}<extra></extra>\", \"legendgroup\": \"2014, \\u306a\\u3057\", \"marker\": {\"color\": \"#ff6600\", \"size\": [25.0, 36.0], \"sizemode\": \"area\", \"sizeref\": 0.232, \"symbol\": \"circle\"}, \"mode\": \"markers\", \"name\": \"2014, \\u306a\\u3057\", \"orientation\": \"v\", \"showlegend\": false, \"type\": \"scatter\", \"x\": [2.8, 5.8], \"xaxis\": \"x7\", \"y\": [62.8, 73.8], \"yaxis\": \"y7\"}, {\"customdata\": [[38, \"\\u30d6\\u30e9\\u30c3\\u30af\\u30de\\u30a4\\u30ab\"], [39, \"\\u30b7\\u30eb\\u30d0\\u30fc\"], [41, \"\\u30b7\\u30eb\\u30d0\\u30fc\"], [42, \"\\u30d6\\u30eb\\u30fc\"], [45, \"\\u30d6\\u30e9\\u30c3\\u30af\"], [46, \"\\u30d1\\u30fc\\u30eb\\u30db\\u30ef\\u30a4\\u30c8\"]], \"hovertemplate\": \"model_year=2014<br>repare=\\u306a\\u3057<br>model=FIELDER<br>distance=%{x}<br>base_price=%{y}<br>ref_price=%{marker.size}<br>index=%{customdata[0]}<br>color=%{customdata[1]}<extra></extra>\", \"legendgroup\": \"2014, \\u306a\\u3057\", \"marker\": {\"color\": \"#ff6600\", \"size\": [52.10000000000001, 42.3, 36.2, 36.2, 52.2, 46.0], \"sizemode\": \"area\", \"sizeref\": 0.232, \"symbol\": \"circle\"}, \"mode\": \"markers\", \"name\": \"2014, \\u306a\\u3057\", \"orientation\": \"v\", \"showlegend\": false, \"type\": \"scatter\", \"x\": [6.4, 6.7, 8.1, 6.5, 6.6, 7.3], \"xaxis\": \"x\", \"y\": [89.9, 80.1, 74.0, 74.0, 90.0, 83.8], \"yaxis\": \"y\"}, {\"customdata\": [[57, \"\\u30d6\\u30e9\\u30c3\\u30af\\u30de\\u30a4\\u30ab\"], [60, \"\\u30c7\\u30a3\\u30fc\\u30d7\\u30a2\\u30e1\\u30b8\\u30b9\\u30c8\\u30de\\u30a4\\u30ab\\u30e1\\u30bf\\u30ea\\u30c3\\u30af\"], [61, \"\\u30e9\\u30a4\\u30e0\\u30db\\u30ef\\u30a4\\u30c8\\u30d1\\u30fc\\u30eb\\u30af\\u30ea\\u30b9\\u30bf\\u30eb\\u30b7\\u30e3\\u30a4\\u30f3\"]], \"hovertemplate\": \"model_year=2014<br>repare=\\u306a\\u3057<br>model=AQUA<br>distance=%{x}<br>base_price=%{y}<br>ref_price=%{marker.size}<br>index=%{customdata[0]}<br>color=%{customdata[1]}<extra></extra>\", \"legendgroup\": \"2014, \\u306a\\u3057\", \"marker\": {\"color\": \"#ff6600\", \"size\": [12.0, 22.0, 52.0], \"sizemode\": \"area\", \"sizeref\": 0.232, \"symbol\": \"circle\"}, \"mode\": \"markers\", \"name\": \"2014, \\u306a\\u3057\", \"orientation\": \"v\", \"showlegend\": false, \"type\": \"scatter\", \"x\": [7.5, 3.5, 9.3], \"xaxis\": \"x3\", \"y\": [49.8, 59.8, 89.8], \"yaxis\": \"y3\"}, {\"customdata\": [[28, \"\\u30d6\\u30e9\\u30c3\\u30af\"]], \"hovertemplate\": \"model_year=2014<br>repare=\\u3042\\u308a<br>model=FIT<br>distance=%{x}<br>base_price=%{y}<br>ref_price=%{marker.size}<br>index=%{customdata[0]}<br>color=%{customdata[1]}<extra></extra>\", \"legendgroup\": \"2014, \\u3042\\u308a\", \"marker\": {\"color\": \"#ff6600\", \"size\": [45.900000000000006], \"sizemode\": \"area\", \"sizeref\": 0.232, \"symbol\": \"diamond\"}, \"mode\": \"markers\", \"name\": \"2014, \\u3042\\u308a\", \"orientation\": \"v\", \"showlegend\": true, \"type\": \"scatter\", \"x\": [2.1], \"xaxis\": \"x5\", \"y\": [83.7], \"yaxis\": \"y5\"}, {\"customdata\": [[44, \"\\u30d6\\u30eb\\u30fc\"]], \"hovertemplate\": \"model_year=2014<br>repare=\\u3042\\u308a<br>model=FIELDER<br>distance=%{x}<br>base_price=%{y}<br>ref_price=%{marker.size}<br>index=%{customdata[0]}<br>color=%{customdata[1]}<extra></extra>\", \"legendgroup\": \"2014, \\u3042\\u308a\", \"marker\": {\"color\": \"#ff6600\", \"size\": [24.200000000000003], \"sizemode\": \"area\", \"sizeref\": 0.232, \"symbol\": \"diamond\"}, \"mode\": \"markers\", \"name\": \"2014, \\u3042\\u308a\", \"orientation\": \"v\", \"showlegend\": false, \"type\": \"scatter\", \"x\": [9.6], \"xaxis\": \"x\", \"y\": [62.0], \"yaxis\": \"y\"}, {\"customdata\": [[58, \"\\u30d6\\u30eb\\u30fc\"], [59, \"\\u30d1\\u30fc\\u30d7\\u30eb\"]], \"hovertemplate\": \"model_year=2014<br>repare=\\u3042\\u308a<br>model=AQUA<br>distance=%{x}<br>base_price=%{y}<br>ref_price=%{marker.size}<br>index=%{customdata[0]}<br>color=%{customdata[1]}<extra></extra>\", \"legendgroup\": \"2014, \\u3042\\u308a\", \"marker\": {\"color\": \"#ff6600\", \"size\": [32.10000000000001, 32.10000000000001], \"sizemode\": \"area\", \"sizeref\": 0.232, \"symbol\": \"diamond\"}, \"mode\": \"markers\", \"name\": \"2014, \\u3042\\u308a\", \"orientation\": \"v\", \"showlegend\": false, \"type\": \"scatter\", \"x\": [9.2, 7.2], \"xaxis\": \"x3\", \"y\": [69.9, 69.9], \"yaxis\": \"y3\"}, {\"customdata\": [[31, \"\\u30db\\u30ef\\u30a4\\u30c8\\u30d1\\u30fc\\u30eb\"], [32, \"\\u30af\\u30ea\\u30b9\\u30bf\\u30eb\\u30d6\\u30e9\\u30c3\\u30af\\u30d1\\u30fc\\u30eb\"]], \"hovertemplate\": \"model_year=2015<br>repare=\\u306a\\u3057<br>model=SHUTTLE<br>distance=%{x}<br>base_price=%{y}<br>ref_price=%{marker.size}<br>index=%{customdata[0]}<br>color=%{customdata[1]}<extra></extra>\", \"legendgroup\": \"2015, \\u306a\\u3057\", \"marker\": {\"color\": \"#eedd00\", \"size\": [46.0, 15.0], \"sizemode\": \"area\", \"sizeref\": 0.232, \"symbol\": \"circle\"}, \"mode\": \"markers\", \"name\": \"2015, \\u306a\\u3057\", \"orientation\": \"v\", \"showlegend\": true, \"type\": \"scatter\", \"x\": [9.6, 9.6], \"xaxis\": \"x6\", \"y\": [83.8, 52.8], \"yaxis\": \"y6\"}, {\"customdata\": [[34, \"\\u30b7\\u30eb\\u30d0\\u30fc\"]], \"hovertemplate\": \"model_year=2015<br>repare=\\u306a\\u3057<br>model=GRACE<br>distance=%{x}<br>base_price=%{y}<br>ref_price=%{marker.size}<br>index=%{customdata[0]}<br>color=%{customdata[1]}<extra></extra>\", \"legendgroup\": \"2015, \\u306a\\u3057\", \"marker\": {\"color\": \"#eedd00\", \"size\": [42.3], \"sizemode\": \"area\", \"sizeref\": 0.232, \"symbol\": \"circle\"}, \"mode\": \"markers\", \"name\": \"2015, \\u306a\\u3057\", \"orientation\": \"v\", \"showlegend\": false, \"type\": \"scatter\", \"x\": [8.1], \"xaxis\": \"x7\", \"y\": [80.1], \"yaxis\": \"y7\"}, {\"customdata\": [[37, \"\\u30af\\u30ea\\u30b9\\u30bf\\u30eb\\u30d6\\u30e9\\u30c3\\u30afP\"]], \"hovertemplate\": \"model_year=2015<br>repare=\\u306a\\u3057<br>model=JADE<br>distance=%{x}<br>base_price=%{y}<br>ref_price=%{marker.size}<br>index=%{customdata[0]}<br>color=%{customdata[1]}<extra></extra>\", \"legendgroup\": \"2015, \\u306a\\u3057\", \"marker\": {\"color\": \"#eedd00\", \"size\": [38.0], \"sizemode\": \"area\", \"sizeref\": 0.232, \"symbol\": \"circle\"}, \"mode\": \"markers\", \"name\": \"2015, \\u306a\\u3057\", \"orientation\": \"v\", \"showlegend\": false, \"type\": \"scatter\", \"x\": [9.3], \"xaxis\": \"x8\", \"y\": [75.8], \"yaxis\": \"y8\"}, {\"customdata\": [[53, \"\\u30d6\\u30e9\\u30c3\\u30af\\u30d1\\u30fc\\u30eb\"], [54, \"\\u30d4\\u30f3\\u30af\"], [56, \"\\u30d4\\u30f3\\u30af\\u30e1\\u30bf\\u30ea\\u30c3\\u30af\"], [75, \"\\u30b7\\u30eb\\u30d0\\u30fc\\u30e1\\u30bf\\u30ea\\u30c3\\u30af\"], [76, \"\\u30db\\u30ef\\u30a4\\u30c8\"], [77, \"\\u30db\\u30ef\\u30a4\\u30c8\"], [78, \"\\u30b7\\u30eb\\u30d0\\u30fc\"]], \"hovertemplate\": \"model_year=2015<br>repare=\\u306a\\u3057<br>model=AQUA<br>distance=%{x}<br>base_price=%{y}<br>ref_price=%{marker.size}<br>index=%{customdata[0]}<br>color=%{customdata[1]}<extra></extra>\", \"legendgroup\": \"2015, \\u306a\\u3057\", \"marker\": {\"color\": \"#eedd00\", \"size\": [14.0, 22.0, 32.0, 7.0, 9.200000000000003, 28.10000000000001, 30.200000000000003], \"sizemode\": \"area\", \"sizeref\": 0.232, \"symbol\": \"circle\"}, \"mode\": \"markers\", \"name\": \"2015, \\u306a\\u3057\", \"orientation\": \"v\", \"showlegend\": false, \"type\": \"scatter\", \"x\": [9.8, 7.6, 6.9, 6.7, 8.5, 7.4, 5.9], \"xaxis\": \"x3\", \"y\": [51.8, 59.8, 69.8, 44.8, 47.0, 65.9, 68.0], \"yaxis\": \"y3\"}, {\"customdata\": [[33, \"\\u30d1\\u30fc\\u30eb\"]], \"hovertemplate\": \"model_year=2015<br>repare=\\u3042\\u308a<br>model=GRACE<br>distance=%{x}<br>base_price=%{y}<br>ref_price=%{marker.size}<br>index=%{customdata[0]}<br>color=%{customdata[1]}<extra></extra>\", \"legendgroup\": \"2015, \\u3042\\u308a\", \"marker\": {\"color\": \"#eedd00\", \"size\": [45.10000000000001], \"sizemode\": \"area\", \"sizeref\": 0.232, \"symbol\": \"diamond\"}, \"mode\": \"markers\", \"name\": \"2015, \\u3042\\u308a\", \"orientation\": \"v\", \"showlegend\": true, \"type\": \"scatter\", \"x\": [6.3], \"xaxis\": \"x7\", \"y\": [82.9], \"yaxis\": \"y7\"}, {\"customdata\": [[52, \"\\u30b7\\u30eb\\u30d0\\u30fc\\u30e1\\u30bf\\u30ea\\u30c3\\u30af\"], [55, \"\\u30e9\\u30a4\\u30c8\\u30d6\\u30eb\\u30fc\"], [73, \"\\u30db\\u30ef\\u30a4\\u30c8\"], [74, \"\\u30b7\\u30eb\\u30d0\\u30fc\\u30e1\\u30bf\\u30ea\\u30c3\\u30af\"]], \"hovertemplate\": \"model_year=2015<br>repare=\\u3042\\u308a<br>model=AQUA<br>distance=%{x}<br>base_price=%{y}<br>ref_price=%{marker.size}<br>index=%{customdata[0]}<br>color=%{customdata[1]}<extra></extra>\", \"legendgroup\": \"2015, \\u3042\\u308a\", \"marker\": {\"color\": \"#eedd00\", \"size\": [10.200000000000003, 37.10000000000001, 22.1, 7.200000000000003], \"sizemode\": \"area\", \"sizeref\": 0.232, \"symbol\": \"diamond\"}, \"mode\": \"markers\", \"name\": \"2015, \\u3042\\u308a\", \"orientation\": \"v\", \"showlegend\": false, \"type\": \"scatter\", \"x\": [8.0, 6.0, 9.0, 8.3], \"xaxis\": \"x3\", \"y\": [48.0, 74.9, 59.9, 45.0], \"yaxis\": \"y3\"}, {\"customdata\": [[8, \"\\u30eb\\u30fc\\u30bb\\u30d6\\u30e9\\u30c3\\u30af\\uff2d\"], [9, \"\\u30d7\\u30ec\\u30df\\u30a2\\u30e0\\u30db\\u30ef\\u30a4\\u30c8\\uff30II\"], [10, \"\\u30d7\\u30ec\\u30df\\u30a2\\u30e0\\u30db\\u30ef\\u30a4\\u30c8\\u30d1\\u30fc\\u30ebII\"]], \"hovertemplate\": \"model_year=2016<br>repare=\\u306a\\u3057<br>model=FIT<br>distance=%{x}<br>base_price=%{y}<br>ref_price=%{marker.size}<br>index=%{customdata[0]}<br>color=%{customdata[1]}<extra></extra>\", \"legendgroup\": \"2016, \\u306a\\u3057\", \"marker\": {\"color\": \"#99ff00\", \"size\": [51.2, 52.0, 52.0], \"sizemode\": \"area\", \"sizeref\": 0.232, \"symbol\": \"circle\"}, \"mode\": \"markers\", \"name\": \"2016, \\u306a\\u3057\", \"orientation\": \"v\", \"showlegend\": true, \"type\": \"scatter\", \"x\": [6.8, 7.0, 4.2], \"xaxis\": \"x5\", \"y\": [89.0, 89.8, 89.8], \"yaxis\": \"y5\"}, {\"customdata\": [[30, \"\\u30c0\\u30fc\\u30af\\u30d6\\u30eb\\u30fc\"]], \"hovertemplate\": \"model_year=2016<br>repare=\\u306a\\u3057<br>model=SHUTTLE<br>distance=%{x}<br>base_price=%{y}<br>ref_price=%{marker.size}<br>index=%{customdata[0]}<br>color=%{customdata[1]}<extra></extra>\", \"legendgroup\": \"2016, \\u306a\\u3057\", \"marker\": {\"color\": \"#99ff00\", \"size\": [40.0], \"sizemode\": \"area\", \"sizeref\": 0.232, \"symbol\": \"circle\"}, \"mode\": \"markers\", \"name\": \"2016, \\u306a\\u3057\", \"orientation\": \"v\", \"showlegend\": false, \"type\": \"scatter\", \"x\": [9.5], \"xaxis\": \"x6\", \"y\": [77.8], \"yaxis\": \"y6\"}, {\"customdata\": [[40, \"\\u30b7\\u30eb\\u30d0\\u30fc\\u30e1\\u30bf\\u30ea\\u30c3\\u30af\"]], \"hovertemplate\": \"model_year=2016<br>repare=\\u306a\\u3057<br>model=FIELDER<br>distance=%{x}<br>base_price=%{y}<br>ref_price=%{marker.size}<br>index=%{customdata[0]}<br>color=%{customdata[1]}<extra></extra>\", \"legendgroup\": \"2016, \\u306a\\u3057\", \"marker\": {\"color\": \"#99ff00\", \"size\": [46.7], \"sizemode\": \"area\", \"sizeref\": 0.232, \"symbol\": \"circle\"}, \"mode\": \"markers\", \"name\": \"2016, \\u306a\\u3057\", \"orientation\": \"v\", \"showlegend\": false, \"type\": \"scatter\", \"x\": [6.4], \"xaxis\": \"x\", \"y\": [84.5], \"yaxis\": \"y\"}, {\"customdata\": [[49, \"\\u30c7\\u30a3\\u30fc\\u30d7\\u30a2\\u30e1\\u30b8\\u30b9\\u30c8\\u30de\\u30a4\\u30ab\\u30e1\\u30bf\\u30ea\\u30c3\\u30af\"], [50, \"\\u30e9\\u30a4\\u30c8\\u30d6\\u30eb\\u30fc\"], [68, \"\\u30b7\\u30eb\\u30d0\\u30fc\"], [69, \"\\u30b7\\u30eb\\u30d0\\u30fc\\u30e1\\u30bf\\u30ea\\u30c3\\u30af\"], [70, \"\\u30d6\\u30eb\\u30fc\\u30e1\\u30bf\\u30ea\\u30c3\\u30af\"], [71, \"\\u30e9\\u30a4\\u30e0\\u30db\\u30ef\\u30a4\\u30c8\\u30d1\\u30fc\\u30eb\\u30af\\u30ea\\u30b9\\u30bf\\u30eb\\u30b7\\u30e3\\u30a4\\u30f3\"], [72, \"\\u30e9\\u30a4\\u30e0\\u30db\\u30ef\\u30a4\\u30c8\\u30d1\\u30fc\\u30eb\\u30af\\u30ea\\u30b9\\u30bf\\u30eb\\u30b7\\u30e3\\u30a4\\u30f3\"]], \"hovertemplate\": \"model_year=2016<br>repare=\\u306a\\u3057<br>model=AQUA<br>distance=%{x}<br>base_price=%{y}<br>ref_price=%{marker.size}<br>index=%{customdata[0]}<br>color=%{customdata[1]}<extra></extra>\", \"legendgroup\": \"2016, \\u306a\\u3057\", \"marker\": {\"color\": \"#99ff00\", \"size\": [27.0, 30.200000000000003, 35.10000000000001, 32.0, 22.0, 32.0, 37.0], \"sizemode\": \"area\", \"sizeref\": 0.232, \"symbol\": \"circle\"}, \"mode\": \"markers\", \"name\": \"2016, \\u306a\\u3057\", \"orientation\": \"v\", \"showlegend\": false, \"type\": \"scatter\", \"x\": [5.3, 6.3, 5.6, 6.4, 8.6, 7.0, 6.1], \"xaxis\": \"x3\", \"y\": [64.8, 68.0, 72.9, 69.8, 59.8, 69.8, 74.8], \"yaxis\": \"y3\"}, {\"customdata\": [[7, \"\\u30d4\\u30f3\\u30af\\u30e1\\u30bf\\u30ea\\u30c3\\u30af\"]], \"hovertemplate\": \"model_year=2016<br>repare=\\u3042\\u308a<br>model=FIT<br>distance=%{x}<br>base_price=%{y}<br>ref_price=%{marker.size}<br>index=%{customdata[0]}<br>color=%{customdata[1]}<extra></extra>\", \"legendgroup\": \"2016, \\u3042\\u308a\", \"marker\": {\"color\": \"#99ff00\", \"size\": [43.2], \"sizemode\": \"area\", \"sizeref\": 0.232, \"symbol\": \"diamond\"}, \"mode\": \"markers\", \"name\": \"2016, \\u3042\\u308a\", \"orientation\": \"v\", \"showlegend\": true, \"type\": \"scatter\", \"x\": [7.0], \"xaxis\": \"x5\", \"y\": [81.0], \"yaxis\": \"y5\"}, {\"customdata\": [[51, \"\\u30d6\\u30eb\\u30fc\"]], \"hovertemplate\": \"model_year=2016<br>repare=\\u3042\\u308a<br>model=AQUA<br>distance=%{x}<br>base_price=%{y}<br>ref_price=%{marker.size}<br>index=%{customdata[0]}<br>color=%{customdata[1]}<extra></extra>\", \"legendgroup\": \"2016, \\u3042\\u308a\", \"marker\": {\"color\": \"#99ff00\", \"size\": [46.2], \"sizemode\": \"area\", \"sizeref\": 0.232, \"symbol\": \"diamond\"}, \"mode\": \"markers\", \"name\": \"2016, \\u3042\\u308a\", \"orientation\": \"v\", \"showlegend\": false, \"type\": \"scatter\", \"x\": [5.7], \"xaxis\": \"x3\", \"y\": [84.0], \"yaxis\": \"y3\"}, {\"customdata\": [[0, \"\\u30d4\\u30f3\\u30af\"]], \"hovertemplate\": \"model_year=2017<br>repare=\\u306a\\u3057<br>model=FIT<br>distance=%{x}<br>base_price=%{y}<br>ref_price=%{marker.size}<br>index=%{customdata[0]}<br>color=%{customdata[1]}<extra></extra>\", \"legendgroup\": \"2017, \\u306a\\u3057\", \"marker\": {\"color\": \"#33bb33\", \"size\": [48.10000000000001], \"sizemode\": \"area\", \"sizeref\": 0.232, \"symbol\": \"circle\"}, \"mode\": \"markers\", \"name\": \"2017, \\u306a\\u3057\", \"orientation\": \"v\", \"showlegend\": true, \"type\": \"scatter\", \"x\": [6.0], \"xaxis\": \"x5\", \"y\": [85.9], \"yaxis\": \"y5\"}, {\"customdata\": [[79, \"\\u30b0\\u30ec\\u30fc\"], [80, \"\\u30b7\\u30eb\\u30d0\\u30fc\"]], \"hovertemplate\": \"model_year=2017<br>repare=\\u306a\\u3057<br>model=NOTE<br>distance=%{x}<br>base_price=%{y}<br>ref_price=%{marker.size}<br>index=%{customdata[0]}<br>color=%{customdata[1]}<extra></extra>\", \"legendgroup\": \"2017, \\u306a\\u3057\", \"marker\": {\"color\": \"#33bb33\", \"size\": [52.0, 51.2], \"sizemode\": \"area\", \"sizeref\": 0.232, \"symbol\": \"circle\"}, \"mode\": \"markers\", \"name\": \"2017, \\u306a\\u3057\", \"orientation\": \"v\", \"showlegend\": false, \"type\": \"scatter\", \"x\": [4.1, 6.3], \"xaxis\": \"x4\", \"y\": [89.8, 89.0], \"yaxis\": \"y4\"}, {\"customdata\": [[48, \"\\u30b7\\u30eb\\u30d0\\u30fc\\u30e1\\u30bf\\u30ea\\u30c3\\u30af\"]], \"hovertemplate\": \"model_year=2018<br>repare=\\u306a\\u3057<br>model=VITZ<br>distance=%{x}<br>base_price=%{y}<br>ref_price=%{marker.size}<br>index=%{customdata[0]}<br>color=%{customdata[1]}<extra></extra>\", \"legendgroup\": \"2018, \\u306a\\u3057\", \"marker\": {\"color\": \"#00bb77\", \"size\": [51.8], \"sizemode\": \"area\", \"sizeref\": 0.232, \"symbol\": \"circle\"}, \"mode\": \"markers\", \"name\": \"2018, \\u306a\\u3057\", \"orientation\": \"v\", \"showlegend\": true, \"type\": \"scatter\", \"x\": [8.9], \"xaxis\": \"x2\", \"y\": [89.6], \"yaxis\": \"y2\"}],                        {\"annotations\": [{\"font\": {}, \"showarrow\": false, \"text\": \"model=FIELDER\", \"x\": 0.1175, \"xanchor\": \"center\", \"xref\": \"paper\", \"y\": 0.46499999999999997, \"yanchor\": \"bottom\", \"yref\": \"paper\"}, {\"font\": {}, \"showarrow\": false, \"text\": \"model=VITZ\", \"x\": 0.3725, \"xanchor\": \"center\", \"xref\": \"paper\", \"y\": 0.46499999999999997, \"yanchor\": \"bottom\", \"yref\": \"paper\"}, {\"font\": {}, \"showarrow\": false, \"text\": \"model=AQUA\", \"x\": 0.6275, \"xanchor\": \"center\", \"xref\": \"paper\", \"y\": 0.46499999999999997, \"yanchor\": \"bottom\", \"yref\": \"paper\"}, {\"font\": {}, \"showarrow\": false, \"text\": \"model=NOTE\", \"x\": 0.8824999999999998, \"xanchor\": \"center\", \"xref\": \"paper\", \"y\": 0.46499999999999997, \"yanchor\": \"bottom\", \"yref\": \"paper\"}, {\"font\": {}, \"showarrow\": false, \"text\": \"model=FIT\", \"x\": 0.1175, \"xanchor\": \"center\", \"xref\": \"paper\", \"y\": 0.9999999999999999, \"yanchor\": \"bottom\", \"yref\": \"paper\"}, {\"font\": {}, \"showarrow\": false, \"text\": \"model=SHUTTLE\", \"x\": 0.3725, \"xanchor\": \"center\", \"xref\": \"paper\", \"y\": 0.9999999999999999, \"yanchor\": \"bottom\", \"yref\": \"paper\"}, {\"font\": {}, \"showarrow\": false, \"text\": \"model=GRACE\", \"x\": 0.6275, \"xanchor\": \"center\", \"xref\": \"paper\", \"y\": 0.9999999999999999, \"yanchor\": \"bottom\", \"yref\": \"paper\"}, {\"font\": {}, \"showarrow\": false, \"text\": \"model=JADE\", \"x\": 0.8824999999999998, \"xanchor\": \"center\", \"xref\": \"paper\", \"y\": 0.9999999999999999, \"yanchor\": \"bottom\", \"yref\": \"paper\"}], \"height\": 600, \"legend\": {\"itemsizing\": \"constant\", \"title\": {\"text\": \"model_year, repare\"}, \"tracegroupgap\": 0}, \"margin\": {\"t\": 60}, \"template\": {\"data\": {\"bar\": [{\"error_x\": {\"color\": \"#f2f5fa\"}, \"error_y\": {\"color\": \"#f2f5fa\"}, \"marker\": {\"line\": {\"color\": \"rgb(17,17,17)\", \"width\": 0.5}}, \"type\": \"bar\"}], \"barpolar\": [{\"marker\": {\"line\": {\"color\": \"rgb(17,17,17)\", \"width\": 0.5}}, \"type\": \"barpolar\"}], \"carpet\": [{\"aaxis\": {\"endlinecolor\": \"#A2B1C6\", \"gridcolor\": \"#506784\", \"linecolor\": \"#506784\", \"minorgridcolor\": \"#506784\", \"startlinecolor\": \"#A2B1C6\"}, \"baxis\": {\"endlinecolor\": \"#A2B1C6\", \"gridcolor\": \"#506784\", \"linecolor\": \"#506784\", \"minorgridcolor\": \"#506784\", \"startlinecolor\": \"#A2B1C6\"}, \"type\": \"carpet\"}], \"choropleth\": [{\"colorbar\": {\"outlinewidth\": 0, \"ticks\": \"\"}, \"type\": \"choropleth\"}], \"contour\": [{\"colorbar\": {\"outlinewidth\": 0, \"ticks\": \"\"}, \"colorscale\": [[0.0, \"#0d0887\"], [0.1111111111111111, \"#46039f\"], [0.2222222222222222, \"#7201a8\"], [0.3333333333333333, \"#9c179e\"], [0.4444444444444444, \"#bd3786\"], [0.5555555555555556, \"#d8576b\"], [0.6666666666666666, \"#ed7953\"], [0.7777777777777778, \"#fb9f3a\"], [0.8888888888888888, \"#fdca26\"], [1.0, \"#f0f921\"]], \"type\": \"contour\"}], \"contourcarpet\": [{\"colorbar\": {\"outlinewidth\": 0, \"ticks\": \"\"}, \"type\": \"contourcarpet\"}], \"heatmap\": [{\"colorbar\": {\"outlinewidth\": 0, \"ticks\": \"\"}, \"colorscale\": [[0.0, \"#0d0887\"], [0.1111111111111111, \"#46039f\"], [0.2222222222222222, \"#7201a8\"], [0.3333333333333333, \"#9c179e\"], [0.4444444444444444, \"#bd3786\"], [0.5555555555555556, \"#d8576b\"], [0.6666666666666666, \"#ed7953\"], [0.7777777777777778, \"#fb9f3a\"], [0.8888888888888888, \"#fdca26\"], [1.0, \"#f0f921\"]], \"type\": \"heatmap\"}], \"heatmapgl\": [{\"colorbar\": {\"outlinewidth\": 0, \"ticks\": \"\"}, \"colorscale\": [[0.0, \"#0d0887\"], [0.1111111111111111, \"#46039f\"], [0.2222222222222222, \"#7201a8\"], [0.3333333333333333, \"#9c179e\"], [0.4444444444444444, \"#bd3786\"], [0.5555555555555556, \"#d8576b\"], [0.6666666666666666, \"#ed7953\"], [0.7777777777777778, \"#fb9f3a\"], [0.8888888888888888, \"#fdca26\"], [1.0, \"#f0f921\"]], \"type\": \"heatmapgl\"}], \"histogram\": [{\"marker\": {\"colorbar\": {\"outlinewidth\": 0, \"ticks\": \"\"}}, \"type\": \"histogram\"}], \"histogram2d\": [{\"colorbar\": {\"outlinewidth\": 0, \"ticks\": \"\"}, \"colorscale\": [[0.0, \"#0d0887\"], [0.1111111111111111, \"#46039f\"], [0.2222222222222222, \"#7201a8\"], [0.3333333333333333, \"#9c179e\"], [0.4444444444444444, \"#bd3786\"], [0.5555555555555556, \"#d8576b\"], [0.6666666666666666, \"#ed7953\"], [0.7777777777777778, \"#fb9f3a\"], [0.8888888888888888, \"#fdca26\"], [1.0, \"#f0f921\"]], \"type\": \"histogram2d\"}], \"histogram2dcontour\": [{\"colorbar\": {\"outlinewidth\": 0, \"ticks\": \"\"}, \"colorscale\": [[0.0, \"#0d0887\"], [0.1111111111111111, \"#46039f\"], [0.2222222222222222, \"#7201a8\"], [0.3333333333333333, \"#9c179e\"], [0.4444444444444444, \"#bd3786\"], [0.5555555555555556, \"#d8576b\"], [0.6666666666666666, \"#ed7953\"], [0.7777777777777778, \"#fb9f3a\"], [0.8888888888888888, \"#fdca26\"], [1.0, \"#f0f921\"]], \"type\": \"histogram2dcontour\"}], \"mesh3d\": [{\"colorbar\": {\"outlinewidth\": 0, \"ticks\": \"\"}, \"type\": \"mesh3d\"}], \"parcoords\": [{\"line\": {\"colorbar\": {\"outlinewidth\": 0, \"ticks\": \"\"}}, \"type\": \"parcoords\"}], \"pie\": [{\"automargin\": true, \"type\": \"pie\"}], \"scatter\": [{\"marker\": {\"line\": {\"color\": \"#283442\"}}, \"type\": \"scatter\"}], \"scatter3d\": [{\"line\": {\"colorbar\": {\"outlinewidth\": 0, \"ticks\": \"\"}}, \"marker\": {\"colorbar\": {\"outlinewidth\": 0, \"ticks\": \"\"}}, \"type\": \"scatter3d\"}], \"scattercarpet\": [{\"marker\": {\"colorbar\": {\"outlinewidth\": 0, \"ticks\": \"\"}}, \"type\": \"scattercarpet\"}], \"scattergeo\": [{\"marker\": {\"colorbar\": {\"outlinewidth\": 0, \"ticks\": \"\"}}, \"type\": \"scattergeo\"}], \"scattergl\": [{\"marker\": {\"line\": {\"color\": \"#283442\"}}, \"type\": \"scattergl\"}], \"scattermapbox\": [{\"marker\": {\"colorbar\": {\"outlinewidth\": 0, \"ticks\": \"\"}}, \"type\": \"scattermapbox\"}], \"scatterpolar\": [{\"marker\": {\"colorbar\": {\"outlinewidth\": 0, \"ticks\": \"\"}}, \"type\": \"scatterpolar\"}], \"scatterpolargl\": [{\"marker\": {\"colorbar\": {\"outlinewidth\": 0, \"ticks\": \"\"}}, \"type\": \"scatterpolargl\"}], \"scatterternary\": [{\"marker\": {\"colorbar\": {\"outlinewidth\": 0, \"ticks\": \"\"}}, \"type\": \"scatterternary\"}], \"surface\": [{\"colorbar\": {\"outlinewidth\": 0, \"ticks\": \"\"}, \"colorscale\": [[0.0, \"#0d0887\"], [0.1111111111111111, \"#46039f\"], [0.2222222222222222, \"#7201a8\"], [0.3333333333333333, \"#9c179e\"], [0.4444444444444444, \"#bd3786\"], [0.5555555555555556, \"#d8576b\"], [0.6666666666666666, \"#ed7953\"], [0.7777777777777778, \"#fb9f3a\"], [0.8888888888888888, \"#fdca26\"], [1.0, \"#f0f921\"]], \"type\": \"surface\"}], \"table\": [{\"cells\": {\"fill\": {\"color\": \"#506784\"}, \"line\": {\"color\": \"rgb(17,17,17)\"}}, \"header\": {\"fill\": {\"color\": \"#2a3f5f\"}, \"line\": {\"color\": \"rgb(17,17,17)\"}}, \"type\": \"table\"}]}, \"layout\": {\"annotationdefaults\": {\"arrowcolor\": \"#f2f5fa\", \"arrowhead\": 0, \"arrowwidth\": 1}, \"autotypenumbers\": \"strict\", \"coloraxis\": {\"colorbar\": {\"outlinewidth\": 0, \"ticks\": \"\"}}, \"colorscale\": {\"diverging\": [[0, \"#8e0152\"], [0.1, \"#c51b7d\"], [0.2, \"#de77ae\"], [0.3, \"#f1b6da\"], [0.4, \"#fde0ef\"], [0.5, \"#f7f7f7\"], [0.6, \"#e6f5d0\"], [0.7, \"#b8e186\"], [0.8, \"#7fbc41\"], [0.9, \"#4d9221\"], [1, \"#276419\"]], \"sequential\": [[0.0, \"#0d0887\"], [0.1111111111111111, \"#46039f\"], [0.2222222222222222, \"#7201a8\"], [0.3333333333333333, \"#9c179e\"], [0.4444444444444444, \"#bd3786\"], [0.5555555555555556, \"#d8576b\"], [0.6666666666666666, \"#ed7953\"], [0.7777777777777778, \"#fb9f3a\"], [0.8888888888888888, \"#fdca26\"], [1.0, \"#f0f921\"]], \"sequentialminus\": [[0.0, \"#0d0887\"], [0.1111111111111111, \"#46039f\"], [0.2222222222222222, \"#7201a8\"], [0.3333333333333333, \"#9c179e\"], [0.4444444444444444, \"#bd3786\"], [0.5555555555555556, \"#d8576b\"], [0.6666666666666666, \"#ed7953\"], [0.7777777777777778, \"#fb9f3a\"], [0.8888888888888888, \"#fdca26\"], [1.0, \"#f0f921\"]]}, \"colorway\": [\"#636efa\", \"#EF553B\", \"#00cc96\", \"#ab63fa\", \"#FFA15A\", \"#19d3f3\", \"#FF6692\", \"#B6E880\", \"#FF97FF\", \"#FECB52\"], \"font\": {\"color\": \"#f2f5fa\"}, \"geo\": {\"bgcolor\": \"rgb(17,17,17)\", \"lakecolor\": \"rgb(17,17,17)\", \"landcolor\": \"rgb(17,17,17)\", \"showlakes\": true, \"showland\": true, \"subunitcolor\": \"#506784\"}, \"hoverlabel\": {\"align\": \"left\"}, \"hovermode\": \"closest\", \"mapbox\": {\"style\": \"dark\"}, \"paper_bgcolor\": \"rgb(17,17,17)\", \"plot_bgcolor\": \"rgb(17,17,17)\", \"polar\": {\"angularaxis\": {\"gridcolor\": \"#506784\", \"linecolor\": \"#506784\", \"ticks\": \"\"}, \"bgcolor\": \"rgb(17,17,17)\", \"radialaxis\": {\"gridcolor\": \"#506784\", \"linecolor\": \"#506784\", \"ticks\": \"\"}}, \"scene\": {\"xaxis\": {\"backgroundcolor\": \"rgb(17,17,17)\", \"gridcolor\": \"#506784\", \"gridwidth\": 2, \"linecolor\": \"#506784\", \"showbackground\": true, \"ticks\": \"\", \"zerolinecolor\": \"#C8D4E3\"}, \"yaxis\": {\"backgroundcolor\": \"rgb(17,17,17)\", \"gridcolor\": \"#506784\", \"gridwidth\": 2, \"linecolor\": \"#506784\", \"showbackground\": true, \"ticks\": \"\", \"zerolinecolor\": \"#C8D4E3\"}, \"zaxis\": {\"backgroundcolor\": \"rgb(17,17,17)\", \"gridcolor\": \"#506784\", \"gridwidth\": 2, \"linecolor\": \"#506784\", \"showbackground\": true, \"ticks\": \"\", \"zerolinecolor\": \"#C8D4E3\"}}, \"shapedefaults\": {\"line\": {\"color\": \"#f2f5fa\"}}, \"sliderdefaults\": {\"bgcolor\": \"#C8D4E3\", \"bordercolor\": \"rgb(17,17,17)\", \"borderwidth\": 1, \"tickwidth\": 0}, \"ternary\": {\"aaxis\": {\"gridcolor\": \"#506784\", \"linecolor\": \"#506784\", \"ticks\": \"\"}, \"baxis\": {\"gridcolor\": \"#506784\", \"linecolor\": \"#506784\", \"ticks\": \"\"}, \"bgcolor\": \"rgb(17,17,17)\", \"caxis\": {\"gridcolor\": \"#506784\", \"linecolor\": \"#506784\", \"ticks\": \"\"}}, \"title\": {\"x\": 0.05}, \"updatemenudefaults\": {\"bgcolor\": \"#506784\", \"borderwidth\": 0}, \"xaxis\": {\"automargin\": true, \"gridcolor\": \"#283442\", \"linecolor\": \"#506784\", \"ticks\": \"\", \"title\": {\"standoff\": 15}, \"zerolinecolor\": \"#283442\", \"zerolinewidth\": 2}, \"yaxis\": {\"automargin\": true, \"gridcolor\": \"#283442\", \"linecolor\": \"#506784\", \"ticks\": \"\", \"title\": {\"standoff\": 15}, \"zerolinecolor\": \"#283442\", \"zerolinewidth\": 2}}}, \"width\": 1200, \"xaxis\": {\"anchor\": \"y\", \"domain\": [0.0, 0.235], \"title\": {\"text\": \"distance\"}}, \"xaxis2\": {\"anchor\": \"y2\", \"domain\": [0.255, 0.49], \"matches\": \"x\", \"title\": {\"text\": \"distance\"}}, \"xaxis3\": {\"anchor\": \"y3\", \"domain\": [0.51, 0.745], \"matches\": \"x\", \"title\": {\"text\": \"distance\"}}, \"xaxis4\": {\"anchor\": \"y4\", \"domain\": [0.7649999999999999, 0.9999999999999999], \"matches\": \"x\", \"title\": {\"text\": \"distance\"}}, \"xaxis5\": {\"anchor\": \"y5\", \"domain\": [0.0, 0.235], \"matches\": \"x\", \"showticklabels\": false}, \"xaxis6\": {\"anchor\": \"y6\", \"domain\": [0.255, 0.49], \"matches\": \"x\", \"showticklabels\": false}, \"xaxis7\": {\"anchor\": \"y7\", \"domain\": [0.51, 0.745], \"matches\": \"x\", \"showticklabels\": false}, \"xaxis8\": {\"anchor\": \"y8\", \"domain\": [0.7649999999999999, 0.9999999999999999], \"matches\": \"x\", \"showticklabels\": false}, \"yaxis\": {\"anchor\": \"x\", \"domain\": [0.0, 0.46499999999999997], \"title\": {\"text\": \"base_price\"}}, \"yaxis2\": {\"anchor\": \"x2\", \"domain\": [0.0, 0.46499999999999997], \"matches\": \"y\", \"showticklabels\": false}, \"yaxis3\": {\"anchor\": \"x3\", \"domain\": [0.0, 0.46499999999999997], \"matches\": \"y\", \"showticklabels\": false}, \"yaxis4\": {\"anchor\": \"x4\", \"domain\": [0.0, 0.46499999999999997], \"matches\": \"y\", \"showticklabels\": false}, \"yaxis5\": {\"anchor\": \"x5\", \"domain\": [0.5349999999999999, 0.9999999999999999], \"matches\": \"y\", \"title\": {\"text\": \"base_price\"}}, \"yaxis6\": {\"anchor\": \"x6\", \"domain\": [0.5349999999999999, 0.9999999999999999], \"matches\": \"y\", \"showticklabels\": false}, \"yaxis7\": {\"anchor\": \"x7\", \"domain\": [0.5349999999999999, 0.9999999999999999], \"matches\": \"y\", \"showticklabels\": false}, \"yaxis8\": {\"anchor\": \"x8\", \"domain\": [0.5349999999999999, 0.9999999999999999], \"matches\": \"y\", \"showticklabels\": false}},                        {\"responsive\": true}                    ).then(function(){\n",
       "                            \n",
       "var gd = document.getElementById('dcf4a8a7-b61f-4817-9b94-b7ea39453ea1');\n",
       "var x = new MutationObserver(function (mutations, observer) {{\n",
       "        var display = window.getComputedStyle(gd).display;\n",
       "        if (!display || display === 'none') {{\n",
       "            console.log([gd, 'removed!']);\n",
       "            Plotly.purge(gd);\n",
       "            observer.disconnect();\n",
       "        }}\n",
       "}});\n",
       "\n",
       "// Listen for the removal of the full notebook cells\n",
       "var notebookContainer = gd.closest('#notebook-container');\n",
       "if (notebookContainer) {{\n",
       "    x.observe(notebookContainer, {childList: true});\n",
       "}}\n",
       "\n",
       "// Listen for the clearing of the current output cell\n",
       "var outputEl = gd.closest('.output');\n",
       "if (outputEl) {{\n",
       "    x.observe(outputEl, {childList: true});\n",
       "}}\n",
       "\n",
       "                        })                };                });            </script>        </div>"
      ]
     },
     "metadata": {},
     "output_type": "display_data"
    }
   ],
   "source": [
    "fig = px.scatter(cars,\n",
    "                 x='distance',\n",
    "                 size='ref_price',\n",
    "                 size_max=15,\n",
    "                 color='model_year',\n",
    "                 category_orders = {'model_year':['2013','2014','2015','2016','2017','2018','2019','2020']},\n",
    "                 y='base_price',\n",
    "                 facet_col='model',\n",
    "                 facet_col_wrap = 4,\n",
    "                 template='plotly_dark',\n",
    "                 symbol='repare',\n",
    "                 hover_data=[cars.index,'base_price','color'],\n",
    "                 color_discrete_sequence = ['#ee0000','#ff6600','#eedd00','#99ff00','#33bb33','#00bb77','0055ff'],\n",
    "                 color_continuous_scale=px.colors.sequential.Turbo,\n",
    "                height=600,\n",
    "                width=1200)\n",
    "# fig.update(layout_coloraxis_showscale=False)\n",
    "fig.show()"
   ]
  },
  {
   "cell_type": "code",
   "execution_count": 133,
   "metadata": {},
   "outputs": [
    {
     "name": "stdout",
     "output_type": "stream",
     "text": [
      "https://www.carsensor.net/usedcar/detail/VU4869177451/index.html?TRCD=200002&RESTID=CS210610\n",
      "url                  https://www.carsensor.net/usedcar/detail/VU486...\n",
      "base_price                                                        39.8\n",
      "total_price                                                       59.8\n",
      "model_year                                                        2013\n",
      "distance                                                           6.4\n",
      "repare                                                              なし\n",
      "inspection                                                       車検整備付\n",
      "info                           1.5 G ナビ Bカメラ iストップ 整備保証付 （クールソーダメタリック）\n",
      "drive                                                              2WD\n",
      "recycle                                                            リ済込\n",
      "legal_maintenance                                                法定整備付\n",
      "warranty                                  保証付：販売店保証 保証期間：12ヵ月 保証距離：無制限\n",
      "key                                                       VU4869177451\n",
      "region                                                             千葉県\n",
      "keyless                                                              1\n",
      "smartkey                                                             1\n",
      "navi                                                             メモリー他\n",
      "audio                                                           CD/－/－\n",
      "idling_stop                                                          1\n",
      "AS_sensor                                                            1\n",
      "ABS                                                                  1\n",
      "anti_theft                                                           1\n",
      "airbag                                                     運転席/助手席/－/－\n",
      "camera                                                         －/－/バック\n",
      "model                                                             AQUA\n",
      "ref_price                                                          2.0\n",
      "color                                                      クールソーダメタリック\n",
      "Name: 63, dtype: object\n"
     ]
    }
   ],
   "source": [
    "id=63\n",
    "print(cars.loc[id].url)\n",
    "print(cars.loc[id].replace([0,'0'],[None,None]).dropna().T)"
   ]
  },
  {
   "cell_type": "code",
   "execution_count": 109,
   "metadata": {
    "scrolled": false
   },
   "outputs": [
    {
     "data": {
      "image/png": "[encoded data removed]",
      "text/plain": [
       "<Figure size 1080x595.44 with 1 Axes>"
      ]
     },
     "metadata": {},
     "output_type": "display_data"
    }
   ],
   "source": [
    "sns.set(rc={'figure.figsize': (15, 8.27)})\n",
    "sns.set_style(\"whitegrid\", rc={\"font.family\": \"Noto Sans CJK JP\"})\n",
    "sns.set_context(\"poster\", font_scale=0.7)\n",
    "g = sns.boxplot(x=\"color\", y=\"base_price\", data=cars)\n",
    "a = g.set_xticklabels(g.get_xticklabels(), rotation=90)"
   ]
  },
  {
   "cell_type": "code",
   "execution_count": 124,
   "metadata": {
    "scrolled": true
   },
   "outputs": [
    {
     "name": "stdout",
     "output_type": "stream",
     "text": [
      "アトラクトイエローパール\n"
     ]
    },
    {
     "data": {
      "text/html": [
       "<div>\n",
       "<style scoped>\n",
       "    .dataframe tbody tr th:only-of-type {\n",
       "        vertical-align: middle;\n",
       "    }\n",
       "\n",
       "    .dataframe tbody tr th {\n",
       "        vertical-align: top;\n",
       "    }\n",
       "\n",
       "    .dataframe thead th {\n",
       "        text-align: right;\n",
       "    }\n",
       "</style>\n",
       "<table border=\"1\" class=\"dataframe\">\n",
       "  <thead>\n",
       "    <tr style=\"text-align: right;\">\n",
       "      <th></th>\n",
       "      <th>url</th>\n",
       "      <th>base_price</th>\n",
       "      <th>total_price</th>\n",
       "      <th>model_year</th>\n",
       "      <th>distance</th>\n",
       "      <th>repare</th>\n",
       "      <th>model</th>\n",
       "      <th>color</th>\n",
       "    </tr>\n",
       "  </thead>\n",
       "  <tbody>\n",
       "    <tr>\n",
       "      <th>17</th>\n",
       "      <td>https://www.carsensor.net/usedcar/detail/VU529...</td>\n",
       "      <td>82.0</td>\n",
       "      <td>96.3</td>\n",
       "      <td>2014</td>\n",
       "      <td>4.1</td>\n",
       "      <td>なし</td>\n",
       "      <td>FIT</td>\n",
       "      <td>アトラクトイエローパール</td>\n",
       "    </tr>\n",
       "  </tbody>\n",
       "</table>\n",
       "</div>"
      ],
      "text/plain": [
       "                                                  url  base_price  \\\n",
       "17  https://www.carsensor.net/usedcar/detail/VU529...        82.0   \n",
       "\n",
       "    total_price model_year  distance repare model         color  \n",
       "17         96.3       2014       4.1     なし   FIT  アトラクトイエローパール  "
      ]
     },
     "metadata": {},
     "output_type": "display_data"
    },
    {
     "name": "stdout",
     "output_type": "stream",
     "text": [
      "アラバスタ―シルバーM\n"
     ]
    },
    {
     "data": {
      "text/html": [
       "<div>\n",
       "<style scoped>\n",
       "    .dataframe tbody tr th:only-of-type {\n",
       "        vertical-align: middle;\n",
       "    }\n",
       "\n",
       "    .dataframe tbody tr th {\n",
       "        vertical-align: top;\n",
       "    }\n",
       "\n",
       "    .dataframe thead th {\n",
       "        text-align: right;\n",
       "    }\n",
       "</style>\n",
       "<table border=\"1\" class=\"dataframe\">\n",
       "  <thead>\n",
       "    <tr style=\"text-align: right;\">\n",
       "      <th></th>\n",
       "      <th>url</th>\n",
       "      <th>base_price</th>\n",
       "      <th>total_price</th>\n",
       "      <th>model_year</th>\n",
       "      <th>distance</th>\n",
       "      <th>repare</th>\n",
       "      <th>model</th>\n",
       "      <th>color</th>\n",
       "    </tr>\n",
       "  </thead>\n",
       "  <tbody>\n",
       "    <tr>\n",
       "      <th>35</th>\n",
       "      <td>https://www.carsensor.net/usedcar/detail/VU502...</td>\n",
       "      <td>62.8</td>\n",
       "      <td>78.6</td>\n",
       "      <td>2014</td>\n",
       "      <td>2.8</td>\n",
       "      <td>なし</td>\n",
       "      <td>GRACE</td>\n",
       "      <td>アラバスタ―シルバーM</td>\n",
       "    </tr>\n",
       "  </tbody>\n",
       "</table>\n",
       "</div>"
      ],
      "text/plain": [
       "                                                  url  base_price  \\\n",
       "35  https://www.carsensor.net/usedcar/detail/VU502...        62.8   \n",
       "\n",
       "    total_price model_year  distance repare  model        color  \n",
       "35         78.6       2014       2.8     なし  GRACE  アラバスタ―シルバーM  "
      ]
     },
     "metadata": {},
     "output_type": "display_data"
    },
    {
     "name": "stdout",
     "output_type": "stream",
     "text": [
      "アラバスターシルバーＭ\n"
     ]
    },
    {
     "data": {
      "text/html": [
       "<div>\n",
       "<style scoped>\n",
       "    .dataframe tbody tr th:only-of-type {\n",
       "        vertical-align: middle;\n",
       "    }\n",
       "\n",
       "    .dataframe tbody tr th {\n",
       "        vertical-align: top;\n",
       "    }\n",
       "\n",
       "    .dataframe thead th {\n",
       "        text-align: right;\n",
       "    }\n",
       "</style>\n",
       "<table border=\"1\" class=\"dataframe\">\n",
       "  <thead>\n",
       "    <tr style=\"text-align: right;\">\n",
       "      <th></th>\n",
       "      <th>url</th>\n",
       "      <th>base_price</th>\n",
       "      <th>total_price</th>\n",
       "      <th>model_year</th>\n",
       "      <th>distance</th>\n",
       "      <th>repare</th>\n",
       "      <th>model</th>\n",
       "      <th>color</th>\n",
       "    </tr>\n",
       "  </thead>\n",
       "  <tbody>\n",
       "    <tr>\n",
       "      <th>5</th>\n",
       "      <td>https://www.carsensor.net/usedcar/detail/VU552...</td>\n",
       "      <td>79.9</td>\n",
       "      <td>102.9</td>\n",
       "      <td>2013</td>\n",
       "      <td>4.8</td>\n",
       "      <td>なし</td>\n",
       "      <td>FIT</td>\n",
       "      <td>アラバスターシルバーＭ</td>\n",
       "    </tr>\n",
       "    <tr>\n",
       "      <th>15</th>\n",
       "      <td>https://www.carsensor.net/usedcar/detail/VU552...</td>\n",
       "      <td>78.0</td>\n",
       "      <td>91.1</td>\n",
       "      <td>2014</td>\n",
       "      <td>7.3</td>\n",
       "      <td>なし</td>\n",
       "      <td>FIT</td>\n",
       "      <td>アラバスターシルバーＭ</td>\n",
       "    </tr>\n",
       "  </tbody>\n",
       "</table>\n",
       "</div>"
      ],
      "text/plain": [
       "                                                  url  base_price  \\\n",
       "5   https://www.carsensor.net/usedcar/detail/VU552...        79.9   \n",
       "15  https://www.carsensor.net/usedcar/detail/VU552...        78.0   \n",
       "\n",
       "    total_price model_year  distance repare model        color  \n",
       "5         102.9       2013       4.8     なし   FIT  アラバスターシルバーＭ  \n",
       "15         91.1       2014       7.3     なし   FIT  アラバスターシルバーＭ  "
      ]
     },
     "metadata": {},
     "output_type": "display_data"
    },
    {
     "name": "stdout",
     "output_type": "stream",
     "text": [
      "クリスタルブラックP\n"
     ]
    },
    {
     "data": {
      "text/html": [
       "<div>\n",
       "<style scoped>\n",
       "    .dataframe tbody tr th:only-of-type {\n",
       "        vertical-align: middle;\n",
       "    }\n",
       "\n",
       "    .dataframe tbody tr th {\n",
       "        vertical-align: top;\n",
       "    }\n",
       "\n",
       "    .dataframe thead th {\n",
       "        text-align: right;\n",
       "    }\n",
       "</style>\n",
       "<table border=\"1\" class=\"dataframe\">\n",
       "  <thead>\n",
       "    <tr style=\"text-align: right;\">\n",
       "      <th></th>\n",
       "      <th>url</th>\n",
       "      <th>base_price</th>\n",
       "      <th>total_price</th>\n",
       "      <th>model_year</th>\n",
       "      <th>distance</th>\n",
       "      <th>repare</th>\n",
       "      <th>model</th>\n",
       "      <th>color</th>\n",
       "    </tr>\n",
       "  </thead>\n",
       "  <tbody>\n",
       "    <tr>\n",
       "      <th>37</th>\n",
       "      <td>https://www.carsensor.net/usedcar/detail/VU549...</td>\n",
       "      <td>75.8</td>\n",
       "      <td>91.2</td>\n",
       "      <td>2015</td>\n",
       "      <td>9.3</td>\n",
       "      <td>なし</td>\n",
       "      <td>JADE</td>\n",
       "      <td>クリスタルブラックP</td>\n",
       "    </tr>\n",
       "  </tbody>\n",
       "</table>\n",
       "</div>"
      ],
      "text/plain": [
       "                                                  url  base_price  \\\n",
       "37  https://www.carsensor.net/usedcar/detail/VU549...        75.8   \n",
       "\n",
       "    total_price model_year  distance repare model       color  \n",
       "37         91.2       2015       9.3     なし  JADE  クリスタルブラックP  "
      ]
     },
     "metadata": {},
     "output_type": "display_data"
    },
    {
     "name": "stdout",
     "output_type": "stream",
     "text": [
      "クリスタルブラックパール\n"
     ]
    },
    {
     "data": {
      "text/html": [
       "<div>\n",
       "<style scoped>\n",
       "    .dataframe tbody tr th:only-of-type {\n",
       "        vertical-align: middle;\n",
       "    }\n",
       "\n",
       "    .dataframe tbody tr th {\n",
       "        vertical-align: top;\n",
       "    }\n",
       "\n",
       "    .dataframe thead th {\n",
       "        text-align: right;\n",
       "    }\n",
       "</style>\n",
       "<table border=\"1\" class=\"dataframe\">\n",
       "  <thead>\n",
       "    <tr style=\"text-align: right;\">\n",
       "      <th></th>\n",
       "      <th>url</th>\n",
       "      <th>base_price</th>\n",
       "      <th>total_price</th>\n",
       "      <th>model_year</th>\n",
       "      <th>distance</th>\n",
       "      <th>repare</th>\n",
       "      <th>model</th>\n",
       "      <th>color</th>\n",
       "    </tr>\n",
       "  </thead>\n",
       "  <tbody>\n",
       "    <tr>\n",
       "      <th>32</th>\n",
       "      <td>https://www.carsensor.net/usedcar/detail/VU496...</td>\n",
       "      <td>52.8</td>\n",
       "      <td>68.9</td>\n",
       "      <td>2015</td>\n",
       "      <td>9.6</td>\n",
       "      <td>なし</td>\n",
       "      <td>SHUTTLE</td>\n",
       "      <td>クリスタルブラックパール</td>\n",
       "    </tr>\n",
       "  </tbody>\n",
       "</table>\n",
       "</div>"
      ],
      "text/plain": [
       "                                                  url  base_price  \\\n",
       "32  https://www.carsensor.net/usedcar/detail/VU496...        52.8   \n",
       "\n",
       "    total_price model_year  distance repare    model         color  \n",
       "32         68.9       2015       9.6     なし  SHUTTLE  クリスタルブラックパール  "
      ]
     },
     "metadata": {},
     "output_type": "display_data"
    },
    {
     "name": "stdout",
     "output_type": "stream",
     "text": [
      "クールソーダメタリック\n"
     ]
    },
    {
     "data": {
      "text/html": [
       "<div>\n",
       "<style scoped>\n",
       "    .dataframe tbody tr th:only-of-type {\n",
       "        vertical-align: middle;\n",
       "    }\n",
       "\n",
       "    .dataframe tbody tr th {\n",
       "        vertical-align: top;\n",
       "    }\n",
       "\n",
       "    .dataframe thead th {\n",
       "        text-align: right;\n",
       "    }\n",
       "</style>\n",
       "<table border=\"1\" class=\"dataframe\">\n",
       "  <thead>\n",
       "    <tr style=\"text-align: right;\">\n",
       "      <th></th>\n",
       "      <th>url</th>\n",
       "      <th>base_price</th>\n",
       "      <th>total_price</th>\n",
       "      <th>model_year</th>\n",
       "      <th>distance</th>\n",
       "      <th>repare</th>\n",
       "      <th>model</th>\n",
       "      <th>color</th>\n",
       "    </tr>\n",
       "  </thead>\n",
       "  <tbody>\n",
       "    <tr>\n",
       "      <th>63</th>\n",
       "      <td>https://www.carsensor.net/usedcar/detail/VU486...</td>\n",
       "      <td>39.8</td>\n",
       "      <td>59.8</td>\n",
       "      <td>2013</td>\n",
       "      <td>6.4</td>\n",
       "      <td>なし</td>\n",
       "      <td>AQUA</td>\n",
       "      <td>クールソーダメタリック</td>\n",
       "    </tr>\n",
       "    <tr>\n",
       "      <th>64</th>\n",
       "      <td>https://www.carsensor.net/usedcar/detail/VU558...</td>\n",
       "      <td>44.8</td>\n",
       "      <td>59.8</td>\n",
       "      <td>2013</td>\n",
       "      <td>6.9</td>\n",
       "      <td>なし</td>\n",
       "      <td>AQUA</td>\n",
       "      <td>クールソーダメタリック</td>\n",
       "    </tr>\n",
       "    <tr>\n",
       "      <th>65</th>\n",
       "      <td>https://www.carsensor.net/usedcar/detail/VU508...</td>\n",
       "      <td>59.9</td>\n",
       "      <td>77.9</td>\n",
       "      <td>2013</td>\n",
       "      <td>5.2</td>\n",
       "      <td>なし</td>\n",
       "      <td>AQUA</td>\n",
       "      <td>クールソーダメタリック</td>\n",
       "    </tr>\n",
       "  </tbody>\n",
       "</table>\n",
       "</div>"
      ],
      "text/plain": [
       "                                                  url  base_price  \\\n",
       "63  https://www.carsensor.net/usedcar/detail/VU486...        39.8   \n",
       "64  https://www.carsensor.net/usedcar/detail/VU558...        44.8   \n",
       "65  https://www.carsensor.net/usedcar/detail/VU508...        59.9   \n",
       "\n",
       "    total_price model_year  distance repare model        color  \n",
       "63         59.8       2013       6.4     なし  AQUA  クールソーダメタリック  \n",
       "64         59.8       2013       6.9     なし  AQUA  クールソーダメタリック  \n",
       "65         77.9       2013       5.2     なし  AQUA  クールソーダメタリック  "
      ]
     },
     "metadata": {},
     "output_type": "display_data"
    },
    {
     "name": "stdout",
     "output_type": "stream",
     "text": [
      "グレー\n"
     ]
    },
    {
     "data": {
      "text/html": [
       "<div>\n",
       "<style scoped>\n",
       "    .dataframe tbody tr th:only-of-type {\n",
       "        vertical-align: middle;\n",
       "    }\n",
       "\n",
       "    .dataframe tbody tr th {\n",
       "        vertical-align: top;\n",
       "    }\n",
       "\n",
       "    .dataframe thead th {\n",
       "        text-align: right;\n",
       "    }\n",
       "</style>\n",
       "<table border=\"1\" class=\"dataframe\">\n",
       "  <thead>\n",
       "    <tr style=\"text-align: right;\">\n",
       "      <th></th>\n",
       "      <th>url</th>\n",
       "      <th>base_price</th>\n",
       "      <th>total_price</th>\n",
       "      <th>model_year</th>\n",
       "      <th>distance</th>\n",
       "      <th>repare</th>\n",
       "      <th>model</th>\n",
       "      <th>color</th>\n",
       "    </tr>\n",
       "  </thead>\n",
       "  <tbody>\n",
       "    <tr>\n",
       "      <th>79</th>\n",
       "      <td>https://www.carsensor.net/usedcar/detail/VU549...</td>\n",
       "      <td>89.8</td>\n",
       "      <td>118.69</td>\n",
       "      <td>2017</td>\n",
       "      <td>4.1</td>\n",
       "      <td>なし</td>\n",
       "      <td>NOTE</td>\n",
       "      <td>グレー</td>\n",
       "    </tr>\n",
       "  </tbody>\n",
       "</table>\n",
       "</div>"
      ],
      "text/plain": [
       "                                                  url  base_price  \\\n",
       "79  https://www.carsensor.net/usedcar/detail/VU549...        89.8   \n",
       "\n",
       "    total_price model_year  distance repare model color  \n",
       "79       118.69       2017       4.1     なし  NOTE   グレー  "
      ]
     },
     "metadata": {},
     "output_type": "display_data"
    },
    {
     "name": "stdout",
     "output_type": "stream",
     "text": [
      "ゴールドブラウンメタリック\n"
     ]
    },
    {
     "data": {
      "text/html": [
       "<div>\n",
       "<style scoped>\n",
       "    .dataframe tbody tr th:only-of-type {\n",
       "        vertical-align: middle;\n",
       "    }\n",
       "\n",
       "    .dataframe tbody tr th {\n",
       "        vertical-align: top;\n",
       "    }\n",
       "\n",
       "    .dataframe thead th {\n",
       "        text-align: right;\n",
       "    }\n",
       "</style>\n",
       "<table border=\"1\" class=\"dataframe\">\n",
       "  <thead>\n",
       "    <tr style=\"text-align: right;\">\n",
       "      <th></th>\n",
       "      <th>url</th>\n",
       "      <th>base_price</th>\n",
       "      <th>total_price</th>\n",
       "      <th>model_year</th>\n",
       "      <th>distance</th>\n",
       "      <th>repare</th>\n",
       "      <th>model</th>\n",
       "      <th>color</th>\n",
       "    </tr>\n",
       "  </thead>\n",
       "  <tbody>\n",
       "    <tr>\n",
       "      <th>36</th>\n",
       "      <td>https://www.carsensor.net/usedcar/detail/VU507...</td>\n",
       "      <td>73.8</td>\n",
       "      <td>89.6</td>\n",
       "      <td>2014</td>\n",
       "      <td>5.8</td>\n",
       "      <td>なし</td>\n",
       "      <td>GRACE</td>\n",
       "      <td>ゴールドブラウンメタリック</td>\n",
       "    </tr>\n",
       "  </tbody>\n",
       "</table>\n",
       "</div>"
      ],
      "text/plain": [
       "                                                  url  base_price  \\\n",
       "36  https://www.carsensor.net/usedcar/detail/VU507...        73.8   \n",
       "\n",
       "    total_price model_year  distance repare  model          color  \n",
       "36         89.6       2014       5.8     なし  GRACE  ゴールドブラウンメタリック  "
      ]
     },
     "metadata": {},
     "output_type": "display_data"
    },
    {
     "name": "stdout",
     "output_type": "stream",
     "text": [
      "シルバー\n"
     ]
    },
    {
     "data": {
      "text/html": [
       "<div>\n",
       "<style scoped>\n",
       "    .dataframe tbody tr th:only-of-type {\n",
       "        vertical-align: middle;\n",
       "    }\n",
       "\n",
       "    .dataframe tbody tr th {\n",
       "        vertical-align: top;\n",
       "    }\n",
       "\n",
       "    .dataframe thead th {\n",
       "        text-align: right;\n",
       "    }\n",
       "</style>\n",
       "<table border=\"1\" class=\"dataframe\">\n",
       "  <thead>\n",
       "    <tr style=\"text-align: right;\">\n",
       "      <th></th>\n",
       "      <th>url</th>\n",
       "      <th>base_price</th>\n",
       "      <th>total_price</th>\n",
       "      <th>model_year</th>\n",
       "      <th>distance</th>\n",
       "      <th>repare</th>\n",
       "      <th>model</th>\n",
       "      <th>color</th>\n",
       "    </tr>\n",
       "  </thead>\n",
       "  <tbody>\n",
       "    <tr>\n",
       "      <th>21</th>\n",
       "      <td>https://www.carsensor.net/usedcar/detail/VU548...</td>\n",
       "      <td>66.6</td>\n",
       "      <td>82.2</td>\n",
       "      <td>2013</td>\n",
       "      <td>5.2</td>\n",
       "      <td>なし</td>\n",
       "      <td>FIT</td>\n",
       "      <td>シルバー</td>\n",
       "    </tr>\n",
       "    <tr>\n",
       "      <th>34</th>\n",
       "      <td>https://www.carsensor.net/usedcar/detail/VU522...</td>\n",
       "      <td>80.1</td>\n",
       "      <td>90.1</td>\n",
       "      <td>2015</td>\n",
       "      <td>8.1</td>\n",
       "      <td>なし</td>\n",
       "      <td>GRACE</td>\n",
       "      <td>シルバー</td>\n",
       "    </tr>\n",
       "    <tr>\n",
       "      <th>39</th>\n",
       "      <td>https://www.carsensor.net/usedcar/detail/VU492...</td>\n",
       "      <td>80.1</td>\n",
       "      <td>87.1</td>\n",
       "      <td>2014</td>\n",
       "      <td>6.7</td>\n",
       "      <td>なし</td>\n",
       "      <td>FIELDER</td>\n",
       "      <td>シルバー</td>\n",
       "    </tr>\n",
       "    <tr>\n",
       "      <th>41</th>\n",
       "      <td>https://www.carsensor.net/usedcar/detail/VU557...</td>\n",
       "      <td>74.0</td>\n",
       "      <td>83.7</td>\n",
       "      <td>2014</td>\n",
       "      <td>8.1</td>\n",
       "      <td>なし</td>\n",
       "      <td>FIELDER</td>\n",
       "      <td>シルバー</td>\n",
       "    </tr>\n",
       "    <tr>\n",
       "      <th>68</th>\n",
       "      <td>https://www.carsensor.net/usedcar/detail/VU535...</td>\n",
       "      <td>72.9</td>\n",
       "      <td>89.9</td>\n",
       "      <td>2016</td>\n",
       "      <td>5.6</td>\n",
       "      <td>なし</td>\n",
       "      <td>AQUA</td>\n",
       "      <td>シルバー</td>\n",
       "    </tr>\n",
       "    <tr>\n",
       "      <th>78</th>\n",
       "      <td>https://www.carsensor.net/usedcar/detail/VU444...</td>\n",
       "      <td>68.0</td>\n",
       "      <td>79.0</td>\n",
       "      <td>2015</td>\n",
       "      <td>5.9</td>\n",
       "      <td>なし</td>\n",
       "      <td>AQUA</td>\n",
       "      <td>シルバー</td>\n",
       "    </tr>\n",
       "    <tr>\n",
       "      <th>80</th>\n",
       "      <td>https://www.carsensor.net/usedcar/detail/VU491...</td>\n",
       "      <td>89.0</td>\n",
       "      <td>99.6</td>\n",
       "      <td>2017</td>\n",
       "      <td>6.3</td>\n",
       "      <td>なし</td>\n",
       "      <td>NOTE</td>\n",
       "      <td>シルバー</td>\n",
       "    </tr>\n",
       "  </tbody>\n",
       "</table>\n",
       "</div>"
      ],
      "text/plain": [
       "                                                  url  base_price  \\\n",
       "21  https://www.carsensor.net/usedcar/detail/VU548...        66.6   \n",
       "34  https://www.carsensor.net/usedcar/detail/VU522...        80.1   \n",
       "39  https://www.carsensor.net/usedcar/detail/VU492...        80.1   \n",
       "41  https://www.carsensor.net/usedcar/detail/VU557...        74.0   \n",
       "68  https://www.carsensor.net/usedcar/detail/VU535...        72.9   \n",
       "78  https://www.carsensor.net/usedcar/detail/VU444...        68.0   \n",
       "80  https://www.carsensor.net/usedcar/detail/VU491...        89.0   \n",
       "\n",
       "    total_price model_year  distance repare    model color  \n",
       "21         82.2       2013       5.2     なし      FIT  シルバー  \n",
       "34         90.1       2015       8.1     なし    GRACE  シルバー  \n",
       "39         87.1       2014       6.7     なし  FIELDER  シルバー  \n",
       "41         83.7       2014       8.1     なし  FIELDER  シルバー  \n",
       "68         89.9       2016       5.6     なし     AQUA  シルバー  \n",
       "78         79.0       2015       5.9     なし     AQUA  シルバー  \n",
       "80         99.6       2017       6.3     なし     NOTE  シルバー  "
      ]
     },
     "metadata": {},
     "output_type": "display_data"
    },
    {
     "name": "stdout",
     "output_type": "stream",
     "text": [
      "シルバーメタリック\n"
     ]
    },
    {
     "data": {
      "text/html": [
       "<div>\n",
       "<style scoped>\n",
       "    .dataframe tbody tr th:only-of-type {\n",
       "        vertical-align: middle;\n",
       "    }\n",
       "\n",
       "    .dataframe tbody tr th {\n",
       "        vertical-align: top;\n",
       "    }\n",
       "\n",
       "    .dataframe thead th {\n",
       "        text-align: right;\n",
       "    }\n",
       "</style>\n",
       "<table border=\"1\" class=\"dataframe\">\n",
       "  <thead>\n",
       "    <tr style=\"text-align: right;\">\n",
       "      <th></th>\n",
       "      <th>url</th>\n",
       "      <th>base_price</th>\n",
       "      <th>total_price</th>\n",
       "      <th>model_year</th>\n",
       "      <th>distance</th>\n",
       "      <th>repare</th>\n",
       "      <th>model</th>\n",
       "      <th>color</th>\n",
       "    </tr>\n",
       "  </thead>\n",
       "  <tbody>\n",
       "    <tr>\n",
       "      <th>6</th>\n",
       "      <td>https://www.carsensor.net/usedcar/detail/VU501...</td>\n",
       "      <td>79.9</td>\n",
       "      <td>102.90</td>\n",
       "      <td>2013</td>\n",
       "      <td>1.0</td>\n",
       "      <td>なし</td>\n",
       "      <td>FIT</td>\n",
       "      <td>シルバーメタリック</td>\n",
       "    </tr>\n",
       "    <tr>\n",
       "      <th>40</th>\n",
       "      <td>https://www.carsensor.net/usedcar/detail/VU560...</td>\n",
       "      <td>84.5</td>\n",
       "      <td>98.60</td>\n",
       "      <td>2016</td>\n",
       "      <td>6.4</td>\n",
       "      <td>なし</td>\n",
       "      <td>FIELDER</td>\n",
       "      <td>シルバーメタリック</td>\n",
       "    </tr>\n",
       "    <tr>\n",
       "      <th>48</th>\n",
       "      <td>https://www.carsensor.net/usedcar/detail/VU560...</td>\n",
       "      <td>89.6</td>\n",
       "      <td>103.60</td>\n",
       "      <td>2018</td>\n",
       "      <td>8.9</td>\n",
       "      <td>なし</td>\n",
       "      <td>VITZ</td>\n",
       "      <td>シルバーメタリック</td>\n",
       "    </tr>\n",
       "    <tr>\n",
       "      <th>52</th>\n",
       "      <td>https://www.carsensor.net/usedcar/detail/VU490...</td>\n",
       "      <td>48.0</td>\n",
       "      <td>63.30</td>\n",
       "      <td>2015</td>\n",
       "      <td>8.0</td>\n",
       "      <td>あり</td>\n",
       "      <td>AQUA</td>\n",
       "      <td>シルバーメタリック</td>\n",
       "    </tr>\n",
       "    <tr>\n",
       "      <th>69</th>\n",
       "      <td>https://www.carsensor.net/usedcar/detail/VU507...</td>\n",
       "      <td>69.8</td>\n",
       "      <td>118.69</td>\n",
       "      <td>2016</td>\n",
       "      <td>6.4</td>\n",
       "      <td>なし</td>\n",
       "      <td>AQUA</td>\n",
       "      <td>シルバーメタリック</td>\n",
       "    </tr>\n",
       "    <tr>\n",
       "      <th>74</th>\n",
       "      <td>https://www.carsensor.net/usedcar/detail/VU508...</td>\n",
       "      <td>45.0</td>\n",
       "      <td>60.30</td>\n",
       "      <td>2015</td>\n",
       "      <td>8.3</td>\n",
       "      <td>あり</td>\n",
       "      <td>AQUA</td>\n",
       "      <td>シルバーメタリック</td>\n",
       "    </tr>\n",
       "    <tr>\n",
       "      <th>75</th>\n",
       "      <td>https://www.carsensor.net/usedcar/detail/VU419...</td>\n",
       "      <td>44.8</td>\n",
       "      <td>60.90</td>\n",
       "      <td>2015</td>\n",
       "      <td>6.7</td>\n",
       "      <td>なし</td>\n",
       "      <td>AQUA</td>\n",
       "      <td>シルバーメタリック</td>\n",
       "    </tr>\n",
       "  </tbody>\n",
       "</table>\n",
       "</div>"
      ],
      "text/plain": [
       "                                                  url  base_price  \\\n",
       "6   https://www.carsensor.net/usedcar/detail/VU501...        79.9   \n",
       "40  https://www.carsensor.net/usedcar/detail/VU560...        84.5   \n",
       "48  https://www.carsensor.net/usedcar/detail/VU560...        89.6   \n",
       "52  https://www.carsensor.net/usedcar/detail/VU490...        48.0   \n",
       "69  https://www.carsensor.net/usedcar/detail/VU507...        69.8   \n",
       "74  https://www.carsensor.net/usedcar/detail/VU508...        45.0   \n",
       "75  https://www.carsensor.net/usedcar/detail/VU419...        44.8   \n",
       "\n",
       "    total_price model_year  distance repare    model      color  \n",
       "6        102.90       2013       1.0     なし      FIT  シルバーメタリック  \n",
       "40        98.60       2016       6.4     なし  FIELDER  シルバーメタリック  \n",
       "48       103.60       2018       8.9     なし     VITZ  シルバーメタリック  \n",
       "52        63.30       2015       8.0     あり     AQUA  シルバーメタリック  \n",
       "69       118.69       2016       6.4     なし     AQUA  シルバーメタリック  \n",
       "74        60.30       2015       8.3     あり     AQUA  シルバーメタリック  \n",
       "75        60.90       2015       6.7     なし     AQUA  シルバーメタリック  "
      ]
     },
     "metadata": {},
     "output_type": "display_data"
    },
    {
     "name": "stdout",
     "output_type": "stream",
     "text": [
      "ダークブルー\n"
     ]
    },
    {
     "data": {
      "text/html": [
       "<div>\n",
       "<style scoped>\n",
       "    .dataframe tbody tr th:only-of-type {\n",
       "        vertical-align: middle;\n",
       "    }\n",
       "\n",
       "    .dataframe tbody tr th {\n",
       "        vertical-align: top;\n",
       "    }\n",
       "\n",
       "    .dataframe thead th {\n",
       "        text-align: right;\n",
       "    }\n",
       "</style>\n",
       "<table border=\"1\" class=\"dataframe\">\n",
       "  <thead>\n",
       "    <tr style=\"text-align: right;\">\n",
       "      <th></th>\n",
       "      <th>url</th>\n",
       "      <th>base_price</th>\n",
       "      <th>total_price</th>\n",
       "      <th>model_year</th>\n",
       "      <th>distance</th>\n",
       "      <th>repare</th>\n",
       "      <th>model</th>\n",
       "      <th>color</th>\n",
       "    </tr>\n",
       "  </thead>\n",
       "  <tbody>\n",
       "    <tr>\n",
       "      <th>30</th>\n",
       "      <td>https://www.carsensor.net/usedcar/detail/VU544...</td>\n",
       "      <td>77.8</td>\n",
       "      <td>92.8</td>\n",
       "      <td>2016</td>\n",
       "      <td>9.5</td>\n",
       "      <td>なし</td>\n",
       "      <td>SHUTTLE</td>\n",
       "      <td>ダークブルー</td>\n",
       "    </tr>\n",
       "  </tbody>\n",
       "</table>\n",
       "</div>"
      ],
      "text/plain": [
       "                                                  url  base_price  \\\n",
       "30  https://www.carsensor.net/usedcar/detail/VU544...        77.8   \n",
       "\n",
       "    total_price model_year  distance repare    model   color  \n",
       "30         92.8       2016       9.5     なし  SHUTTLE  ダークブルー  "
      ]
     },
     "metadata": {},
     "output_type": "display_data"
    },
    {
     "name": "stdout",
     "output_type": "stream",
     "text": [
      "ディープアメジストマイカメタリック\n"
     ]
    },
    {
     "data": {
      "text/html": [
       "<div>\n",
       "<style scoped>\n",
       "    .dataframe tbody tr th:only-of-type {\n",
       "        vertical-align: middle;\n",
       "    }\n",
       "\n",
       "    .dataframe tbody tr th {\n",
       "        vertical-align: top;\n",
       "    }\n",
       "\n",
       "    .dataframe thead th {\n",
       "        text-align: right;\n",
       "    }\n",
       "</style>\n",
       "<table border=\"1\" class=\"dataframe\">\n",
       "  <thead>\n",
       "    <tr style=\"text-align: right;\">\n",
       "      <th></th>\n",
       "      <th>url</th>\n",
       "      <th>base_price</th>\n",
       "      <th>total_price</th>\n",
       "      <th>model_year</th>\n",
       "      <th>distance</th>\n",
       "      <th>repare</th>\n",
       "      <th>model</th>\n",
       "      <th>color</th>\n",
       "    </tr>\n",
       "  </thead>\n",
       "  <tbody>\n",
       "    <tr>\n",
       "      <th>49</th>\n",
       "      <td>https://www.carsensor.net/usedcar/detail/VU549...</td>\n",
       "      <td>64.8</td>\n",
       "      <td>77.4</td>\n",
       "      <td>2016</td>\n",
       "      <td>5.3</td>\n",
       "      <td>なし</td>\n",
       "      <td>AQUA</td>\n",
       "      <td>ディープアメジストマイカメタリック</td>\n",
       "    </tr>\n",
       "    <tr>\n",
       "      <th>60</th>\n",
       "      <td>https://www.carsensor.net/usedcar/detail/VU533...</td>\n",
       "      <td>59.8</td>\n",
       "      <td>72.4</td>\n",
       "      <td>2014</td>\n",
       "      <td>3.5</td>\n",
       "      <td>なし</td>\n",
       "      <td>AQUA</td>\n",
       "      <td>ディープアメジストマイカメタリック</td>\n",
       "    </tr>\n",
       "  </tbody>\n",
       "</table>\n",
       "</div>"
      ],
      "text/plain": [
       "                                                  url  base_price  \\\n",
       "49  https://www.carsensor.net/usedcar/detail/VU549...        64.8   \n",
       "60  https://www.carsensor.net/usedcar/detail/VU533...        59.8   \n",
       "\n",
       "    total_price model_year  distance repare model              color  \n",
       "49         77.4       2016       5.3     なし  AQUA  ディープアメジストマイカメタリック  \n",
       "60         72.4       2014       3.5     なし  AQUA  ディープアメジストマイカメタリック  "
      ]
     },
     "metadata": {},
     "output_type": "display_data"
    },
    {
     "name": "stdout",
     "output_type": "stream",
     "text": [
      "パープル\n"
     ]
    },
    {
     "data": {
      "text/html": [
       "<div>\n",
       "<style scoped>\n",
       "    .dataframe tbody tr th:only-of-type {\n",
       "        vertical-align: middle;\n",
       "    }\n",
       "\n",
       "    .dataframe tbody tr th {\n",
       "        vertical-align: top;\n",
       "    }\n",
       "\n",
       "    .dataframe thead th {\n",
       "        text-align: right;\n",
       "    }\n",
       "</style>\n",
       "<table border=\"1\" class=\"dataframe\">\n",
       "  <thead>\n",
       "    <tr style=\"text-align: right;\">\n",
       "      <th></th>\n",
       "      <th>url</th>\n",
       "      <th>base_price</th>\n",
       "      <th>total_price</th>\n",
       "      <th>model_year</th>\n",
       "      <th>distance</th>\n",
       "      <th>repare</th>\n",
       "      <th>model</th>\n",
       "      <th>color</th>\n",
       "    </tr>\n",
       "  </thead>\n",
       "  <tbody>\n",
       "    <tr>\n",
       "      <th>59</th>\n",
       "      <td>https://www.carsensor.net/usedcar/detail/VU537...</td>\n",
       "      <td>69.9</td>\n",
       "      <td>70.0</td>\n",
       "      <td>2014</td>\n",
       "      <td>7.2</td>\n",
       "      <td>あり</td>\n",
       "      <td>AQUA</td>\n",
       "      <td>パープル</td>\n",
       "    </tr>\n",
       "  </tbody>\n",
       "</table>\n",
       "</div>"
      ],
      "text/plain": [
       "                                                  url  base_price  \\\n",
       "59  https://www.carsensor.net/usedcar/detail/VU537...        69.9   \n",
       "\n",
       "    total_price model_year  distance repare model color  \n",
       "59         70.0       2014       7.2     あり  AQUA  パープル  "
      ]
     },
     "metadata": {},
     "output_type": "display_data"
    },
    {
     "name": "stdout",
     "output_type": "stream",
     "text": [
      "パール\n"
     ]
    },
    {
     "data": {
      "text/html": [
       "<div>\n",
       "<style scoped>\n",
       "    .dataframe tbody tr th:only-of-type {\n",
       "        vertical-align: middle;\n",
       "    }\n",
       "\n",
       "    .dataframe tbody tr th {\n",
       "        vertical-align: top;\n",
       "    }\n",
       "\n",
       "    .dataframe thead th {\n",
       "        text-align: right;\n",
       "    }\n",
       "</style>\n",
       "<table border=\"1\" class=\"dataframe\">\n",
       "  <thead>\n",
       "    <tr style=\"text-align: right;\">\n",
       "      <th></th>\n",
       "      <th>url</th>\n",
       "      <th>base_price</th>\n",
       "      <th>total_price</th>\n",
       "      <th>model_year</th>\n",
       "      <th>distance</th>\n",
       "      <th>repare</th>\n",
       "      <th>model</th>\n",
       "      <th>color</th>\n",
       "    </tr>\n",
       "  </thead>\n",
       "  <tbody>\n",
       "    <tr>\n",
       "      <th>27</th>\n",
       "      <td>https://www.carsensor.net/usedcar/detail/VU553...</td>\n",
       "      <td>60.8</td>\n",
       "      <td>75.8</td>\n",
       "      <td>2014</td>\n",
       "      <td>9.1</td>\n",
       "      <td>なし</td>\n",
       "      <td>FIT</td>\n",
       "      <td>パール</td>\n",
       "    </tr>\n",
       "    <tr>\n",
       "      <th>33</th>\n",
       "      <td>https://www.carsensor.net/usedcar/detail/VU515...</td>\n",
       "      <td>82.9</td>\n",
       "      <td>85.0</td>\n",
       "      <td>2015</td>\n",
       "      <td>6.3</td>\n",
       "      <td>あり</td>\n",
       "      <td>GRACE</td>\n",
       "      <td>パール</td>\n",
       "    </tr>\n",
       "  </tbody>\n",
       "</table>\n",
       "</div>"
      ],
      "text/plain": [
       "                                                  url  base_price  \\\n",
       "27  https://www.carsensor.net/usedcar/detail/VU553...        60.8   \n",
       "33  https://www.carsensor.net/usedcar/detail/VU515...        82.9   \n",
       "\n",
       "    total_price model_year  distance repare  model color  \n",
       "27         75.8       2014       9.1     なし    FIT   パール  \n",
       "33         85.0       2015       6.3     あり  GRACE   パール  "
      ]
     },
     "metadata": {},
     "output_type": "display_data"
    },
    {
     "name": "stdout",
     "output_type": "stream",
     "text": [
      "パールホワイト\n"
     ]
    },
    {
     "data": {
      "text/html": [
       "<div>\n",
       "<style scoped>\n",
       "    .dataframe tbody tr th:only-of-type {\n",
       "        vertical-align: middle;\n",
       "    }\n",
       "\n",
       "    .dataframe tbody tr th {\n",
       "        vertical-align: top;\n",
       "    }\n",
       "\n",
       "    .dataframe thead th {\n",
       "        text-align: right;\n",
       "    }\n",
       "</style>\n",
       "<table border=\"1\" class=\"dataframe\">\n",
       "  <thead>\n",
       "    <tr style=\"text-align: right;\">\n",
       "      <th></th>\n",
       "      <th>url</th>\n",
       "      <th>base_price</th>\n",
       "      <th>total_price</th>\n",
       "      <th>model_year</th>\n",
       "      <th>distance</th>\n",
       "      <th>repare</th>\n",
       "      <th>model</th>\n",
       "      <th>color</th>\n",
       "    </tr>\n",
       "  </thead>\n",
       "  <tbody>\n",
       "    <tr>\n",
       "      <th>12</th>\n",
       "      <td>https://www.carsensor.net/usedcar/detail/VU552...</td>\n",
       "      <td>70.0</td>\n",
       "      <td>84.00</td>\n",
       "      <td>2014</td>\n",
       "      <td>5.0</td>\n",
       "      <td>なし</td>\n",
       "      <td>FIT</td>\n",
       "      <td>パールホワイト</td>\n",
       "    </tr>\n",
       "    <tr>\n",
       "      <th>46</th>\n",
       "      <td>https://www.carsensor.net/usedcar/detail/VU537...</td>\n",
       "      <td>83.8</td>\n",
       "      <td>118.69</td>\n",
       "      <td>2014</td>\n",
       "      <td>7.3</td>\n",
       "      <td>なし</td>\n",
       "      <td>FIELDER</td>\n",
       "      <td>パールホワイト</td>\n",
       "    </tr>\n",
       "  </tbody>\n",
       "</table>\n",
       "</div>"
      ],
      "text/plain": [
       "                                                  url  base_price  \\\n",
       "12  https://www.carsensor.net/usedcar/detail/VU552...        70.0   \n",
       "46  https://www.carsensor.net/usedcar/detail/VU537...        83.8   \n",
       "\n",
       "    total_price model_year  distance repare    model    color  \n",
       "12        84.00       2014       5.0     なし      FIT  パールホワイト  \n",
       "46       118.69       2014       7.3     なし  FIELDER  パールホワイト  "
      ]
     },
     "metadata": {},
     "output_type": "display_data"
    },
    {
     "name": "stdout",
     "output_type": "stream",
     "text": [
      "ピンク\n"
     ]
    },
    {
     "data": {
      "text/html": [
       "<div>\n",
       "<style scoped>\n",
       "    .dataframe tbody tr th:only-of-type {\n",
       "        vertical-align: middle;\n",
       "    }\n",
       "\n",
       "    .dataframe tbody tr th {\n",
       "        vertical-align: top;\n",
       "    }\n",
       "\n",
       "    .dataframe thead th {\n",
       "        text-align: right;\n",
       "    }\n",
       "</style>\n",
       "<table border=\"1\" class=\"dataframe\">\n",
       "  <thead>\n",
       "    <tr style=\"text-align: right;\">\n",
       "      <th></th>\n",
       "      <th>url</th>\n",
       "      <th>base_price</th>\n",
       "      <th>total_price</th>\n",
       "      <th>model_year</th>\n",
       "      <th>distance</th>\n",
       "      <th>repare</th>\n",
       "      <th>model</th>\n",
       "      <th>color</th>\n",
       "    </tr>\n",
       "  </thead>\n",
       "  <tbody>\n",
       "    <tr>\n",
       "      <th>0</th>\n",
       "      <td>https://www.carsensor.net/usedcar/detail/VU342...</td>\n",
       "      <td>85.9</td>\n",
       "      <td>99.0</td>\n",
       "      <td>2017</td>\n",
       "      <td>6.0</td>\n",
       "      <td>なし</td>\n",
       "      <td>FIT</td>\n",
       "      <td>ピンク</td>\n",
       "    </tr>\n",
       "    <tr>\n",
       "      <th>54</th>\n",
       "      <td>https://www.carsensor.net/usedcar/detail/VU451...</td>\n",
       "      <td>59.8</td>\n",
       "      <td>69.8</td>\n",
       "      <td>2015</td>\n",
       "      <td>7.6</td>\n",
       "      <td>なし</td>\n",
       "      <td>AQUA</td>\n",
       "      <td>ピンク</td>\n",
       "    </tr>\n",
       "  </tbody>\n",
       "</table>\n",
       "</div>"
      ],
      "text/plain": [
       "                                                  url  base_price  \\\n",
       "0   https://www.carsensor.net/usedcar/detail/VU342...        85.9   \n",
       "54  https://www.carsensor.net/usedcar/detail/VU451...        59.8   \n",
       "\n",
       "    total_price model_year  distance repare model color  \n",
       "0          99.0       2017       6.0     なし   FIT   ピンク  \n",
       "54         69.8       2015       7.6     なし  AQUA   ピンク  "
      ]
     },
     "metadata": {},
     "output_type": "display_data"
    },
    {
     "name": "stdout",
     "output_type": "stream",
     "text": [
      "ピンクメタリック\n"
     ]
    },
    {
     "data": {
      "text/html": [
       "<div>\n",
       "<style scoped>\n",
       "    .dataframe tbody tr th:only-of-type {\n",
       "        vertical-align: middle;\n",
       "    }\n",
       "\n",
       "    .dataframe tbody tr th {\n",
       "        vertical-align: top;\n",
       "    }\n",
       "\n",
       "    .dataframe thead th {\n",
       "        text-align: right;\n",
       "    }\n",
       "</style>\n",
       "<table border=\"1\" class=\"dataframe\">\n",
       "  <thead>\n",
       "    <tr style=\"text-align: right;\">\n",
       "      <th></th>\n",
       "      <th>url</th>\n",
       "      <th>base_price</th>\n",
       "      <th>total_price</th>\n",
       "      <th>model_year</th>\n",
       "      <th>distance</th>\n",
       "      <th>repare</th>\n",
       "      <th>model</th>\n",
       "      <th>color</th>\n",
       "    </tr>\n",
       "  </thead>\n",
       "  <tbody>\n",
       "    <tr>\n",
       "      <th>7</th>\n",
       "      <td>https://www.carsensor.net/usedcar/detail/VU527...</td>\n",
       "      <td>81.0</td>\n",
       "      <td>95.5</td>\n",
       "      <td>2016</td>\n",
       "      <td>7.0</td>\n",
       "      <td>あり</td>\n",
       "      <td>FIT</td>\n",
       "      <td>ピンクメタリック</td>\n",
       "    </tr>\n",
       "    <tr>\n",
       "      <th>56</th>\n",
       "      <td>https://www.carsensor.net/usedcar/detail/VU463...</td>\n",
       "      <td>69.8</td>\n",
       "      <td>79.8</td>\n",
       "      <td>2015</td>\n",
       "      <td>6.9</td>\n",
       "      <td>なし</td>\n",
       "      <td>AQUA</td>\n",
       "      <td>ピンクメタリック</td>\n",
       "    </tr>\n",
       "  </tbody>\n",
       "</table>\n",
       "</div>"
      ],
      "text/plain": [
       "                                                  url  base_price  \\\n",
       "7   https://www.carsensor.net/usedcar/detail/VU527...        81.0   \n",
       "56  https://www.carsensor.net/usedcar/detail/VU463...        69.8   \n",
       "\n",
       "    total_price model_year  distance repare model     color  \n",
       "7          95.5       2016       7.0     あり   FIT  ピンクメタリック  \n",
       "56         79.8       2015       6.9     なし  AQUA  ピンクメタリック  "
      ]
     },
     "metadata": {},
     "output_type": "display_data"
    },
    {
     "name": "stdout",
     "output_type": "stream",
     "text": [
      "ブラック\n"
     ]
    },
    {
     "data": {
      "text/html": [
       "<div>\n",
       "<style scoped>\n",
       "    .dataframe tbody tr th:only-of-type {\n",
       "        vertical-align: middle;\n",
       "    }\n",
       "\n",
       "    .dataframe tbody tr th {\n",
       "        vertical-align: top;\n",
       "    }\n",
       "\n",
       "    .dataframe thead th {\n",
       "        text-align: right;\n",
       "    }\n",
       "</style>\n",
       "<table border=\"1\" class=\"dataframe\">\n",
       "  <thead>\n",
       "    <tr style=\"text-align: right;\">\n",
       "      <th></th>\n",
       "      <th>url</th>\n",
       "      <th>base_price</th>\n",
       "      <th>total_price</th>\n",
       "      <th>model_year</th>\n",
       "      <th>distance</th>\n",
       "      <th>repare</th>\n",
       "      <th>model</th>\n",
       "      <th>color</th>\n",
       "    </tr>\n",
       "  </thead>\n",
       "  <tbody>\n",
       "    <tr>\n",
       "      <th>1</th>\n",
       "      <td>https://www.carsensor.net/usedcar/detail/VU550...</td>\n",
       "      <td>67.8</td>\n",
       "      <td>82.8</td>\n",
       "      <td>2014</td>\n",
       "      <td>6.4</td>\n",
       "      <td>なし</td>\n",
       "      <td>FIT</td>\n",
       "      <td>ブラック</td>\n",
       "    </tr>\n",
       "    <tr>\n",
       "      <th>28</th>\n",
       "      <td>https://www.carsensor.net/usedcar/detail/VU549...</td>\n",
       "      <td>83.7</td>\n",
       "      <td>95.2</td>\n",
       "      <td>2014</td>\n",
       "      <td>2.1</td>\n",
       "      <td>あり</td>\n",
       "      <td>FIT</td>\n",
       "      <td>ブラック</td>\n",
       "    </tr>\n",
       "    <tr>\n",
       "      <th>45</th>\n",
       "      <td>https://www.carsensor.net/usedcar/detail/VU562...</td>\n",
       "      <td>90.0</td>\n",
       "      <td>99.7</td>\n",
       "      <td>2014</td>\n",
       "      <td>6.6</td>\n",
       "      <td>なし</td>\n",
       "      <td>FIELDER</td>\n",
       "      <td>ブラック</td>\n",
       "    </tr>\n",
       "    <tr>\n",
       "      <th>47</th>\n",
       "      <td>https://www.carsensor.net/usedcar/detail/VU555...</td>\n",
       "      <td>90.0</td>\n",
       "      <td>98.4</td>\n",
       "      <td>2013</td>\n",
       "      <td>6.1</td>\n",
       "      <td>なし</td>\n",
       "      <td>FIELDER</td>\n",
       "      <td>ブラック</td>\n",
       "    </tr>\n",
       "    <tr>\n",
       "      <th>62</th>\n",
       "      <td>https://www.carsensor.net/usedcar/detail/VU548...</td>\n",
       "      <td>39.8</td>\n",
       "      <td>54.3</td>\n",
       "      <td>2013</td>\n",
       "      <td>9.9</td>\n",
       "      <td>なし</td>\n",
       "      <td>AQUA</td>\n",
       "      <td>ブラック</td>\n",
       "    </tr>\n",
       "  </tbody>\n",
       "</table>\n",
       "</div>"
      ],
      "text/plain": [
       "                                                  url  base_price  \\\n",
       "1   https://www.carsensor.net/usedcar/detail/VU550...        67.8   \n",
       "28  https://www.carsensor.net/usedcar/detail/VU549...        83.7   \n",
       "45  https://www.carsensor.net/usedcar/detail/VU562...        90.0   \n",
       "47  https://www.carsensor.net/usedcar/detail/VU555...        90.0   \n",
       "62  https://www.carsensor.net/usedcar/detail/VU548...        39.8   \n",
       "\n",
       "    total_price model_year  distance repare    model color  \n",
       "1          82.8       2014       6.4     なし      FIT  ブラック  \n",
       "28         95.2       2014       2.1     あり      FIT  ブラック  \n",
       "45         99.7       2014       6.6     なし  FIELDER  ブラック  \n",
       "47         98.4       2013       6.1     なし  FIELDER  ブラック  \n",
       "62         54.3       2013       9.9     なし     AQUA  ブラック  "
      ]
     },
     "metadata": {},
     "output_type": "display_data"
    },
    {
     "name": "stdout",
     "output_type": "stream",
     "text": [
      "ブラックパール\n"
     ]
    },
    {
     "data": {
      "text/html": [
       "<div>\n",
       "<style scoped>\n",
       "    .dataframe tbody tr th:only-of-type {\n",
       "        vertical-align: middle;\n",
       "    }\n",
       "\n",
       "    .dataframe tbody tr th {\n",
       "        vertical-align: top;\n",
       "    }\n",
       "\n",
       "    .dataframe thead th {\n",
       "        text-align: right;\n",
       "    }\n",
       "</style>\n",
       "<table border=\"1\" class=\"dataframe\">\n",
       "  <thead>\n",
       "    <tr style=\"text-align: right;\">\n",
       "      <th></th>\n",
       "      <th>url</th>\n",
       "      <th>base_price</th>\n",
       "      <th>total_price</th>\n",
       "      <th>model_year</th>\n",
       "      <th>distance</th>\n",
       "      <th>repare</th>\n",
       "      <th>model</th>\n",
       "      <th>color</th>\n",
       "    </tr>\n",
       "  </thead>\n",
       "  <tbody>\n",
       "    <tr>\n",
       "      <th>4</th>\n",
       "      <td>https://www.carsensor.net/usedcar/detail/VU441...</td>\n",
       "      <td>44.8</td>\n",
       "      <td>59.8</td>\n",
       "      <td>2013</td>\n",
       "      <td>7.1</td>\n",
       "      <td>なし</td>\n",
       "      <td>FIT</td>\n",
       "      <td>ブラックパール</td>\n",
       "    </tr>\n",
       "    <tr>\n",
       "      <th>53</th>\n",
       "      <td>https://www.carsensor.net/usedcar/detail/VU318...</td>\n",
       "      <td>51.8</td>\n",
       "      <td>66.8</td>\n",
       "      <td>2015</td>\n",
       "      <td>9.8</td>\n",
       "      <td>なし</td>\n",
       "      <td>AQUA</td>\n",
       "      <td>ブラックパール</td>\n",
       "    </tr>\n",
       "    <tr>\n",
       "      <th>66</th>\n",
       "      <td>https://www.carsensor.net/usedcar/detail/VU489...</td>\n",
       "      <td>80.8</td>\n",
       "      <td>95.8</td>\n",
       "      <td>2013</td>\n",
       "      <td>7.2</td>\n",
       "      <td>なし</td>\n",
       "      <td>AQUA</td>\n",
       "      <td>ブラックパール</td>\n",
       "    </tr>\n",
       "  </tbody>\n",
       "</table>\n",
       "</div>"
      ],
      "text/plain": [
       "                                                  url  base_price  \\\n",
       "4   https://www.carsensor.net/usedcar/detail/VU441...        44.8   \n",
       "53  https://www.carsensor.net/usedcar/detail/VU318...        51.8   \n",
       "66  https://www.carsensor.net/usedcar/detail/VU489...        80.8   \n",
       "\n",
       "    total_price model_year  distance repare model    color  \n",
       "4          59.8       2013       7.1     なし   FIT  ブラックパール  \n",
       "53         66.8       2015       9.8     なし  AQUA  ブラックパール  \n",
       "66         95.8       2013       7.2     なし  AQUA  ブラックパール  "
      ]
     },
     "metadata": {},
     "output_type": "display_data"
    },
    {
     "name": "stdout",
     "output_type": "stream",
     "text": [
      "ブラックマイカ\n"
     ]
    },
    {
     "data": {
      "text/html": [
       "<div>\n",
       "<style scoped>\n",
       "    .dataframe tbody tr th:only-of-type {\n",
       "        vertical-align: middle;\n",
       "    }\n",
       "\n",
       "    .dataframe tbody tr th {\n",
       "        vertical-align: top;\n",
       "    }\n",
       "\n",
       "    .dataframe thead th {\n",
       "        text-align: right;\n",
       "    }\n",
       "</style>\n",
       "<table border=\"1\" class=\"dataframe\">\n",
       "  <thead>\n",
       "    <tr style=\"text-align: right;\">\n",
       "      <th></th>\n",
       "      <th>url</th>\n",
       "      <th>base_price</th>\n",
       "      <th>total_price</th>\n",
       "      <th>model_year</th>\n",
       "      <th>distance</th>\n",
       "      <th>repare</th>\n",
       "      <th>model</th>\n",
       "      <th>color</th>\n",
       "    </tr>\n",
       "  </thead>\n",
       "  <tbody>\n",
       "    <tr>\n",
       "      <th>38</th>\n",
       "      <td>https://www.carsensor.net/usedcar/detail/VU527...</td>\n",
       "      <td>89.9</td>\n",
       "      <td>107.9</td>\n",
       "      <td>2014</td>\n",
       "      <td>6.4</td>\n",
       "      <td>なし</td>\n",
       "      <td>FIELDER</td>\n",
       "      <td>ブラックマイカ</td>\n",
       "    </tr>\n",
       "    <tr>\n",
       "      <th>57</th>\n",
       "      <td>https://www.carsensor.net/usedcar/detail/VU446...</td>\n",
       "      <td>49.8</td>\n",
       "      <td>65.5</td>\n",
       "      <td>2014</td>\n",
       "      <td>7.5</td>\n",
       "      <td>なし</td>\n",
       "      <td>AQUA</td>\n",
       "      <td>ブラックマイカ</td>\n",
       "    </tr>\n",
       "    <tr>\n",
       "      <th>67</th>\n",
       "      <td>https://www.carsensor.net/usedcar/detail/VU558...</td>\n",
       "      <td>89.9</td>\n",
       "      <td>107.9</td>\n",
       "      <td>2013</td>\n",
       "      <td>2.0</td>\n",
       "      <td>なし</td>\n",
       "      <td>AQUA</td>\n",
       "      <td>ブラックマイカ</td>\n",
       "    </tr>\n",
       "  </tbody>\n",
       "</table>\n",
       "</div>"
      ],
      "text/plain": [
       "                                                  url  base_price  \\\n",
       "38  https://www.carsensor.net/usedcar/detail/VU527...        89.9   \n",
       "57  https://www.carsensor.net/usedcar/detail/VU446...        49.8   \n",
       "67  https://www.carsensor.net/usedcar/detail/VU558...        89.9   \n",
       "\n",
       "    total_price model_year  distance repare    model    color  \n",
       "38        107.9       2014       6.4     なし  FIELDER  ブラックマイカ  \n",
       "57         65.5       2014       7.5     なし     AQUA  ブラックマイカ  \n",
       "67        107.9       2013       2.0     なし     AQUA  ブラックマイカ  "
      ]
     },
     "metadata": {},
     "output_type": "display_data"
    },
    {
     "name": "stdout",
     "output_type": "stream",
     "text": [
      "ブリリアントスポーティブルーメタリック\n"
     ]
    },
    {
     "data": {
      "text/html": [
       "<div>\n",
       "<style scoped>\n",
       "    .dataframe tbody tr th:only-of-type {\n",
       "        vertical-align: middle;\n",
       "    }\n",
       "\n",
       "    .dataframe tbody tr th {\n",
       "        vertical-align: top;\n",
       "    }\n",
       "\n",
       "    .dataframe thead th {\n",
       "        text-align: right;\n",
       "    }\n",
       "</style>\n",
       "<table border=\"1\" class=\"dataframe\">\n",
       "  <thead>\n",
       "    <tr style=\"text-align: right;\">\n",
       "      <th></th>\n",
       "      <th>url</th>\n",
       "      <th>base_price</th>\n",
       "      <th>total_price</th>\n",
       "      <th>model_year</th>\n",
       "      <th>distance</th>\n",
       "      <th>repare</th>\n",
       "      <th>model</th>\n",
       "      <th>color</th>\n",
       "    </tr>\n",
       "  </thead>\n",
       "  <tbody>\n",
       "    <tr>\n",
       "      <th>16</th>\n",
       "      <td>https://www.carsensor.net/usedcar/detail/VU560...</td>\n",
       "      <td>78.9</td>\n",
       "      <td>91.9</td>\n",
       "      <td>2014</td>\n",
       "      <td>4.6</td>\n",
       "      <td>なし</td>\n",
       "      <td>FIT</td>\n",
       "      <td>ブリリアントスポーティブルーメタリック</td>\n",
       "    </tr>\n",
       "    <tr>\n",
       "      <th>26</th>\n",
       "      <td>https://www.carsensor.net/usedcar/detail/VU528...</td>\n",
       "      <td>65.4</td>\n",
       "      <td>72.0</td>\n",
       "      <td>2014</td>\n",
       "      <td>7.4</td>\n",
       "      <td>なし</td>\n",
       "      <td>FIT</td>\n",
       "      <td>ブリリアントスポーティブルーメタリック</td>\n",
       "    </tr>\n",
       "  </tbody>\n",
       "</table>\n",
       "</div>"
      ],
      "text/plain": [
       "                                                  url  base_price  \\\n",
       "16  https://www.carsensor.net/usedcar/detail/VU560...        78.9   \n",
       "26  https://www.carsensor.net/usedcar/detail/VU528...        65.4   \n",
       "\n",
       "    total_price model_year  distance repare model                color  \n",
       "16         91.9       2014       4.6     なし   FIT  ブリリアントスポーティブルーメタリック  \n",
       "26         72.0       2014       7.4     なし   FIT  ブリリアントスポーティブルーメタリック  "
      ]
     },
     "metadata": {},
     "output_type": "display_data"
    },
    {
     "name": "stdout",
     "output_type": "stream",
     "text": [
      "ブリリアントスポーティーブルーメタリック\n"
     ]
    },
    {
     "data": {
      "text/html": [
       "<div>\n",
       "<style scoped>\n",
       "    .dataframe tbody tr th:only-of-type {\n",
       "        vertical-align: middle;\n",
       "    }\n",
       "\n",
       "    .dataframe tbody tr th {\n",
       "        vertical-align: top;\n",
       "    }\n",
       "\n",
       "    .dataframe thead th {\n",
       "        text-align: right;\n",
       "    }\n",
       "</style>\n",
       "<table border=\"1\" class=\"dataframe\">\n",
       "  <thead>\n",
       "    <tr style=\"text-align: right;\">\n",
       "      <th></th>\n",
       "      <th>url</th>\n",
       "      <th>base_price</th>\n",
       "      <th>total_price</th>\n",
       "      <th>model_year</th>\n",
       "      <th>distance</th>\n",
       "      <th>repare</th>\n",
       "      <th>model</th>\n",
       "      <th>color</th>\n",
       "    </tr>\n",
       "  </thead>\n",
       "  <tbody>\n",
       "    <tr>\n",
       "      <th>11</th>\n",
       "      <td>https://www.carsensor.net/usedcar/detail/VU540...</td>\n",
       "      <td>59.8</td>\n",
       "      <td>73.1</td>\n",
       "      <td>2014</td>\n",
       "      <td>8.3</td>\n",
       "      <td>なし</td>\n",
       "      <td>FIT</td>\n",
       "      <td>ブリリアントスポーティーブルーメタリック</td>\n",
       "    </tr>\n",
       "  </tbody>\n",
       "</table>\n",
       "</div>"
      ],
      "text/plain": [
       "                                                  url  base_price  \\\n",
       "11  https://www.carsensor.net/usedcar/detail/VU540...        59.8   \n",
       "\n",
       "    total_price model_year  distance repare model                 color  \n",
       "11         73.1       2014       8.3     なし   FIT  ブリリアントスポーティーブルーメタリック  "
      ]
     },
     "metadata": {},
     "output_type": "display_data"
    },
    {
     "name": "stdout",
     "output_type": "stream",
     "text": [
      "ブルー\n"
     ]
    },
    {
     "data": {
      "text/html": [
       "<div>\n",
       "<style scoped>\n",
       "    .dataframe tbody tr th:only-of-type {\n",
       "        vertical-align: middle;\n",
       "    }\n",
       "\n",
       "    .dataframe tbody tr th {\n",
       "        vertical-align: top;\n",
       "    }\n",
       "\n",
       "    .dataframe thead th {\n",
       "        text-align: right;\n",
       "    }\n",
       "</style>\n",
       "<table border=\"1\" class=\"dataframe\">\n",
       "  <thead>\n",
       "    <tr style=\"text-align: right;\">\n",
       "      <th></th>\n",
       "      <th>url</th>\n",
       "      <th>base_price</th>\n",
       "      <th>total_price</th>\n",
       "      <th>model_year</th>\n",
       "      <th>distance</th>\n",
       "      <th>repare</th>\n",
       "      <th>model</th>\n",
       "      <th>color</th>\n",
       "    </tr>\n",
       "  </thead>\n",
       "  <tbody>\n",
       "    <tr>\n",
       "      <th>25</th>\n",
       "      <td>https://www.carsensor.net/usedcar/detail/VU560...</td>\n",
       "      <td>53.8</td>\n",
       "      <td>68.8</td>\n",
       "      <td>2014</td>\n",
       "      <td>6.2</td>\n",
       "      <td>なし</td>\n",
       "      <td>FIT</td>\n",
       "      <td>ブルー</td>\n",
       "    </tr>\n",
       "    <tr>\n",
       "      <th>42</th>\n",
       "      <td>https://www.carsensor.net/usedcar/detail/VU538...</td>\n",
       "      <td>74.0</td>\n",
       "      <td>84.3</td>\n",
       "      <td>2014</td>\n",
       "      <td>6.5</td>\n",
       "      <td>なし</td>\n",
       "      <td>FIELDER</td>\n",
       "      <td>ブルー</td>\n",
       "    </tr>\n",
       "    <tr>\n",
       "      <th>44</th>\n",
       "      <td>https://www.carsensor.net/usedcar/detail/VU525...</td>\n",
       "      <td>62.0</td>\n",
       "      <td>72.3</td>\n",
       "      <td>2014</td>\n",
       "      <td>9.6</td>\n",
       "      <td>あり</td>\n",
       "      <td>FIELDER</td>\n",
       "      <td>ブルー</td>\n",
       "    </tr>\n",
       "    <tr>\n",
       "      <th>51</th>\n",
       "      <td>https://www.carsensor.net/usedcar/detail/VU506...</td>\n",
       "      <td>84.0</td>\n",
       "      <td>85.0</td>\n",
       "      <td>2016</td>\n",
       "      <td>5.7</td>\n",
       "      <td>あり</td>\n",
       "      <td>AQUA</td>\n",
       "      <td>ブルー</td>\n",
       "    </tr>\n",
       "    <tr>\n",
       "      <th>58</th>\n",
       "      <td>https://www.carsensor.net/usedcar/detail/VU556...</td>\n",
       "      <td>69.9</td>\n",
       "      <td>70.0</td>\n",
       "      <td>2014</td>\n",
       "      <td>9.2</td>\n",
       "      <td>あり</td>\n",
       "      <td>AQUA</td>\n",
       "      <td>ブルー</td>\n",
       "    </tr>\n",
       "  </tbody>\n",
       "</table>\n",
       "</div>"
      ],
      "text/plain": [
       "                                                  url  base_price  \\\n",
       "25  https://www.carsensor.net/usedcar/detail/VU560...        53.8   \n",
       "42  https://www.carsensor.net/usedcar/detail/VU538...        74.0   \n",
       "44  https://www.carsensor.net/usedcar/detail/VU525...        62.0   \n",
       "51  https://www.carsensor.net/usedcar/detail/VU506...        84.0   \n",
       "58  https://www.carsensor.net/usedcar/detail/VU556...        69.9   \n",
       "\n",
       "    total_price model_year  distance repare    model color  \n",
       "25         68.8       2014       6.2     なし      FIT   ブルー  \n",
       "42         84.3       2014       6.5     なし  FIELDER   ブルー  \n",
       "44         72.3       2014       9.6     あり  FIELDER   ブルー  \n",
       "51         85.0       2016       5.7     あり     AQUA   ブルー  \n",
       "58         70.0       2014       9.2     あり     AQUA   ブルー  "
      ]
     },
     "metadata": {},
     "output_type": "display_data"
    },
    {
     "name": "stdout",
     "output_type": "stream",
     "text": [
      "ブルーメタリック\n"
     ]
    },
    {
     "data": {
      "text/html": [
       "<div>\n",
       "<style scoped>\n",
       "    .dataframe tbody tr th:only-of-type {\n",
       "        vertical-align: middle;\n",
       "    }\n",
       "\n",
       "    .dataframe tbody tr th {\n",
       "        vertical-align: top;\n",
       "    }\n",
       "\n",
       "    .dataframe thead th {\n",
       "        text-align: right;\n",
       "    }\n",
       "</style>\n",
       "<table border=\"1\" class=\"dataframe\">\n",
       "  <thead>\n",
       "    <tr style=\"text-align: right;\">\n",
       "      <th></th>\n",
       "      <th>url</th>\n",
       "      <th>base_price</th>\n",
       "      <th>total_price</th>\n",
       "      <th>model_year</th>\n",
       "      <th>distance</th>\n",
       "      <th>repare</th>\n",
       "      <th>model</th>\n",
       "      <th>color</th>\n",
       "    </tr>\n",
       "  </thead>\n",
       "  <tbody>\n",
       "    <tr>\n",
       "      <th>70</th>\n",
       "      <td>https://www.carsensor.net/usedcar/detail/VU448...</td>\n",
       "      <td>59.8</td>\n",
       "      <td>75.5</td>\n",
       "      <td>2016</td>\n",
       "      <td>8.6</td>\n",
       "      <td>なし</td>\n",
       "      <td>AQUA</td>\n",
       "      <td>ブルーメタリック</td>\n",
       "    </tr>\n",
       "  </tbody>\n",
       "</table>\n",
       "</div>"
      ],
      "text/plain": [
       "                                                  url  base_price  \\\n",
       "70  https://www.carsensor.net/usedcar/detail/VU448...        59.8   \n",
       "\n",
       "    total_price model_year  distance repare model     color  \n",
       "70         75.5       2016       8.6     なし  AQUA  ブルーメタリック  "
      ]
     },
     "metadata": {},
     "output_type": "display_data"
    },
    {
     "name": "stdout",
     "output_type": "stream",
     "text": [
      "プレミアムホワイトP\n"
     ]
    },
    {
     "data": {
      "text/html": [
       "<div>\n",
       "<style scoped>\n",
       "    .dataframe tbody tr th:only-of-type {\n",
       "        vertical-align: middle;\n",
       "    }\n",
       "\n",
       "    .dataframe tbody tr th {\n",
       "        vertical-align: top;\n",
       "    }\n",
       "\n",
       "    .dataframe thead th {\n",
       "        text-align: right;\n",
       "    }\n",
       "</style>\n",
       "<table border=\"1\" class=\"dataframe\">\n",
       "  <thead>\n",
       "    <tr style=\"text-align: right;\">\n",
       "      <th></th>\n",
       "      <th>url</th>\n",
       "      <th>base_price</th>\n",
       "      <th>total_price</th>\n",
       "      <th>model_year</th>\n",
       "      <th>distance</th>\n",
       "      <th>repare</th>\n",
       "      <th>model</th>\n",
       "      <th>color</th>\n",
       "    </tr>\n",
       "  </thead>\n",
       "  <tbody>\n",
       "    <tr>\n",
       "      <th>18</th>\n",
       "      <td>https://www.carsensor.net/usedcar/detail/VU560...</td>\n",
       "      <td>85.0</td>\n",
       "      <td>97.7</td>\n",
       "      <td>2014</td>\n",
       "      <td>6.4</td>\n",
       "      <td>なし</td>\n",
       "      <td>FIT</td>\n",
       "      <td>プレミアムホワイトP</td>\n",
       "    </tr>\n",
       "  </tbody>\n",
       "</table>\n",
       "</div>"
      ],
      "text/plain": [
       "                                                  url  base_price  \\\n",
       "18  https://www.carsensor.net/usedcar/detail/VU560...        85.0   \n",
       "\n",
       "    total_price model_year  distance repare model       color  \n",
       "18         97.7       2014       6.4     なし   FIT  プレミアムホワイトP  "
      ]
     },
     "metadata": {},
     "output_type": "display_data"
    },
    {
     "name": "stdout",
     "output_type": "stream",
     "text": [
      "プレミアムホワイトパール\n"
     ]
    },
    {
     "data": {
      "text/html": [
       "<div>\n",
       "<style scoped>\n",
       "    .dataframe tbody tr th:only-of-type {\n",
       "        vertical-align: middle;\n",
       "    }\n",
       "\n",
       "    .dataframe tbody tr th {\n",
       "        vertical-align: top;\n",
       "    }\n",
       "\n",
       "    .dataframe thead th {\n",
       "        text-align: right;\n",
       "    }\n",
       "</style>\n",
       "<table border=\"1\" class=\"dataframe\">\n",
       "  <thead>\n",
       "    <tr style=\"text-align: right;\">\n",
       "      <th></th>\n",
       "      <th>url</th>\n",
       "      <th>base_price</th>\n",
       "      <th>total_price</th>\n",
       "      <th>model_year</th>\n",
       "      <th>distance</th>\n",
       "      <th>repare</th>\n",
       "      <th>model</th>\n",
       "      <th>color</th>\n",
       "    </tr>\n",
       "  </thead>\n",
       "  <tbody>\n",
       "    <tr>\n",
       "      <th>14</th>\n",
       "      <td>https://www.carsensor.net/usedcar/detail/VU525...</td>\n",
       "      <td>75.0</td>\n",
       "      <td>90.3</td>\n",
       "      <td>2014</td>\n",
       "      <td>8.2</td>\n",
       "      <td>なし</td>\n",
       "      <td>FIT</td>\n",
       "      <td>プレミアムホワイトパール</td>\n",
       "    </tr>\n",
       "    <tr>\n",
       "      <th>19</th>\n",
       "      <td>https://www.carsensor.net/usedcar/detail/VU549...</td>\n",
       "      <td>89.8</td>\n",
       "      <td>100.2</td>\n",
       "      <td>2014</td>\n",
       "      <td>6.1</td>\n",
       "      <td>なし</td>\n",
       "      <td>FIT</td>\n",
       "      <td>プレミアムホワイトパール</td>\n",
       "    </tr>\n",
       "    <tr>\n",
       "      <th>24</th>\n",
       "      <td>https://www.carsensor.net/usedcar/detail/VU538...</td>\n",
       "      <td>84.9</td>\n",
       "      <td>95.9</td>\n",
       "      <td>2014</td>\n",
       "      <td>1.0</td>\n",
       "      <td>なし</td>\n",
       "      <td>FIT</td>\n",
       "      <td>プレミアムホワイトパール</td>\n",
       "    </tr>\n",
       "  </tbody>\n",
       "</table>\n",
       "</div>"
      ],
      "text/plain": [
       "                                                  url  base_price  \\\n",
       "14  https://www.carsensor.net/usedcar/detail/VU525...        75.0   \n",
       "19  https://www.carsensor.net/usedcar/detail/VU549...        89.8   \n",
       "24  https://www.carsensor.net/usedcar/detail/VU538...        84.9   \n",
       "\n",
       "    total_price model_year  distance repare model         color  \n",
       "14         90.3       2014       8.2     なし   FIT  プレミアムホワイトパール  \n",
       "19        100.2       2014       6.1     なし   FIT  プレミアムホワイトパール  \n",
       "24         95.9       2014       1.0     なし   FIT  プレミアムホワイトパール  "
      ]
     },
     "metadata": {},
     "output_type": "display_data"
    },
    {
     "name": "stdout",
     "output_type": "stream",
     "text": [
      "プレミアムホワイトパールII\n"
     ]
    },
    {
     "data": {
      "text/html": [
       "<div>\n",
       "<style scoped>\n",
       "    .dataframe tbody tr th:only-of-type {\n",
       "        vertical-align: middle;\n",
       "    }\n",
       "\n",
       "    .dataframe tbody tr th {\n",
       "        vertical-align: top;\n",
       "    }\n",
       "\n",
       "    .dataframe thead th {\n",
       "        text-align: right;\n",
       "    }\n",
       "</style>\n",
       "<table border=\"1\" class=\"dataframe\">\n",
       "  <thead>\n",
       "    <tr style=\"text-align: right;\">\n",
       "      <th></th>\n",
       "      <th>url</th>\n",
       "      <th>base_price</th>\n",
       "      <th>total_price</th>\n",
       "      <th>model_year</th>\n",
       "      <th>distance</th>\n",
       "      <th>repare</th>\n",
       "      <th>model</th>\n",
       "      <th>color</th>\n",
       "    </tr>\n",
       "  </thead>\n",
       "  <tbody>\n",
       "    <tr>\n",
       "      <th>10</th>\n",
       "      <td>https://www.carsensor.net/usedcar/detail/VU514...</td>\n",
       "      <td>89.8</td>\n",
       "      <td>104.2</td>\n",
       "      <td>2016</td>\n",
       "      <td>4.2</td>\n",
       "      <td>なし</td>\n",
       "      <td>FIT</td>\n",
       "      <td>プレミアムホワイトパールII</td>\n",
       "    </tr>\n",
       "  </tbody>\n",
       "</table>\n",
       "</div>"
      ],
      "text/plain": [
       "                                                  url  base_price  \\\n",
       "10  https://www.carsensor.net/usedcar/detail/VU514...        89.8   \n",
       "\n",
       "    total_price model_year  distance repare model           color  \n",
       "10        104.2       2016       4.2     なし   FIT  プレミアムホワイトパールII  "
      ]
     },
     "metadata": {},
     "output_type": "display_data"
    },
    {
     "name": "stdout",
     "output_type": "stream",
     "text": [
      "プレミアムホワイトＰ\n"
     ]
    },
    {
     "data": {
      "text/html": [
       "<div>\n",
       "<style scoped>\n",
       "    .dataframe tbody tr th:only-of-type {\n",
       "        vertical-align: middle;\n",
       "    }\n",
       "\n",
       "    .dataframe tbody tr th {\n",
       "        vertical-align: top;\n",
       "    }\n",
       "\n",
       "    .dataframe thead th {\n",
       "        text-align: right;\n",
       "    }\n",
       "</style>\n",
       "<table border=\"1\" class=\"dataframe\">\n",
       "  <thead>\n",
       "    <tr style=\"text-align: right;\">\n",
       "      <th></th>\n",
       "      <th>url</th>\n",
       "      <th>base_price</th>\n",
       "      <th>total_price</th>\n",
       "      <th>model_year</th>\n",
       "      <th>distance</th>\n",
       "      <th>repare</th>\n",
       "      <th>model</th>\n",
       "      <th>color</th>\n",
       "    </tr>\n",
       "  </thead>\n",
       "  <tbody>\n",
       "    <tr>\n",
       "      <th>22</th>\n",
       "      <td>https://www.carsensor.net/usedcar/detail/VU542...</td>\n",
       "      <td>73.0</td>\n",
       "      <td>85.2</td>\n",
       "      <td>2013</td>\n",
       "      <td>9.2</td>\n",
       "      <td>なし</td>\n",
       "      <td>FIT</td>\n",
       "      <td>プレミアムホワイトＰ</td>\n",
       "    </tr>\n",
       "    <tr>\n",
       "      <th>23</th>\n",
       "      <td>https://www.carsensor.net/usedcar/detail/VU547...</td>\n",
       "      <td>78.0</td>\n",
       "      <td>90.9</td>\n",
       "      <td>2013</td>\n",
       "      <td>2.5</td>\n",
       "      <td>なし</td>\n",
       "      <td>FIT</td>\n",
       "      <td>プレミアムホワイトＰ</td>\n",
       "    </tr>\n",
       "  </tbody>\n",
       "</table>\n",
       "</div>"
      ],
      "text/plain": [
       "                                                  url  base_price  \\\n",
       "22  https://www.carsensor.net/usedcar/detail/VU542...        73.0   \n",
       "23  https://www.carsensor.net/usedcar/detail/VU547...        78.0   \n",
       "\n",
       "    total_price model_year  distance repare model       color  \n",
       "22         85.2       2013       9.2     なし   FIT  プレミアムホワイトＰ  \n",
       "23         90.9       2013       2.5     なし   FIT  プレミアムホワイトＰ  "
      ]
     },
     "metadata": {},
     "output_type": "display_data"
    },
    {
     "name": "stdout",
     "output_type": "stream",
     "text": [
      "プレミアムホワイトＰII\n"
     ]
    },
    {
     "data": {
      "text/html": [
       "<div>\n",
       "<style scoped>\n",
       "    .dataframe tbody tr th:only-of-type {\n",
       "        vertical-align: middle;\n",
       "    }\n",
       "\n",
       "    .dataframe tbody tr th {\n",
       "        vertical-align: top;\n",
       "    }\n",
       "\n",
       "    .dataframe thead th {\n",
       "        text-align: right;\n",
       "    }\n",
       "</style>\n",
       "<table border=\"1\" class=\"dataframe\">\n",
       "  <thead>\n",
       "    <tr style=\"text-align: right;\">\n",
       "      <th></th>\n",
       "      <th>url</th>\n",
       "      <th>base_price</th>\n",
       "      <th>total_price</th>\n",
       "      <th>model_year</th>\n",
       "      <th>distance</th>\n",
       "      <th>repare</th>\n",
       "      <th>model</th>\n",
       "      <th>color</th>\n",
       "    </tr>\n",
       "  </thead>\n",
       "  <tbody>\n",
       "    <tr>\n",
       "      <th>9</th>\n",
       "      <td>https://www.carsensor.net/usedcar/detail/VU529...</td>\n",
       "      <td>89.8</td>\n",
       "      <td>102.0</td>\n",
       "      <td>2016</td>\n",
       "      <td>7.0</td>\n",
       "      <td>なし</td>\n",
       "      <td>FIT</td>\n",
       "      <td>プレミアムホワイトＰII</td>\n",
       "    </tr>\n",
       "  </tbody>\n",
       "</table>\n",
       "</div>"
      ],
      "text/plain": [
       "                                                 url  base_price  total_price  \\\n",
       "9  https://www.carsensor.net/usedcar/detail/VU529...        89.8        102.0   \n",
       "\n",
       "  model_year  distance repare model         color  \n",
       "9       2016       7.0     なし   FIT  プレミアムホワイトＰII  "
      ]
     },
     "metadata": {},
     "output_type": "display_data"
    },
    {
     "name": "stdout",
     "output_type": "stream",
     "text": [
      "ベージュ\n"
     ]
    },
    {
     "data": {
      "text/html": [
       "<div>\n",
       "<style scoped>\n",
       "    .dataframe tbody tr th:only-of-type {\n",
       "        vertical-align: middle;\n",
       "    }\n",
       "\n",
       "    .dataframe tbody tr th {\n",
       "        vertical-align: top;\n",
       "    }\n",
       "\n",
       "    .dataframe thead th {\n",
       "        text-align: right;\n",
       "    }\n",
       "</style>\n",
       "<table border=\"1\" class=\"dataframe\">\n",
       "  <thead>\n",
       "    <tr style=\"text-align: right;\">\n",
       "      <th></th>\n",
       "      <th>url</th>\n",
       "      <th>base_price</th>\n",
       "      <th>total_price</th>\n",
       "      <th>model_year</th>\n",
       "      <th>distance</th>\n",
       "      <th>repare</th>\n",
       "      <th>model</th>\n",
       "      <th>color</th>\n",
       "    </tr>\n",
       "  </thead>\n",
       "  <tbody>\n",
       "    <tr>\n",
       "      <th>3</th>\n",
       "      <td>https://www.carsensor.net/usedcar/detail/VU529...</td>\n",
       "      <td>87.9</td>\n",
       "      <td>88.0</td>\n",
       "      <td>2014</td>\n",
       "      <td>2.6</td>\n",
       "      <td>なし</td>\n",
       "      <td>FIT</td>\n",
       "      <td>ベージュ</td>\n",
       "    </tr>\n",
       "  </tbody>\n",
       "</table>\n",
       "</div>"
      ],
      "text/plain": [
       "                                                 url  base_price  total_price  \\\n",
       "3  https://www.carsensor.net/usedcar/detail/VU529...        87.9         88.0   \n",
       "\n",
       "  model_year  distance repare model color  \n",
       "3       2014       2.6     なし   FIT  ベージュ  "
      ]
     },
     "metadata": {},
     "output_type": "display_data"
    },
    {
     "name": "stdout",
     "output_type": "stream",
     "text": [
      "ホワイト\n"
     ]
    },
    {
     "data": {
      "text/html": [
       "<div>\n",
       "<style scoped>\n",
       "    .dataframe tbody tr th:only-of-type {\n",
       "        vertical-align: middle;\n",
       "    }\n",
       "\n",
       "    .dataframe tbody tr th {\n",
       "        vertical-align: top;\n",
       "    }\n",
       "\n",
       "    .dataframe thead th {\n",
       "        text-align: right;\n",
       "    }\n",
       "</style>\n",
       "<table border=\"1\" class=\"dataframe\">\n",
       "  <thead>\n",
       "    <tr style=\"text-align: right;\">\n",
       "      <th></th>\n",
       "      <th>url</th>\n",
       "      <th>base_price</th>\n",
       "      <th>total_price</th>\n",
       "      <th>model_year</th>\n",
       "      <th>distance</th>\n",
       "      <th>repare</th>\n",
       "      <th>model</th>\n",
       "      <th>color</th>\n",
       "    </tr>\n",
       "  </thead>\n",
       "  <tbody>\n",
       "    <tr>\n",
       "      <th>73</th>\n",
       "      <td>https://www.carsensor.net/usedcar/detail/VU332...</td>\n",
       "      <td>59.9</td>\n",
       "      <td>60.0</td>\n",
       "      <td>2015</td>\n",
       "      <td>9.0</td>\n",
       "      <td>あり</td>\n",
       "      <td>AQUA</td>\n",
       "      <td>ホワイト</td>\n",
       "    </tr>\n",
       "    <tr>\n",
       "      <th>76</th>\n",
       "      <td>https://www.carsensor.net/usedcar/detail/VU501...</td>\n",
       "      <td>47.0</td>\n",
       "      <td>62.5</td>\n",
       "      <td>2015</td>\n",
       "      <td>8.5</td>\n",
       "      <td>なし</td>\n",
       "      <td>AQUA</td>\n",
       "      <td>ホワイト</td>\n",
       "    </tr>\n",
       "    <tr>\n",
       "      <th>77</th>\n",
       "      <td>https://www.carsensor.net/usedcar/detail/VU489...</td>\n",
       "      <td>65.9</td>\n",
       "      <td>66.0</td>\n",
       "      <td>2015</td>\n",
       "      <td>7.4</td>\n",
       "      <td>なし</td>\n",
       "      <td>AQUA</td>\n",
       "      <td>ホワイト</td>\n",
       "    </tr>\n",
       "  </tbody>\n",
       "</table>\n",
       "</div>"
      ],
      "text/plain": [
       "                                                  url  base_price  \\\n",
       "73  https://www.carsensor.net/usedcar/detail/VU332...        59.9   \n",
       "76  https://www.carsensor.net/usedcar/detail/VU501...        47.0   \n",
       "77  https://www.carsensor.net/usedcar/detail/VU489...        65.9   \n",
       "\n",
       "    total_price model_year  distance repare model color  \n",
       "73         60.0       2015       9.0     あり  AQUA  ホワイト  \n",
       "76         62.5       2015       8.5     なし  AQUA  ホワイト  \n",
       "77         66.0       2015       7.4     なし  AQUA  ホワイト  "
      ]
     },
     "metadata": {},
     "output_type": "display_data"
    },
    {
     "name": "stdout",
     "output_type": "stream",
     "text": [
      "ホワイトパール\n"
     ]
    },
    {
     "data": {
      "text/html": [
       "<div>\n",
       "<style scoped>\n",
       "    .dataframe tbody tr th:only-of-type {\n",
       "        vertical-align: middle;\n",
       "    }\n",
       "\n",
       "    .dataframe tbody tr th {\n",
       "        vertical-align: top;\n",
       "    }\n",
       "\n",
       "    .dataframe thead th {\n",
       "        text-align: right;\n",
       "    }\n",
       "</style>\n",
       "<table border=\"1\" class=\"dataframe\">\n",
       "  <thead>\n",
       "    <tr style=\"text-align: right;\">\n",
       "      <th></th>\n",
       "      <th>url</th>\n",
       "      <th>base_price</th>\n",
       "      <th>total_price</th>\n",
       "      <th>model_year</th>\n",
       "      <th>distance</th>\n",
       "      <th>repare</th>\n",
       "      <th>model</th>\n",
       "      <th>color</th>\n",
       "    </tr>\n",
       "  </thead>\n",
       "  <tbody>\n",
       "    <tr>\n",
       "      <th>31</th>\n",
       "      <td>https://www.carsensor.net/usedcar/detail/VU547...</td>\n",
       "      <td>83.8</td>\n",
       "      <td>98.8</td>\n",
       "      <td>2015</td>\n",
       "      <td>9.6</td>\n",
       "      <td>なし</td>\n",
       "      <td>SHUTTLE</td>\n",
       "      <td>ホワイトパール</td>\n",
       "    </tr>\n",
       "  </tbody>\n",
       "</table>\n",
       "</div>"
      ],
      "text/plain": [
       "                                                  url  base_price  \\\n",
       "31  https://www.carsensor.net/usedcar/detail/VU547...        83.8   \n",
       "\n",
       "    total_price model_year  distance repare    model    color  \n",
       "31         98.8       2015       9.6     なし  SHUTTLE  ホワイトパール  "
      ]
     },
     "metadata": {},
     "output_type": "display_data"
    },
    {
     "name": "stdout",
     "output_type": "stream",
     "text": [
      "ミラノレッド\n"
     ]
    },
    {
     "data": {
      "text/html": [
       "<div>\n",
       "<style scoped>\n",
       "    .dataframe tbody tr th:only-of-type {\n",
       "        vertical-align: middle;\n",
       "    }\n",
       "\n",
       "    .dataframe tbody tr th {\n",
       "        vertical-align: top;\n",
       "    }\n",
       "\n",
       "    .dataframe thead th {\n",
       "        text-align: right;\n",
       "    }\n",
       "</style>\n",
       "<table border=\"1\" class=\"dataframe\">\n",
       "  <thead>\n",
       "    <tr style=\"text-align: right;\">\n",
       "      <th></th>\n",
       "      <th>url</th>\n",
       "      <th>base_price</th>\n",
       "      <th>total_price</th>\n",
       "      <th>model_year</th>\n",
       "      <th>distance</th>\n",
       "      <th>repare</th>\n",
       "      <th>model</th>\n",
       "      <th>color</th>\n",
       "    </tr>\n",
       "  </thead>\n",
       "  <tbody>\n",
       "    <tr>\n",
       "      <th>20</th>\n",
       "      <td>https://www.carsensor.net/usedcar/detail/VU458...</td>\n",
       "      <td>69.0</td>\n",
       "      <td>81.3</td>\n",
       "      <td>2013</td>\n",
       "      <td>1.8</td>\n",
       "      <td>なし</td>\n",
       "      <td>FIT</td>\n",
       "      <td>ミラノレッド</td>\n",
       "    </tr>\n",
       "  </tbody>\n",
       "</table>\n",
       "</div>"
      ],
      "text/plain": [
       "                                                  url  base_price  \\\n",
       "20  https://www.carsensor.net/usedcar/detail/VU458...        69.0   \n",
       "\n",
       "    total_price model_year  distance repare model   color  \n",
       "20         81.3       2013       1.8     なし   FIT  ミラノレッド  "
      ]
     },
     "metadata": {},
     "output_type": "display_data"
    },
    {
     "name": "stdout",
     "output_type": "stream",
     "text": [
      "ライトゴールドメタリック\n"
     ]
    },
    {
     "data": {
      "text/html": [
       "<div>\n",
       "<style scoped>\n",
       "    .dataframe tbody tr th:only-of-type {\n",
       "        vertical-align: middle;\n",
       "    }\n",
       "\n",
       "    .dataframe tbody tr th {\n",
       "        vertical-align: top;\n",
       "    }\n",
       "\n",
       "    .dataframe thead th {\n",
       "        text-align: right;\n",
       "    }\n",
       "</style>\n",
       "<table border=\"1\" class=\"dataframe\">\n",
       "  <thead>\n",
       "    <tr style=\"text-align: right;\">\n",
       "      <th></th>\n",
       "      <th>url</th>\n",
       "      <th>base_price</th>\n",
       "      <th>total_price</th>\n",
       "      <th>model_year</th>\n",
       "      <th>distance</th>\n",
       "      <th>repare</th>\n",
       "      <th>model</th>\n",
       "      <th>color</th>\n",
       "    </tr>\n",
       "  </thead>\n",
       "  <tbody>\n",
       "    <tr>\n",
       "      <th>2</th>\n",
       "      <td>https://www.carsensor.net/usedcar/detail/VU553...</td>\n",
       "      <td>84.9</td>\n",
       "      <td>85.0</td>\n",
       "      <td>2014</td>\n",
       "      <td>0.9</td>\n",
       "      <td>なし</td>\n",
       "      <td>FIT</td>\n",
       "      <td>ライトゴールドメタリック</td>\n",
       "    </tr>\n",
       "  </tbody>\n",
       "</table>\n",
       "</div>"
      ],
      "text/plain": [
       "                                                 url  base_price  total_price  \\\n",
       "2  https://www.carsensor.net/usedcar/detail/VU553...        84.9         85.0   \n",
       "\n",
       "  model_year  distance repare model         color  \n",
       "2       2014       0.9     なし   FIT  ライトゴールドメタリック  "
      ]
     },
     "metadata": {},
     "output_type": "display_data"
    },
    {
     "name": "stdout",
     "output_type": "stream",
     "text": [
      "ライトブルー\n"
     ]
    },
    {
     "data": {
      "text/html": [
       "<div>\n",
       "<style scoped>\n",
       "    .dataframe tbody tr th:only-of-type {\n",
       "        vertical-align: middle;\n",
       "    }\n",
       "\n",
       "    .dataframe tbody tr th {\n",
       "        vertical-align: top;\n",
       "    }\n",
       "\n",
       "    .dataframe thead th {\n",
       "        text-align: right;\n",
       "    }\n",
       "</style>\n",
       "<table border=\"1\" class=\"dataframe\">\n",
       "  <thead>\n",
       "    <tr style=\"text-align: right;\">\n",
       "      <th></th>\n",
       "      <th>url</th>\n",
       "      <th>base_price</th>\n",
       "      <th>total_price</th>\n",
       "      <th>model_year</th>\n",
       "      <th>distance</th>\n",
       "      <th>repare</th>\n",
       "      <th>model</th>\n",
       "      <th>color</th>\n",
       "    </tr>\n",
       "  </thead>\n",
       "  <tbody>\n",
       "    <tr>\n",
       "      <th>43</th>\n",
       "      <td>https://www.carsensor.net/usedcar/detail/VU503...</td>\n",
       "      <td>89.8</td>\n",
       "      <td>107.0</td>\n",
       "      <td>2013</td>\n",
       "      <td>2.3</td>\n",
       "      <td>なし</td>\n",
       "      <td>FIELDER</td>\n",
       "      <td>ライトブルー</td>\n",
       "    </tr>\n",
       "    <tr>\n",
       "      <th>50</th>\n",
       "      <td>https://www.carsensor.net/usedcar/detail/VU457...</td>\n",
       "      <td>68.0</td>\n",
       "      <td>85.0</td>\n",
       "      <td>2016</td>\n",
       "      <td>6.3</td>\n",
       "      <td>なし</td>\n",
       "      <td>AQUA</td>\n",
       "      <td>ライトブルー</td>\n",
       "    </tr>\n",
       "    <tr>\n",
       "      <th>55</th>\n",
       "      <td>https://www.carsensor.net/usedcar/detail/VU546...</td>\n",
       "      <td>74.9</td>\n",
       "      <td>75.0</td>\n",
       "      <td>2015</td>\n",
       "      <td>6.0</td>\n",
       "      <td>あり</td>\n",
       "      <td>AQUA</td>\n",
       "      <td>ライトブルー</td>\n",
       "    </tr>\n",
       "  </tbody>\n",
       "</table>\n",
       "</div>"
      ],
      "text/plain": [
       "                                                  url  base_price  \\\n",
       "43  https://www.carsensor.net/usedcar/detail/VU503...        89.8   \n",
       "50  https://www.carsensor.net/usedcar/detail/VU457...        68.0   \n",
       "55  https://www.carsensor.net/usedcar/detail/VU546...        74.9   \n",
       "\n",
       "    total_price model_year  distance repare    model   color  \n",
       "43        107.0       2013       2.3     なし  FIELDER  ライトブルー  \n",
       "50         85.0       2016       6.3     なし     AQUA  ライトブルー  \n",
       "55         75.0       2015       6.0     あり     AQUA  ライトブルー  "
      ]
     },
     "metadata": {},
     "output_type": "display_data"
    },
    {
     "name": "stdout",
     "output_type": "stream",
     "text": [
      "ライトブルーマイカ\n"
     ]
    },
    {
     "data": {
      "text/html": [
       "<div>\n",
       "<style scoped>\n",
       "    .dataframe tbody tr th:only-of-type {\n",
       "        vertical-align: middle;\n",
       "    }\n",
       "\n",
       "    .dataframe tbody tr th {\n",
       "        vertical-align: top;\n",
       "    }\n",
       "\n",
       "    .dataframe thead th {\n",
       "        text-align: right;\n",
       "    }\n",
       "</style>\n",
       "<table border=\"1\" class=\"dataframe\">\n",
       "  <thead>\n",
       "    <tr style=\"text-align: right;\">\n",
       "      <th></th>\n",
       "      <th>url</th>\n",
       "      <th>base_price</th>\n",
       "      <th>total_price</th>\n",
       "      <th>model_year</th>\n",
       "      <th>distance</th>\n",
       "      <th>repare</th>\n",
       "      <th>model</th>\n",
       "      <th>color</th>\n",
       "    </tr>\n",
       "  </thead>\n",
       "  <tbody>\n",
       "    <tr>\n",
       "      <th>29</th>\n",
       "      <td>https://www.carsensor.net/usedcar/detail/VU352...</td>\n",
       "      <td>83.0</td>\n",
       "      <td>97.0</td>\n",
       "      <td>2014</td>\n",
       "      <td>5.0</td>\n",
       "      <td>なし</td>\n",
       "      <td>FIT</td>\n",
       "      <td>ライトブルーマイカ</td>\n",
       "    </tr>\n",
       "  </tbody>\n",
       "</table>\n",
       "</div>"
      ],
      "text/plain": [
       "                                                  url  base_price  \\\n",
       "29  https://www.carsensor.net/usedcar/detail/VU352...        83.0   \n",
       "\n",
       "    total_price model_year  distance repare model      color  \n",
       "29         97.0       2014       5.0     なし   FIT  ライトブルーマイカ  "
      ]
     },
     "metadata": {},
     "output_type": "display_data"
    },
    {
     "name": "stdout",
     "output_type": "stream",
     "text": [
      "ライトベージュＭ\n"
     ]
    },
    {
     "data": {
      "text/html": [
       "<div>\n",
       "<style scoped>\n",
       "    .dataframe tbody tr th:only-of-type {\n",
       "        vertical-align: middle;\n",
       "    }\n",
       "\n",
       "    .dataframe tbody tr th {\n",
       "        vertical-align: top;\n",
       "    }\n",
       "\n",
       "    .dataframe thead th {\n",
       "        text-align: right;\n",
       "    }\n",
       "</style>\n",
       "<table border=\"1\" class=\"dataframe\">\n",
       "  <thead>\n",
       "    <tr style=\"text-align: right;\">\n",
       "      <th></th>\n",
       "      <th>url</th>\n",
       "      <th>base_price</th>\n",
       "      <th>total_price</th>\n",
       "      <th>model_year</th>\n",
       "      <th>distance</th>\n",
       "      <th>repare</th>\n",
       "      <th>model</th>\n",
       "      <th>color</th>\n",
       "    </tr>\n",
       "  </thead>\n",
       "  <tbody>\n",
       "    <tr>\n",
       "      <th>13</th>\n",
       "      <td>https://www.carsensor.net/usedcar/detail/VU538...</td>\n",
       "      <td>73.8</td>\n",
       "      <td>87.2</td>\n",
       "      <td>2014</td>\n",
       "      <td>5.9</td>\n",
       "      <td>なし</td>\n",
       "      <td>FIT</td>\n",
       "      <td>ライトベージュＭ</td>\n",
       "    </tr>\n",
       "  </tbody>\n",
       "</table>\n",
       "</div>"
      ],
      "text/plain": [
       "                                                  url  base_price  \\\n",
       "13  https://www.carsensor.net/usedcar/detail/VU538...        73.8   \n",
       "\n",
       "    total_price model_year  distance repare model     color  \n",
       "13         87.2       2014       5.9     なし   FIT  ライトベージュＭ  "
      ]
     },
     "metadata": {},
     "output_type": "display_data"
    },
    {
     "name": "stdout",
     "output_type": "stream",
     "text": [
      "ライムホワイトパールクリスタルシャイン\n"
     ]
    },
    {
     "data": {
      "text/html": [
       "<div>\n",
       "<style scoped>\n",
       "    .dataframe tbody tr th:only-of-type {\n",
       "        vertical-align: middle;\n",
       "    }\n",
       "\n",
       "    .dataframe tbody tr th {\n",
       "        vertical-align: top;\n",
       "    }\n",
       "\n",
       "    .dataframe thead th {\n",
       "        text-align: right;\n",
       "    }\n",
       "</style>\n",
       "<table border=\"1\" class=\"dataframe\">\n",
       "  <thead>\n",
       "    <tr style=\"text-align: right;\">\n",
       "      <th></th>\n",
       "      <th>url</th>\n",
       "      <th>base_price</th>\n",
       "      <th>total_price</th>\n",
       "      <th>model_year</th>\n",
       "      <th>distance</th>\n",
       "      <th>repare</th>\n",
       "      <th>model</th>\n",
       "      <th>color</th>\n",
       "    </tr>\n",
       "  </thead>\n",
       "  <tbody>\n",
       "    <tr>\n",
       "      <th>61</th>\n",
       "      <td>https://www.carsensor.net/usedcar/detail/VU528...</td>\n",
       "      <td>89.8</td>\n",
       "      <td>104.8</td>\n",
       "      <td>2014</td>\n",
       "      <td>9.3</td>\n",
       "      <td>なし</td>\n",
       "      <td>AQUA</td>\n",
       "      <td>ライムホワイトパールクリスタルシャイン</td>\n",
       "    </tr>\n",
       "    <tr>\n",
       "      <th>71</th>\n",
       "      <td>https://www.carsensor.net/usedcar/detail/VU471...</td>\n",
       "      <td>69.8</td>\n",
       "      <td>82.4</td>\n",
       "      <td>2016</td>\n",
       "      <td>7.0</td>\n",
       "      <td>なし</td>\n",
       "      <td>AQUA</td>\n",
       "      <td>ライムホワイトパールクリスタルシャイン</td>\n",
       "    </tr>\n",
       "    <tr>\n",
       "      <th>72</th>\n",
       "      <td>https://www.carsensor.net/usedcar/detail/VU471...</td>\n",
       "      <td>74.8</td>\n",
       "      <td>87.4</td>\n",
       "      <td>2016</td>\n",
       "      <td>6.1</td>\n",
       "      <td>なし</td>\n",
       "      <td>AQUA</td>\n",
       "      <td>ライムホワイトパールクリスタルシャイン</td>\n",
       "    </tr>\n",
       "  </tbody>\n",
       "</table>\n",
       "</div>"
      ],
      "text/plain": [
       "                                                  url  base_price  \\\n",
       "61  https://www.carsensor.net/usedcar/detail/VU528...        89.8   \n",
       "71  https://www.carsensor.net/usedcar/detail/VU471...        69.8   \n",
       "72  https://www.carsensor.net/usedcar/detail/VU471...        74.8   \n",
       "\n",
       "    total_price model_year  distance repare model                color  \n",
       "61        104.8       2014       9.3     なし  AQUA  ライムホワイトパールクリスタルシャイン  \n",
       "71         82.4       2016       7.0     なし  AQUA  ライムホワイトパールクリスタルシャイン  \n",
       "72         87.4       2016       6.1     なし  AQUA  ライムホワイトパールクリスタルシャイン  "
      ]
     },
     "metadata": {},
     "output_type": "display_data"
    },
    {
     "name": "stdout",
     "output_type": "stream",
     "text": [
      "ルーセブラックＭ\n"
     ]
    },
    {
     "data": {
      "text/html": [
       "<div>\n",
       "<style scoped>\n",
       "    .dataframe tbody tr th:only-of-type {\n",
       "        vertical-align: middle;\n",
       "    }\n",
       "\n",
       "    .dataframe tbody tr th {\n",
       "        vertical-align: top;\n",
       "    }\n",
       "\n",
       "    .dataframe thead th {\n",
       "        text-align: right;\n",
       "    }\n",
       "</style>\n",
       "<table border=\"1\" class=\"dataframe\">\n",
       "  <thead>\n",
       "    <tr style=\"text-align: right;\">\n",
       "      <th></th>\n",
       "      <th>url</th>\n",
       "      <th>base_price</th>\n",
       "      <th>total_price</th>\n",
       "      <th>model_year</th>\n",
       "      <th>distance</th>\n",
       "      <th>repare</th>\n",
       "      <th>model</th>\n",
       "      <th>color</th>\n",
       "    </tr>\n",
       "  </thead>\n",
       "  <tbody>\n",
       "    <tr>\n",
       "      <th>8</th>\n",
       "      <td>https://www.carsensor.net/usedcar/detail/VU547...</td>\n",
       "      <td>89.0</td>\n",
       "      <td>101.5</td>\n",
       "      <td>2016</td>\n",
       "      <td>6.8</td>\n",
       "      <td>なし</td>\n",
       "      <td>FIT</td>\n",
       "      <td>ルーセブラックＭ</td>\n",
       "    </tr>\n",
       "  </tbody>\n",
       "</table>\n",
       "</div>"
      ],
      "text/plain": [
       "                                                 url  base_price  total_price  \\\n",
       "8  https://www.carsensor.net/usedcar/detail/VU547...        89.0        101.5   \n",
       "\n",
       "  model_year  distance repare model     color  \n",
       "8       2016       6.8     なし   FIT  ルーセブラックＭ  "
      ]
     },
     "metadata": {},
     "output_type": "display_data"
    }
   ],
   "source": [
    "show_columns = ['url','base_price','total_price','model_year','distance','repare','model','color']\n",
    "for c, df in cars.groupby('color',as_index=False):\n",
    "    print(c)\n",
    "    display(df[show_columns])"
   ]
  },
  {
   "cell_type": "code",
   "execution_count": 125,
   "metadata": {
    "scrolled": false
   },
   "outputs": [
    {
     "data": {
      "image/png": "[encoded data removed]",
      "text/plain": [
       "<Figure size 1080x595.44 with 1 Axes>"
      ]
     },
     "metadata": {},
     "output_type": "display_data"
    }
   ],
   "source": [
    "sns.set(rc={'figure.figsize':(15,8.27)})\n",
    "sns.set_style(\"whitegrid\", rc= {\"font.family\": \"Noto Sans CJK JP\"})\n",
    "sns.set_context(\"poster\", font_scale = 0.7)\n",
    "g = sns.boxplot(x=\"cruise\", y=\"base_price\", data=cars)\n",
    "a = g.set_xticklabels(g.get_xticklabels(), rotation=90)"
   ]
  },
  {
   "cell_type": "code",
   "execution_count": 126,
   "metadata": {
    "scrolled": false
   },
   "outputs": [
    {
     "data": {
      "text/html": [
       "<div>\n",
       "<style scoped>\n",
       "    .dataframe tbody tr th:only-of-type {\n",
       "        vertical-align: middle;\n",
       "    }\n",
       "\n",
       "    .dataframe tbody tr th {\n",
       "        vertical-align: top;\n",
       "    }\n",
       "\n",
       "    .dataframe thead th {\n",
       "        text-align: right;\n",
       "    }\n",
       "</style>\n",
       "<table border=\"1\" class=\"dataframe\">\n",
       "  <thead>\n",
       "    <tr style=\"text-align: right;\">\n",
       "      <th></th>\n",
       "      <th>url</th>\n",
       "      <th>base_price</th>\n",
       "      <th>total_price</th>\n",
       "      <th>model_year</th>\n",
       "      <th>distance</th>\n",
       "      <th>repare</th>\n",
       "      <th>model</th>\n",
       "      <th>color</th>\n",
       "    </tr>\n",
       "  </thead>\n",
       "  <tbody>\n",
       "    <tr>\n",
       "      <th>4</th>\n",
       "      <td>https://www.carsensor.net/usedcar/detail/VU441...</td>\n",
       "      <td>44.8</td>\n",
       "      <td>59.8</td>\n",
       "      <td>2013</td>\n",
       "      <td>7.1</td>\n",
       "      <td>なし</td>\n",
       "      <td>FIT</td>\n",
       "      <td>ブラックパール</td>\n",
       "    </tr>\n",
       "    <tr>\n",
       "      <th>53</th>\n",
       "      <td>https://www.carsensor.net/usedcar/detail/VU318...</td>\n",
       "      <td>51.8</td>\n",
       "      <td>66.8</td>\n",
       "      <td>2015</td>\n",
       "      <td>9.8</td>\n",
       "      <td>なし</td>\n",
       "      <td>AQUA</td>\n",
       "      <td>ブラックパール</td>\n",
       "    </tr>\n",
       "    <tr>\n",
       "      <th>25</th>\n",
       "      <td>https://www.carsensor.net/usedcar/detail/VU560...</td>\n",
       "      <td>53.8</td>\n",
       "      <td>68.8</td>\n",
       "      <td>2014</td>\n",
       "      <td>6.2</td>\n",
       "      <td>なし</td>\n",
       "      <td>FIT</td>\n",
       "      <td>ブルー</td>\n",
       "    </tr>\n",
       "    <tr>\n",
       "      <th>70</th>\n",
       "      <td>https://www.carsensor.net/usedcar/detail/VU448...</td>\n",
       "      <td>59.8</td>\n",
       "      <td>75.5</td>\n",
       "      <td>2016</td>\n",
       "      <td>8.6</td>\n",
       "      <td>なし</td>\n",
       "      <td>AQUA</td>\n",
       "      <td>ブルーメタリック</td>\n",
       "    </tr>\n",
       "    <tr>\n",
       "      <th>35</th>\n",
       "      <td>https://www.carsensor.net/usedcar/detail/VU502...</td>\n",
       "      <td>62.8</td>\n",
       "      <td>78.6</td>\n",
       "      <td>2014</td>\n",
       "      <td>2.8</td>\n",
       "      <td>なし</td>\n",
       "      <td>GRACE</td>\n",
       "      <td>アラバスタ―シルバーM</td>\n",
       "    </tr>\n",
       "    <tr>\n",
       "      <th>1</th>\n",
       "      <td>https://www.carsensor.net/usedcar/detail/VU550...</td>\n",
       "      <td>67.8</td>\n",
       "      <td>82.8</td>\n",
       "      <td>2014</td>\n",
       "      <td>6.4</td>\n",
       "      <td>なし</td>\n",
       "      <td>FIT</td>\n",
       "      <td>ブラック</td>\n",
       "    </tr>\n",
       "    <tr>\n",
       "      <th>22</th>\n",
       "      <td>https://www.carsensor.net/usedcar/detail/VU542...</td>\n",
       "      <td>73.0</td>\n",
       "      <td>85.2</td>\n",
       "      <td>2013</td>\n",
       "      <td>9.2</td>\n",
       "      <td>なし</td>\n",
       "      <td>FIT</td>\n",
       "      <td>プレミアムホワイトＰ</td>\n",
       "    </tr>\n",
       "    <tr>\n",
       "      <th>36</th>\n",
       "      <td>https://www.carsensor.net/usedcar/detail/VU507...</td>\n",
       "      <td>73.8</td>\n",
       "      <td>89.6</td>\n",
       "      <td>2014</td>\n",
       "      <td>5.8</td>\n",
       "      <td>なし</td>\n",
       "      <td>GRACE</td>\n",
       "      <td>ゴールドブラウンメタリック</td>\n",
       "    </tr>\n",
       "    <tr>\n",
       "      <th>14</th>\n",
       "      <td>https://www.carsensor.net/usedcar/detail/VU525...</td>\n",
       "      <td>75.0</td>\n",
       "      <td>90.3</td>\n",
       "      <td>2014</td>\n",
       "      <td>8.2</td>\n",
       "      <td>なし</td>\n",
       "      <td>FIT</td>\n",
       "      <td>プレミアムホワイトパール</td>\n",
       "    </tr>\n",
       "    <tr>\n",
       "      <th>37</th>\n",
       "      <td>https://www.carsensor.net/usedcar/detail/VU549...</td>\n",
       "      <td>75.8</td>\n",
       "      <td>91.2</td>\n",
       "      <td>2015</td>\n",
       "      <td>9.3</td>\n",
       "      <td>なし</td>\n",
       "      <td>JADE</td>\n",
       "      <td>クリスタルブラックP</td>\n",
       "    </tr>\n",
       "    <tr>\n",
       "      <th>30</th>\n",
       "      <td>https://www.carsensor.net/usedcar/detail/VU544...</td>\n",
       "      <td>77.8</td>\n",
       "      <td>92.8</td>\n",
       "      <td>2016</td>\n",
       "      <td>9.5</td>\n",
       "      <td>なし</td>\n",
       "      <td>SHUTTLE</td>\n",
       "      <td>ダークブルー</td>\n",
       "    </tr>\n",
       "    <tr>\n",
       "      <th>23</th>\n",
       "      <td>https://www.carsensor.net/usedcar/detail/VU547...</td>\n",
       "      <td>78.0</td>\n",
       "      <td>90.9</td>\n",
       "      <td>2013</td>\n",
       "      <td>2.5</td>\n",
       "      <td>なし</td>\n",
       "      <td>FIT</td>\n",
       "      <td>プレミアムホワイトＰ</td>\n",
       "    </tr>\n",
       "    <tr>\n",
       "      <th>15</th>\n",
       "      <td>https://www.carsensor.net/usedcar/detail/VU552...</td>\n",
       "      <td>78.0</td>\n",
       "      <td>91.1</td>\n",
       "      <td>2014</td>\n",
       "      <td>7.3</td>\n",
       "      <td>なし</td>\n",
       "      <td>FIT</td>\n",
       "      <td>アラバスターシルバーＭ</td>\n",
       "    </tr>\n",
       "    <tr>\n",
       "      <th>16</th>\n",
       "      <td>https://www.carsensor.net/usedcar/detail/VU560...</td>\n",
       "      <td>78.9</td>\n",
       "      <td>91.9</td>\n",
       "      <td>2014</td>\n",
       "      <td>4.6</td>\n",
       "      <td>なし</td>\n",
       "      <td>FIT</td>\n",
       "      <td>ブリリアントスポーティブルーメタリック</td>\n",
       "    </tr>\n",
       "    <tr>\n",
       "      <th>5</th>\n",
       "      <td>https://www.carsensor.net/usedcar/detail/VU552...</td>\n",
       "      <td>79.9</td>\n",
       "      <td>102.9</td>\n",
       "      <td>2013</td>\n",
       "      <td>4.8</td>\n",
       "      <td>なし</td>\n",
       "      <td>FIT</td>\n",
       "      <td>アラバスターシルバーＭ</td>\n",
       "    </tr>\n",
       "    <tr>\n",
       "      <th>17</th>\n",
       "      <td>https://www.carsensor.net/usedcar/detail/VU529...</td>\n",
       "      <td>82.0</td>\n",
       "      <td>96.3</td>\n",
       "      <td>2014</td>\n",
       "      <td>4.1</td>\n",
       "      <td>なし</td>\n",
       "      <td>FIT</td>\n",
       "      <td>アトラクトイエローパール</td>\n",
       "    </tr>\n",
       "    <tr>\n",
       "      <th>29</th>\n",
       "      <td>https://www.carsensor.net/usedcar/detail/VU352...</td>\n",
       "      <td>83.0</td>\n",
       "      <td>97.0</td>\n",
       "      <td>2014</td>\n",
       "      <td>5.0</td>\n",
       "      <td>なし</td>\n",
       "      <td>FIT</td>\n",
       "      <td>ライトブルーマイカ</td>\n",
       "    </tr>\n",
       "    <tr>\n",
       "      <th>31</th>\n",
       "      <td>https://www.carsensor.net/usedcar/detail/VU547...</td>\n",
       "      <td>83.8</td>\n",
       "      <td>98.8</td>\n",
       "      <td>2015</td>\n",
       "      <td>9.6</td>\n",
       "      <td>なし</td>\n",
       "      <td>SHUTTLE</td>\n",
       "      <td>ホワイトパール</td>\n",
       "    </tr>\n",
       "    <tr>\n",
       "      <th>24</th>\n",
       "      <td>https://www.carsensor.net/usedcar/detail/VU538...</td>\n",
       "      <td>84.9</td>\n",
       "      <td>95.9</td>\n",
       "      <td>2014</td>\n",
       "      <td>1.0</td>\n",
       "      <td>なし</td>\n",
       "      <td>FIT</td>\n",
       "      <td>プレミアムホワイトパール</td>\n",
       "    </tr>\n",
       "    <tr>\n",
       "      <th>8</th>\n",
       "      <td>https://www.carsensor.net/usedcar/detail/VU547...</td>\n",
       "      <td>89.0</td>\n",
       "      <td>101.5</td>\n",
       "      <td>2016</td>\n",
       "      <td>6.8</td>\n",
       "      <td>なし</td>\n",
       "      <td>FIT</td>\n",
       "      <td>ルーセブラックＭ</td>\n",
       "    </tr>\n",
       "    <tr>\n",
       "      <th>61</th>\n",
       "      <td>https://www.carsensor.net/usedcar/detail/VU528...</td>\n",
       "      <td>89.8</td>\n",
       "      <td>104.8</td>\n",
       "      <td>2014</td>\n",
       "      <td>9.3</td>\n",
       "      <td>なし</td>\n",
       "      <td>AQUA</td>\n",
       "      <td>ライムホワイトパールクリスタルシャイン</td>\n",
       "    </tr>\n",
       "  </tbody>\n",
       "</table>\n",
       "</div>"
      ],
      "text/plain": [
       "                                                  url  base_price  \\\n",
       "4   https://www.carsensor.net/usedcar/detail/VU441...        44.8   \n",
       "53  https://www.carsensor.net/usedcar/detail/VU318...        51.8   \n",
       "25  https://www.carsensor.net/usedcar/detail/VU560...        53.8   \n",
       "70  https://www.carsensor.net/usedcar/detail/VU448...        59.8   \n",
       "35  https://www.carsensor.net/usedcar/detail/VU502...        62.8   \n",
       "1   https://www.carsensor.net/usedcar/detail/VU550...        67.8   \n",
       "22  https://www.carsensor.net/usedcar/detail/VU542...        73.0   \n",
       "36  https://www.carsensor.net/usedcar/detail/VU507...        73.8   \n",
       "14  https://www.carsensor.net/usedcar/detail/VU525...        75.0   \n",
       "37  https://www.carsensor.net/usedcar/detail/VU549...        75.8   \n",
       "30  https://www.carsensor.net/usedcar/detail/VU544...        77.8   \n",
       "23  https://www.carsensor.net/usedcar/detail/VU547...        78.0   \n",
       "15  https://www.carsensor.net/usedcar/detail/VU552...        78.0   \n",
       "16  https://www.carsensor.net/usedcar/detail/VU560...        78.9   \n",
       "5   https://www.carsensor.net/usedcar/detail/VU552...        79.9   \n",
       "17  https://www.carsensor.net/usedcar/detail/VU529...        82.0   \n",
       "29  https://www.carsensor.net/usedcar/detail/VU352...        83.0   \n",
       "31  https://www.carsensor.net/usedcar/detail/VU547...        83.8   \n",
       "24  https://www.carsensor.net/usedcar/detail/VU538...        84.9   \n",
       "8   https://www.carsensor.net/usedcar/detail/VU547...        89.0   \n",
       "61  https://www.carsensor.net/usedcar/detail/VU528...        89.8   \n",
       "\n",
       "    total_price model_year  distance repare    model                color  \n",
       "4          59.8       2013       7.1     なし      FIT              ブラックパール  \n",
       "53         66.8       2015       9.8     なし     AQUA              ブラックパール  \n",
       "25         68.8       2014       6.2     なし      FIT                  ブルー  \n",
       "70         75.5       2016       8.6     なし     AQUA             ブルーメタリック  \n",
       "35         78.6       2014       2.8     なし    GRACE          アラバスタ―シルバーM  \n",
       "1          82.8       2014       6.4     なし      FIT                 ブラック  \n",
       "22         85.2       2013       9.2     なし      FIT           プレミアムホワイトＰ  \n",
       "36         89.6       2014       5.8     なし    GRACE        ゴールドブラウンメタリック  \n",
       "14         90.3       2014       8.2     なし      FIT         プレミアムホワイトパール  \n",
       "37         91.2       2015       9.3     なし     JADE           クリスタルブラックP  \n",
       "30         92.8       2016       9.5     なし  SHUTTLE               ダークブルー  \n",
       "23         90.9       2013       2.5     なし      FIT           プレミアムホワイトＰ  \n",
       "15         91.1       2014       7.3     なし      FIT          アラバスターシルバーＭ  \n",
       "16         91.9       2014       4.6     なし      FIT  ブリリアントスポーティブルーメタリック  \n",
       "5         102.9       2013       4.8     なし      FIT          アラバスターシルバーＭ  \n",
       "17         96.3       2014       4.1     なし      FIT         アトラクトイエローパール  \n",
       "29         97.0       2014       5.0     なし      FIT            ライトブルーマイカ  \n",
       "31         98.8       2015       9.6     なし  SHUTTLE              ホワイトパール  \n",
       "24         95.9       2014       1.0     なし      FIT         プレミアムホワイトパール  \n",
       "8         101.5       2016       6.8     なし      FIT             ルーセブラックＭ  \n",
       "61        104.8       2014       9.3     なし     AQUA  ライムホワイトパールクリスタルシャイン  "
      ]
     },
     "metadata": {},
     "output_type": "display_data"
    }
   ],
   "source": [
    "display(cars.loc[cars['cruise']==1,show_columns].sort_values(['base_price']))"
   ]
  },
  {
   "cell_type": "code",
   "execution_count": null,
   "metadata": {},
   "outputs": [],
   "source": []
  }
 ],
 "metadata": {
  "kernelspec": {
   "display_name": "Python 3",
   "language": "python",
   "name": "python3"
  },
  "language_info": {
   "codemirror_mode": {
    "name": "ipython",
    "version": 3
   },
   "file_extension": ".py",
   "mimetype": "text/x-python",
   "name": "python",
   "nbconvert_exporter": "python",
   "pygments_lexer": "ipython3",
   "version": "3.7.5"
  },
  "toc": {
   "base_numbering": 1,
   "nav_menu": {},
   "number_sections": true,
   "sideBar": true,
   "skip_h1_title": false,
   "title_cell": "Table of Contents",
   "title_sidebar": "Contents",
   "toc_cell": false,
   "toc_position": {},
   "toc_section_display": true,
   "toc_window_display": false
  }
 },
 "nbformat": 4,
 "nbformat_minor": 2
}
